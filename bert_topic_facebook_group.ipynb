{
 "cells": [
  {
   "cell_type": "code",
   "execution_count": 132,
   "metadata": {},
   "outputs": [
    {
     "data": {
      "text/plain": [
       "0     #cfs17338\\nChuyện về ktx ạ :((\\nMình là người ...\n",
       "1     #cfs17337\\nChào các bạn, đêm khuya không ngủ đ...\n",
       "2     #cfs17336\\nMình là sinh viên năm cuối. Năm cuố...\n",
       "3     #cfs17335\\nChuyện thang máy đi từ tầng G đã kh...\n",
       "4     #cfs17334\\nChuyện mình muốn nói hôm nay là vấn...\n",
       "5     #cfs17333\\nKhông có gì nhiều đâu ạ, chỉ là mìn...\n",
       "6     #cfs17333\\n\\nRét vcđ anh chị em ạ, mùa này thấ...\n",
       "7     #cfs17332\\nKhông biết mấy cô ở VP1C có điều gì...\n",
       "8     <Góc những trái t❤m đi lạc>\\n#cfs17330\\nXin ch...\n",
       "9     #cfs17329\\nGóc tìm kẻ c.ắ.p!!!\\nChào ad, mình ...\n",
       "10      Công tác chuẩn bị 20/11 ở Malibu ngay lúc này 🥰\n",
       "11    #cfs17328\\nMình không hiểu tại sao có những bạ...\n",
       "12    #cfs17327\\nDạo này thấy cfs xôm quá lại nhớ nă...\n",
       "13    #cfs17325\\nBạn nam D21CN và bạn D21DT ở lớp XX...\n",
       "14    #cfs17324\\nChúng ta không thể làm bạn với ngườ...\n",
       "15    #cfs17323\\nmn cho e xin in4 chị mặc áo đồng ph...\n",
       "16    #cfs17322\\nXin đính chính trước là mình không ...\n",
       "17    #cfs17321\\nMình biết là mình dễ lừa nhưng mà c...\n",
       "18                    Thời thế sinh barbershop Malibu 😍\n",
       "19    #cfs17320\\nGần đây đã có lịch thi trên qldt nê...\n",
       "Name: paper_text, dtype: object"
      ]
     },
     "execution_count": 132,
     "metadata": {},
     "output_type": "execute_result"
    }
   ],
   "source": [
    "import pandas as pd\n",
    "import matplotlib.pyplot as plt\n",
    "from collections import Counter\n",
    "papers = pd.read_csv('./data_face/data_xuli_16112023_ner_sentiment.csv')\n",
    "# convert type of column\n",
    "papers.rename(columns={'text': 'paper_text'}, inplace=True)\n",
    "papers['paper_text'].astype(str)\n",
    "# Print head\n",
    "# print(papers.head())\n",
    "# print(papers.shape)\n",
    "# print(papers['paper_text'][0])\n",
    "# print(papers['location'][0])\n",
    "# print(papers['person'][0])\n",
    "# print(papers['organization'][0])"
   ]
  },
  {
   "cell_type": "code",
   "execution_count": 133,
   "metadata": {},
   "outputs": [
    {
     "data": {
      "text/html": [
       "<div>\n",
       "<style scoped>\n",
       "    .dataframe tbody tr th:only-of-type {\n",
       "        vertical-align: middle;\n",
       "    }\n",
       "\n",
       "    .dataframe tbody tr th {\n",
       "        vertical-align: top;\n",
       "    }\n",
       "\n",
       "    .dataframe thead th {\n",
       "        text-align: right;\n",
       "    }\n",
       "</style>\n",
       "<table border=\"1\" class=\"dataframe\">\n",
       "  <thead>\n",
       "    <tr style=\"text-align: right;\">\n",
       "      <th></th>\n",
       "      <th>post_id</th>\n",
       "      <th>paper_text</th>\n",
       "      <th>time</th>\n",
       "      <th>timestamp</th>\n",
       "      <th>comments</th>\n",
       "      <th>shares</th>\n",
       "      <th>post_url</th>\n",
       "      <th>user_id</th>\n",
       "      <th>username</th>\n",
       "      <th>reaction_count</th>\n",
       "      <th>...</th>\n",
       "      <th>yêu thích</th>\n",
       "      <th>haha</th>\n",
       "      <th>wow</th>\n",
       "      <th>buồn</th>\n",
       "      <th>phẫn nộ</th>\n",
       "      <th>thương thương</th>\n",
       "      <th>comments_full</th>\n",
       "      <th>commenter_name</th>\n",
       "      <th>negative</th>\n",
       "      <th>positive</th>\n",
       "    </tr>\n",
       "  </thead>\n",
       "  <tbody>\n",
       "    <tr>\n",
       "      <th>0</th>\n",
       "      <td>714667314027730</td>\n",
       "      <td>#cfs17338\\nChuyện về ktx ạ :((\\nMình là người ...</td>\n",
       "      <td>2023-11-16 11:01:33</td>\n",
       "      <td>1700107293</td>\n",
       "      <td>23</td>\n",
       "      <td>0</td>\n",
       "      <td>https://facebook.com/PtitCfsOfficial/posts/714...</td>\n",
       "      <td>100064534036414</td>\n",
       "      <td>PTIT Confessions</td>\n",
       "      <td>79</td>\n",
       "      <td>...</td>\n",
       "      <td>1.0</td>\n",
       "      <td>3.0</td>\n",
       "      <td>2.0</td>\n",
       "      <td>2.0</td>\n",
       "      <td>0.0</td>\n",
       "      <td>0.0</td>\n",
       "      <td>Phí Thúy 1h đêm đừng có học nữa Bạn aim bn, mì...</td>\n",
       "      <td>Nguyễn Thị Thanh Thảo, Nguyễn Tuấn Anh, Cường ...</td>\n",
       "      <td>0</td>\n",
       "      <td>1</td>\n",
       "    </tr>\n",
       "    <tr>\n",
       "      <th>1</th>\n",
       "      <td>714236537404141</td>\n",
       "      <td>#cfs17337\\nChào các bạn, đêm khuya không ngủ đ...</td>\n",
       "      <td>2023-11-15 20:02:08</td>\n",
       "      <td>1700053328</td>\n",
       "      <td>120</td>\n",
       "      <td>1</td>\n",
       "      <td>https://facebook.com/PtitCfsOfficial/posts/714...</td>\n",
       "      <td>100064534036414</td>\n",
       "      <td>PTIT Confessions</td>\n",
       "      <td>178</td>\n",
       "      <td>...</td>\n",
       "      <td>0.0</td>\n",
       "      <td>74.0</td>\n",
       "      <td>1.0</td>\n",
       "      <td>24.0</td>\n",
       "      <td>1.0</td>\n",
       "      <td>0.0</td>\n",
       "      <td>Minhh Hạnh ô b à Ý là bạn với ny giận nhau là ...</td>\n",
       "      <td>Vũ Hiếu, Sky Otaku Sama, Ngọc Quỳnh, Trang, Ng...</td>\n",
       "      <td>0</td>\n",
       "      <td>1</td>\n",
       "    </tr>\n",
       "    <tr>\n",
       "      <th>2</th>\n",
       "      <td>713014190859709</td>\n",
       "      <td>#cfs17336\\nMình là sinh viên năm cuối. Năm cuố...</td>\n",
       "      <td>2023-11-15 15:02:03</td>\n",
       "      <td>1700035323</td>\n",
       "      <td>54</td>\n",
       "      <td>0</td>\n",
       "      <td>https://facebook.com/PtitCfsOfficial/posts/713...</td>\n",
       "      <td>100064534036414</td>\n",
       "      <td>PTIT Confessions</td>\n",
       "      <td>160</td>\n",
       "      <td>...</td>\n",
       "      <td>3.0</td>\n",
       "      <td>4.0</td>\n",
       "      <td>1.0</td>\n",
       "      <td>29.0</td>\n",
       "      <td>0.0</td>\n",
       "      <td>0.0</td>\n",
       "      <td>qua team tôi cho bạn mặc sức làm từ đầu tới cu...</td>\n",
       "      <td>Phan Huy, Nguyễn Khôi Nguyên, Hiếu Hóm Hỉnh, Đ...</td>\n",
       "      <td>1</td>\n",
       "      <td>0</td>\n",
       "    </tr>\n",
       "    <tr>\n",
       "      <th>3</th>\n",
       "      <td>713013604193101</td>\n",
       "      <td>#cfs17335\\nChuyện thang máy đi từ tầng G đã kh...</td>\n",
       "      <td>2023-11-15 10:13:03</td>\n",
       "      <td>1700017983</td>\n",
       "      <td>312</td>\n",
       "      <td>3</td>\n",
       "      <td>https://facebook.com/PtitCfsOfficial/posts/713...</td>\n",
       "      <td>100064534036414</td>\n",
       "      <td>PTIT Confessions</td>\n",
       "      <td>358</td>\n",
       "      <td>...</td>\n",
       "      <td>1.0</td>\n",
       "      <td>46.0</td>\n",
       "      <td>4.0</td>\n",
       "      <td>169.0</td>\n",
       "      <td>1.0</td>\n",
       "      <td>1.0</td>\n",
       "      <td>Hên sáng nay k đi học =))) Thuy Luong Thi ôi x...</td>\n",
       "      <td>Hoàn Yên, Huệ Thanh Trần, Như Thắng, Trường Gi...</td>\n",
       "      <td>1</td>\n",
       "      <td>0</td>\n",
       "    </tr>\n",
       "    <tr>\n",
       "      <th>4</th>\n",
       "      <td>713013097526485</td>\n",
       "      <td>#cfs17334\\nChuyện mình muốn nói hôm nay là vấn...</td>\n",
       "      <td>2023-11-14 14:10:00</td>\n",
       "      <td>1699945800</td>\n",
       "      <td>16</td>\n",
       "      <td>0</td>\n",
       "      <td>https://facebook.com/PtitCfsOfficial/posts/713...</td>\n",
       "      <td>100064534036414</td>\n",
       "      <td>PTIT Confessions</td>\n",
       "      <td>100</td>\n",
       "      <td>...</td>\n",
       "      <td>10.0</td>\n",
       "      <td>0.0</td>\n",
       "      <td>0.0</td>\n",
       "      <td>10.0</td>\n",
       "      <td>0.0</td>\n",
       "      <td>0.0</td>\n",
       "      <td>Đức Nam hình như chửi a với m Dương Phạm đừng ...</td>\n",
       "      <td>Lý Trọng Nghĩa, Hoàng Đức Khiêm, Trang Trần, H...</td>\n",
       "      <td>0</td>\n",
       "      <td>1</td>\n",
       "    </tr>\n",
       "  </tbody>\n",
       "</table>\n",
       "<p>5 rows × 21 columns</p>\n",
       "</div>"
      ],
      "text/plain": [
       "           post_id                                         paper_text  \\\n",
       "0  714667314027730  #cfs17338\\nChuyện về ktx ạ :((\\nMình là người ...   \n",
       "1  714236537404141  #cfs17337\\nChào các bạn, đêm khuya không ngủ đ...   \n",
       "2  713014190859709  #cfs17336\\nMình là sinh viên năm cuối. Năm cuố...   \n",
       "3  713013604193101  #cfs17335\\nChuyện thang máy đi từ tầng G đã kh...   \n",
       "4  713013097526485  #cfs17334\\nChuyện mình muốn nói hôm nay là vấn...   \n",
       "\n",
       "                  time   timestamp  comments  shares  \\\n",
       "0  2023-11-16 11:01:33  1700107293        23       0   \n",
       "1  2023-11-15 20:02:08  1700053328       120       1   \n",
       "2  2023-11-15 15:02:03  1700035323        54       0   \n",
       "3  2023-11-15 10:13:03  1700017983       312       3   \n",
       "4  2023-11-14 14:10:00  1699945800        16       0   \n",
       "\n",
       "                                            post_url          user_id  \\\n",
       "0  https://facebook.com/PtitCfsOfficial/posts/714...  100064534036414   \n",
       "1  https://facebook.com/PtitCfsOfficial/posts/714...  100064534036414   \n",
       "2  https://facebook.com/PtitCfsOfficial/posts/713...  100064534036414   \n",
       "3  https://facebook.com/PtitCfsOfficial/posts/713...  100064534036414   \n",
       "4  https://facebook.com/PtitCfsOfficial/posts/713...  100064534036414   \n",
       "\n",
       "           username  reaction_count  ...  yêu thích  haha  wow   buồn  \\\n",
       "0  PTIT Confessions              79  ...        1.0   3.0  2.0    2.0   \n",
       "1  PTIT Confessions             178  ...        0.0  74.0  1.0   24.0   \n",
       "2  PTIT Confessions             160  ...        3.0   4.0  1.0   29.0   \n",
       "3  PTIT Confessions             358  ...        1.0  46.0  4.0  169.0   \n",
       "4  PTIT Confessions             100  ...       10.0   0.0  0.0   10.0   \n",
       "\n",
       "   phẫn nộ  thương thương                                      comments_full  \\\n",
       "0      0.0            0.0  Phí Thúy 1h đêm đừng có học nữa Bạn aim bn, mì...   \n",
       "1      1.0            0.0  Minhh Hạnh ô b à Ý là bạn với ny giận nhau là ...   \n",
       "2      0.0            0.0  qua team tôi cho bạn mặc sức làm từ đầu tới cu...   \n",
       "3      1.0            1.0  Hên sáng nay k đi học =))) Thuy Luong Thi ôi x...   \n",
       "4      0.0            0.0  Đức Nam hình như chửi a với m Dương Phạm đừng ...   \n",
       "\n",
       "                                      commenter_name negative  positive  \n",
       "0  Nguyễn Thị Thanh Thảo, Nguyễn Tuấn Anh, Cường ...        0         1  \n",
       "1  Vũ Hiếu, Sky Otaku Sama, Ngọc Quỳnh, Trang, Ng...        0         1  \n",
       "2  Phan Huy, Nguyễn Khôi Nguyên, Hiếu Hóm Hỉnh, Đ...        1         0  \n",
       "3  Hoàn Yên, Huệ Thanh Trần, Như Thắng, Trường Gi...        1         0  \n",
       "4  Lý Trọng Nghĩa, Hoàng Đức Khiêm, Trang Trần, H...        0         1  \n",
       "\n",
       "[5 rows x 21 columns]"
      ]
     },
     "execution_count": 133,
     "metadata": {},
     "output_type": "execute_result"
    }
   ],
   "source": [
    "papers.head()"
   ]
  },
  {
   "cell_type": "code",
   "execution_count": 134,
   "metadata": {},
   "outputs": [
    {
     "name": "stdout",
     "output_type": "stream",
     "text": [
      "0\n",
      "           post_id                                         paper_text  \\\n",
      "0  714667314027730  #cfs17338\\nChuyện về ktx ạ :((\\nMình là người ...   \n",
      "1  714236537404141  #cfs17337\\nChào các bạn, đêm khuya không ngủ đ...   \n",
      "2  713014190859709  #cfs17336\\nMình là sinh viên năm cuối. Năm cuố...   \n",
      "3  713013604193101  #cfs17335\\nChuyện thang máy đi từ tầng G đã kh...   \n",
      "4  713013097526485  #cfs17334\\nChuyện mình muốn nói hôm nay là vấn...   \n",
      "\n",
      "                  time   timestamp  comments  shares  \\\n",
      "0  2023-11-16 11:01:33  1700107293        23       0   \n",
      "1  2023-11-15 20:02:08  1700053328       120       1   \n",
      "2  2023-11-15 15:02:03  1700035323        54       0   \n",
      "3  2023-11-15 10:13:03  1700017983       312       3   \n",
      "4  2023-11-14 14:10:00  1699945800        16       0   \n",
      "\n",
      "                                            post_url          user_id  \\\n",
      "0  https://facebook.com/PtitCfsOfficial/posts/714...  100064534036414   \n",
      "1  https://facebook.com/PtitCfsOfficial/posts/714...  100064534036414   \n",
      "2  https://facebook.com/PtitCfsOfficial/posts/713...  100064534036414   \n",
      "3  https://facebook.com/PtitCfsOfficial/posts/713...  100064534036414   \n",
      "4  https://facebook.com/PtitCfsOfficial/posts/713...  100064534036414   \n",
      "\n",
      "           username  reaction_count  ...  yêu thích  haha  wow   buồn  \\\n",
      "0  PTIT Confessions              79  ...        1.0   3.0  2.0    2.0   \n",
      "1  PTIT Confessions             178  ...        0.0  74.0  1.0   24.0   \n",
      "2  PTIT Confessions             160  ...        3.0   4.0  1.0   29.0   \n",
      "3  PTIT Confessions             358  ...        1.0  46.0  4.0  169.0   \n",
      "4  PTIT Confessions             100  ...       10.0   0.0  0.0   10.0   \n",
      "\n",
      "   phẫn nộ  thương thương                                      comments_full  \\\n",
      "0      0.0            0.0  Phí Thúy 1h đêm đừng có học nữa Bạn aim bn, mì...   \n",
      "1      1.0            0.0  Minhh Hạnh ô b à Ý là bạn với ny giận nhau là ...   \n",
      "2      0.0            0.0  qua team tôi cho bạn mặc sức làm từ đầu tới cu...   \n",
      "3      1.0            1.0  Hên sáng nay k đi học =))) Thuy Luong Thi ôi x...   \n",
      "4      0.0            0.0  Đức Nam hình như chửi a với m Dương Phạm đừng ...   \n",
      "\n",
      "                                      commenter_name negative  positive  \n",
      "0  Nguyễn Thị Thanh Thảo, Nguyễn Tuấn Anh, Cường ...        0         1  \n",
      "1  Vũ Hiếu, Sky Otaku Sama, Ngọc Quỳnh, Trang, Ng...        0         1  \n",
      "2  Phan Huy, Nguyễn Khôi Nguyên, Hiếu Hóm Hỉnh, Đ...        1         0  \n",
      "3  Hoàn Yên, Huệ Thanh Trần, Như Thắng, Trường Gi...        1         0  \n",
      "4  Lý Trọng Nghĩa, Hoàng Đức Khiêm, Trang Trần, H...        0         1  \n",
      "\n",
      "[5 rows x 21 columns]\n",
      "<class 'pandas.core.frame.DataFrame'>\n",
      "RangeIndex: 20 entries, 0 to 19\n",
      "Data columns (total 21 columns):\n",
      " #   Column          Non-Null Count  Dtype  \n",
      "---  ------          --------------  -----  \n",
      " 0   post_id         20 non-null     int64  \n",
      " 1   paper_text      20 non-null     object \n",
      " 2   time            20 non-null     object \n",
      " 3   timestamp       20 non-null     int64  \n",
      " 4   comments        20 non-null     int64  \n",
      " 5   shares          20 non-null     int64  \n",
      " 6   post_url        20 non-null     object \n",
      " 7   user_id         20 non-null     int64  \n",
      " 8   username        20 non-null     object \n",
      " 9   reaction_count  20 non-null     int64  \n",
      " 10  thích           20 non-null     float64\n",
      " 11  yêu thích       20 non-null     float64\n",
      " 12  haha            20 non-null     float64\n",
      " 13  wow             20 non-null     float64\n",
      " 14  buồn            20 non-null     float64\n",
      " 15  phẫn nộ         20 non-null     float64\n",
      " 16  thương thương   20 non-null     float64\n",
      " 17  comments_full   20 non-null     object \n",
      " 18  commenter_name  20 non-null     object \n",
      " 19  negative        20 non-null     int64  \n",
      " 20  positive        20 non-null     int64  \n",
      "dtypes: float64(7), int64(8), object(6)\n",
      "memory usage: 3.4+ KB\n",
      "None\n"
     ]
    }
   ],
   "source": [
    "import numpy as np\n",
    "# duplicated\n",
    "print(papers.duplicated().sum())\n",
    "papers.drop_duplicates(inplace=True)\n",
    "\n",
    "# drop nan\n",
    "papers.dropna(axis=0, inplace=True, how=\"any\")\n",
    "# drop inf\n",
    "papers.replace([np.inf, -np.inf], np.nan, inplace=True)\n",
    "papers.replace('', np.nan, inplace=True)\n",
    "papers.dropna(inplace=True,how='any',axis=0)\n",
    "# Remove the columns\n",
    "try:\n",
    "    papers = papers.drop(columns=['id', 'event_type', 'pdf_name'], axis=1).sample(100)\n",
    "except:\n",
    "    pass\n",
    "\n",
    "# Print out the first rows of papers\n",
    "print(papers.head())\n",
    "print(papers.info())\n",
    "papers.reset_index(inplace=True, drop=True)"
   ]
  },
  {
   "cell_type": "code",
   "execution_count": 135,
   "metadata": {},
   "outputs": [],
   "source": [
    "# get timestamps\n",
    "timestamps = papers.time.to_list()"
   ]
  },
  {
   "cell_type": "code",
   "execution_count": 136,
   "metadata": {},
   "outputs": [
    {
     "name": "stdout",
     "output_type": "stream",
     "text": [
      "#cfs17338 chuyện về ktx ạ :(( mình là người rất hướng nội nên rất sợ khi đưa ra ý kiến hay phàn nàn gì đấy mình biết ở ktx mà cần không gian riêng tư thì rất khó nhưng mà những bạn ở ktx thì cũng nên để ý ng khác 1 tí cũng hơi khuya rồi mà nói chuyện rất to kiểu kp ai cũng học người làm này làm kia nma làm ơn nói bé lại xíu cũng được mìnhxem thêm luyện nghe toeic mà bật max tai nghe vẫn k thắng nổi tiếng của các bạn nên là please làm gì làm thì cũng nên để ý đến người khác nữa vì sống tập thể mà🥹 mình k dám nói trực tiếp chỉ viết lên đây nếu bạn nào thấy bản thân như vậy thì hãy nói bé lại vì còn những ng khác trong phòng nhé 🥰 cảm ơn vì đã đọc chúc mn 1 ngày vui vẻ ạ  -\\-\\-\\-\\-\\-\\-\\-\\-\\-\\-\\-\\-\\-\\-\\-\\-\\-\\-\\-\\-\\-\\-\\-\\-\\-\\-\\-\\-\\-\\-\\-\\- 💥 gửi cfs tại: http://bitly/ptitcfshn ptit confessions offical (since 2013) email: ptitcfshanoi@gmailcom #ptitconfessions #ptitcfs #ptitcogivui #sinhvienptit #congdongptit #ptitmaidinh\n",
      "#cfs17337 chào các bạn đêm khuya không ngủ được xong mình quyết định viết cfs này chuyện là mình với ny mình yêu nhau cũng hơn năm rồi xong dạo này hay giận nhau không biết có phải do vậy hay k mà mình gặp 1 anh xong bị thích và trước mik thấy chắc cảm xúc nhất thời nma giờ lạ lắm😞 (anh lớn hơn mình với ny cùng tuổi) huhu mình thấy bản thânxem thêm thật tồi tệ không biết có ai từng trải qua cảm giác này chưa :((  kiểu mình với a kia cũng k tiếp xúc nhiều chưa biết j về nhau nhiều nma mik cứ có ấn tượng gì đấy và luôn muốn đc gặp:(( mình tồi quá mình viết bài này cũng sợ bị ném đá nma mik muốn biết có bạn nào ac nào từng trải qua cảm giác như thế k ạ🥺 e phải điều chỉnh cảm xúc như nào đây huhu  -\\-\\-\\-\\-\\-\\-\\-\\-\\-\\-\\-\\-\\-\\-\\-\\-\\-\\-\\-\\-\\-\\-\\-\\-\\-\\-\\-\\-\\-\\-\\-\\- 💥 gửi cfs tại: http://bitly/ptitcfshn ptit confessions offical (since 2013) email: ptitcfshanoi@gmailcom  #ptitconfessions #ptitcfs #ptitcogivui #sinhvienptit #congdongptit #ptitmaidinh\n",
      "#cfs17336 mình là sinh viên năm cuối năm cuối rồi deadline cũng nhiều và dồn dập và việc teamwork cũng nhiều khi làm teamwork mình cảm thấy không được tôn trọng lắm thì phải nhiều lần mình làm xong không được đồng quan điểm với các bạn ấy là các bạn ý bác bỏ một cách phũ phàng ạ ( thậm chí xoá luôn phần mình làm và đưa ý của các bạn ý vào) xem thêm thực sự nhiều khi chỉ muốn làm một mình  chứ làm nhóm đã đau đầu mệt mỏi lại thêm stress vì gặp được những người bạn thiếu tôn trọng vậy 😞  -\\-\\-\\-\\-\\-\\-\\-\\-\\-\\-\\-\\-\\-\\-\\-\\-\\-\\-\\-\\-\\-\\-\\-\\-\\-\\-\\-\\-\\-\\-\\-\\- 💥 gửi cfs tại: http://bitly/ptitcfshn ptit confessions offical (since 2013) email: ptitcfshanoi@gmailcom  #ptitconfessions #ptitcfs #ptitcogivui #sinhvienptit #congdongptit #ptitmaidinh\n"
     ]
    }
   ],
   "source": [
    "# Load the regular expression library\n",
    "import re\n",
    "\n",
    "# Remove punctuation\n",
    "papers['paper_text_processed'] = papers['paper_text'].map(lambda x: re.sub('[,\\.!?]', '', x))\n",
    "# replace \\n\n",
    "papers['paper_text_processed'] = papers['paper_text_processed'].map(lambda x: re.sub('\\n', ' ', x))\n",
    "# Convert the titles to lowercase\n",
    "papers['paper_text_processed'] = \\\n",
    "papers['paper_text_processed'].map(lambda x: x.lower())\n",
    "\n",
    "# Print out the first rows of papers\n",
    "print(papers['paper_text_processed'][0])\n",
    "print(papers['paper_text_processed'][1])\n",
    "print(papers['paper_text_processed'][2])"
   ]
  },
  {
   "cell_type": "code",
   "execution_count": 137,
   "metadata": {},
   "outputs": [
    {
     "data": {
      "image/jpeg": "[encoded data removed]",
      "image/png": "[encoded data removed]",
      "text/plain": [
       "<PIL.Image.Image image mode=RGB size=400x200>"
      ]
     },
     "execution_count": 137,
     "metadata": {},
     "output_type": "execute_result"
    }
   ],
   "source": [
    "# Import the wordcloud library\n",
    "from wordcloud import WordCloud\n",
    "\n",
    "# Join the different processed titles together.\n",
    "long_string = ','.join(list(papers['paper_text_processed'].values))\n",
    "\n",
    "# Create a WordCloud object\n",
    "wordcloud = WordCloud(background_color=\"white\", max_words=1000, contour_width=3, contour_color='steelblue')\n",
    "\n",
    "# Generate a word cloud\n",
    "wordcloud.generate(long_string)\n",
    "\n",
    "# Visualize the word cloud\n",
    "wordcloud.to_image()"
   ]
  },
  {
   "cell_type": "code",
   "execution_count": 138,
   "metadata": {},
   "outputs": [
    {
     "name": "stderr",
     "output_type": "stream",
     "text": [
      "[nltk_data] Downloading package stopwords to\n",
      "[nltk_data]     /home/minhthuy/nltk_data...\n",
      "[nltk_data]   Package stopwords is already up-to-date!\n",
      "[nltk_data] Downloading package punkt to /home/minhthuy/nltk_data...\n",
      "[nltk_data]   Package punkt is already up-to-date!\n"
     ]
    },
    {
     "name": "stdout",
     "output_type": "stream",
     "text": [
      "text 0:  #cfs17338 chuyện về ktx ạ :(( mình là người rất hướng nội nên rất sợ khi đưa ra ý kiến hay phàn nàn gì đấy mình biết ở ktx mà cần không gian riêng tư thì rất khó nhưng mà những bạn ở ktx thì cũng nên để ý ng khác 1 tí cũng hơi khuya rồi mà nói chuyện rất to kiểu kp ai cũng học người làm này làm kia nma làm ơn nói bé lại xíu cũng được mìnhxem thêm luyện nghe toeic mà bật max tai nghe vẫn k thắng nổi tiếng của các bạn nên là please làm gì làm thì cũng nên để ý đến người khác nữa vì sống tập thể mà🥹 mình k dám nói trực tiếp chỉ viết lên đây nếu bạn nào thấy bản thân như vậy thì hãy nói bé lại vì còn những ng khác trong phòng nhé 🥰 cảm ơn vì đã đọc chúc mn 1 ngày vui vẻ ạ  -\\-\\-\\-\\-\\-\\-\\-\\-\\-\\-\\-\\-\\-\\-\\-\\-\\-\\-\\-\\-\\-\\-\\-\\-\\-\\-\\-\\-\\-\\-\\-\\- 💥 gửi cfs tại: http://bitly/ptitcfshn ptit confessions offical (since 2013) email: ptitcfshanoi@gmailcom #ptitconfessions #ptitcfs #ptitcogivui #sinhvienptit #congdongptit #ptitmaidinh\n",
      "text 1:  #cfs17337 chào các bạn đêm khuya không ngủ được xong mình quyết định viết cfs này chuyện là mình với ny mình yêu nhau cũng hơn năm rồi xong dạo này hay giận nhau không biết có phải do vậy hay k mà mình gặp 1 anh xong bị thích và trước mik thấy chắc cảm xúc nhất thời nma giờ lạ lắm😞 (anh lớn hơn mình với ny cùng tuổi) huhu mình thấy bản thânxem thêm thật tồi tệ không biết có ai từng trải qua cảm giác này chưa :((  kiểu mình với a kia cũng k tiếp xúc nhiều chưa biết j về nhau nhiều nma mik cứ có ấn tượng gì đấy và luôn muốn đc gặp:(( mình tồi quá mình viết bài này cũng sợ bị ném đá nma mik muốn biết có bạn nào ac nào từng trải qua cảm giác như thế k ạ🥺 e phải điều chỉnh cảm xúc như nào đây huhu  -\\-\\-\\-\\-\\-\\-\\-\\-\\-\\-\\-\\-\\-\\-\\-\\-\\-\\-\\-\\-\\-\\-\\-\\-\\-\\-\\-\\-\\-\\-\\-\\- 💥 gửi cfs tại: http://bitly/ptitcfshn ptit confessions offical (since 2013) email: ptitcfshanoi@gmailcom  #ptitconfessions #ptitcfs #ptitcogivui #sinhvienptit #congdongptit #ptitmaidinh\n",
      "text 2:  #cfs17336 mình là sinh viên năm cuối năm cuối rồi deadline cũng nhiều và dồn dập và việc teamwork cũng nhiều khi làm teamwork mình cảm thấy không được tôn trọng lắm thì phải nhiều lần mình làm xong không được đồng quan điểm với các bạn ấy là các bạn ý bác bỏ một cách phũ phàng ạ ( thậm chí xoá luôn phần mình làm và đưa ý của các bạn ý vào) xem thêm thực sự nhiều khi chỉ muốn làm một mình  chứ làm nhóm đã đau đầu mệt mỏi lại thêm stress vì gặp được những người bạn thiếu tôn trọng vậy 😞  -\\-\\-\\-\\-\\-\\-\\-\\-\\-\\-\\-\\-\\-\\-\\-\\-\\-\\-\\-\\-\\-\\-\\-\\-\\-\\-\\-\\-\\-\\-\\-\\- 💥 gửi cfs tại: http://bitly/ptitcfshn ptit confessions offical (since 2013) email: ptitcfshanoi@gmailcom  #ptitconfessions #ptitcfs #ptitcogivui #sinhvienptit #congdongptit #ptitmaidinh\n",
      "text 0:  ký_túc_xá hướng nội_sợ ý_kiến phàn_nàn ký_túc_xá không_gian tư_khó ký_túc_xá để_ý tí khuya nói_chuyện to kiểu kp học kia nma làm_ơn bé xíu mìnhxem_luyện toeic bật max_tai thắng nổi_tiếng please để_ý sống tập_thể dám viết bé phòng đọc chúc vui_vẻ\n",
      "text 1:  chào đêm khuya ngủ xong quyết_định viết ny yêu xong dạo giận xong cảm_xúc thời nma lạ ny huhu thânxem tồi_tệ từng_trải cảm_giác kiểu kia tiếp_xúc nma ấn_tượng đấy tồi viết sợ ném đá nma anh_chị từng_trải cảm_giác điều_chỉnh cảm_xúc huhu\n",
      "text 2:  sinh_viên deadline dồn_dập teamwork teamwork tôn_trọng xong đồng quan_điểm bác_bỏ phũ phàng xóa đau_đầu mệt_mỏi stress\n"
     ]
    }
   ],
   "source": [
    "\n",
    "\n",
    "import gensim\n",
    "from gensim.utils import simple_preprocess\n",
    "import nltk\n",
    "nltk.download('stopwords')\n",
    "nltk.download('punkt')\n",
    "# from nltk.tokenize import word_tokenize\n",
    "from nltk.corpus import stopwords\n",
    "from unidecode import unidecode\n",
    "import string\n",
    "import re\n",
    "import pyvi\n",
    "import json\n",
    "import underthesea\n",
    "from pyvi import ViTokenizer, ViPosTagger\n",
    "from underthesea import word_tokenize\n",
    "stop_words = stopwords.words('english')\n",
    "stop_words.extend(['from', 'subject', 're', 'edu', 'use'])\n",
    "stop_words = set(open(\"./data_test/vietnamese-stopwords-dash.txt\", \"r\", encoding=\"utf-8\").read().splitlines())\n",
    "\n",
    "def remove_whitespace(text):\n",
    "    return re.sub(r'\\s+', ' ', text).strip()\n",
    "\n",
    "def remove_number(text):\n",
    "    return re.sub(r'\\d+', '', text).strip()\n",
    "\n",
    "def remove_punctuation(text):\n",
    "    return text.translate(str.maketrans('', '', string.punctuation))\n",
    "\n",
    "def remove_punctuation_not_underscore(text): # remove dấu câu để lại dấu _\n",
    "    # Tạo một bản sao của string.punctuation và loại bỏ dấu _\n",
    "    punctuation = string.punctuation.replace(\"_\", \"\")\n",
    "    # punctuation = punctuation.replace(\"-\", \"\")\n",
    "    return text.translate(str.maketrans('', '', punctuation))\n",
    "\n",
    "def remove_(text):\n",
    "    text = remove_punctuation_not_underscore(text)\n",
    "    text = remove_number(text)\n",
    "    text = re.sub(r'[\\x00-\\x1F\\x7F-\\x9F]', '', text)\n",
    "    text = text.replace(\"_  _\", \"_\")\n",
    "    return re.sub(r'“|”', '', text).strip()\n",
    "    # return ''.join(char for char in text if char not in ['“', '”'])\n",
    "\n",
    "def remove_punctuation_underscore(text): # remove dấu _\n",
    "    punctuation = \"_\"\n",
    "    return text.translate(str.maketrans('', '', punctuation))\n",
    "    \n",
    "def word_to_phrase(text): # chuyển từ thành cụm từ\n",
    "    # return ViTokenizer.tokenize(text)\n",
    "    return word_tokenize(text, format=\"text\")\n",
    "\n",
    "# def sent_to_words(sentences):\n",
    "#     for sentence in sentences:\n",
    "#         # deacc=True removes punctuations\n",
    "#         # loại bỏ dấu câu and split\n",
    "#         yield([remove_(str(word)) for word in re.findall(r'\\w+|\\S+', word_to_phrase(str(sentence))) if remove_(str(word)) != ''])\n",
    "\n",
    "def remove_stopwords(texts):\n",
    "    words = [word for word in texts.split() if word not in stop_words]\n",
    "    words_to_sentence = ' '.join(words)\n",
    "    return words_to_sentence.strip()\n",
    "\n",
    "def remove_emoj(text):\n",
    "    emoj = re.compile(\"[\"\n",
    "                        u\"\\U0001F600-\\U0001F64F\"  # emoticons\n",
    "                        u\"\\U0001F300-\\U0001F5FF\"  # symbols & pictographs\n",
    "                        u\"\\U0001F680-\\U0001F6FF\"  # transport & map symbols\n",
    "                        u\"\\U0001F1E0-\\U0001F1FF\"  # flags (iOS)\n",
    "                        u\"\\U00002500-\\U00002BEF\"  # chinese char\n",
    "                        u\"\\U00002702-\\U000027B0\"\n",
    "                        u\"\\U00002702-\\U000027B0\"\n",
    "                        u\"\\U000024C2-\\U0001F251\"\n",
    "                        u\"\\U0001f926-\\U0001f937\"\n",
    "                        u\"\\U00010000-\\U0010ffff\"\n",
    "                        u\"\\u2640-\\u2642\" \n",
    "                        u\"\\u2600-\\u2B55\"\n",
    "                        u\"\\u200d\"\n",
    "                        u\"\\u23cf\"\n",
    "                        u\"\\u23e9\"\n",
    "                        u\"\\u231a\"\n",
    "                        u\"\\ufe0f\"  # dingbats\n",
    "                        u\"\\u3030\"\n",
    "                                    \"]+\", re.UNICODE)\n",
    "    return re.sub(emoj, '', text)\n",
    "\n",
    "# drop word while # in word\n",
    "def remove_word_hash(text):\n",
    "    # text = re.sub(r'#.*', '', text).strip() # remove word all while # before\n",
    "    return re.sub(r'#\\w+', '', text).strip()\n",
    "# drop url\n",
    "def remove_url(text):\n",
    "    text = re.sub(r'http\\S+', '', text).strip()\n",
    "    text = re.sub(r'www\\S+', '', text).strip()\n",
    "    text = re.sub(r'pic\\S+', '', text).strip()\n",
    "    text = re.sub(r'bit.ly\\S+', '', text).strip()\n",
    "    text = re.sub(r'fb\\S+', '', text).strip()\n",
    "    text = re.sub(r'com\\S+', '', text).strip()\n",
    "    text = re.sub(r'https\\S+', '', text).strip()\n",
    "    return text\n",
    "\n",
    "# drop email\n",
    "def remove_email(text):\n",
    "    # \\S kí tự không phải khoảng trắng\n",
    "    # \\S* kí tự không phải khoảng trắng xuất hiện 0 hoặc nhiều lần\n",
    "    # \\s? có thể có hoặc không có khoảng trắng cuối chuỗi\n",
    "    return re.sub(r'\\S*@\\S*\\s?', '', text).strip()\n",
    "\n",
    "# scale word summary\n",
    "def scale_word_summary(text):\n",
    "    with open('./data_test/word_summary.json', 'r', encoding='utf-8') as f:\n",
    "        word_summary = json.load(f)\n",
    "    text = text.split()\n",
    "    for i, word in enumerate(text):\n",
    "        for key, value in word_summary.items():\n",
    "            key = key.split('|')\n",
    "            if word in key:\n",
    "                text[i] = re.sub(r'\\s+','_',value)\n",
    "    return ' '.join(text)\n",
    "\n",
    "# drop syntax\n",
    "def pos_tagging_drop(text):\n",
    "    list_dict = underthesea.pos_tag(text)\n",
    "    list_word = []\n",
    "    for i,val in list_dict:\n",
    "        if val not in ['CH', 'L', 'M', 'R', 'E', 'C', 'I', 'T', 'X', 'Y']:\n",
    "            list_word.append(i) # P, N, V, A, 'Np', 'Nc', 'Nu'\n",
    "    return ' '.join(list_word)\n",
    "\n",
    "# drop_special_character_in_word\n",
    "def remove_special_character_in_word(text):\n",
    "    text = re.sub(r'\\w+[\\+\\-\\/\\*\\%\\=\\:\\(\\)\\[\\]\\{\\}]\\w+\\s?', '', text).strip()\n",
    "    text = re.sub(r'[\\#\\+\\-\\/\\*\\%\\=\\:\\(\\)\\[\\]\\{\\}]\\w+\\s?', '', text).strip()\n",
    "    text = re.sub(r'\\w+[\\+\\-\\/\\*\\%\\=\\:\\(\\)\\[\\]\\{\\}]\\s?', '', text).strip()\n",
    "    return text\n",
    "\n",
    "def drop_(text):\n",
    "    text = re.sub(re.escape('gửi offical'), '', text).strip()\n",
    "    return text\n",
    "data = papers['paper_text_processed']\n",
    "print('text 0: ',data[0])\n",
    "print('text 1: ',data[1])\n",
    "print('text 2: ',data[2])\n",
    "data = data.apply(lambda x: remove_whitespace(x)) # remove whitespace (tab, \\n, \\r)\n",
    "data = data.apply(lambda x: remove_punctuation_underscore(x))\n",
    "data = data.apply(lambda x: scale_word_summary(x)) # scale word summary (mjk -> mình)\n",
    "data = data.apply(lambda x: remove_word_hash(x)) # remove word hash (#) hashtag\n",
    "data = data.apply(lambda x: remove_special_character_in_word(x)) # remove special character in word (\"***dung\" -> \"\")\n",
    "## data = data.apply(lambda x: remove_punctuation(x)) # remove punctuation (.,!?) \n",
    "data = data.apply(lambda x: pos_tagging_drop(x)) # pos tagging drop (Ngày mai, tôi sẽ đi học -> Ngày mai, tôi đi học)\n",
    "data = data.apply(lambda x: remove_emoj(x)) # remove emoj (😂)\n",
    "\n",
    "data = data.apply(lambda x: remove_email(x)) # remove email (gmail.com)\n",
    "data = data.apply(lambda x: remove_url(x)) # remove url (https://www.facebook.com)\n",
    "data = data.apply(lambda x: remove_number(x)) # remove number (123)\n",
    "data = data.apply(lambda x: word_to_phrase(x)) # word to phrase (tôi là ai -> tôi_là_ai)\n",
    "data = data.apply(lambda x: remove_(x))\n",
    "data = data.apply(lambda x: remove_stopwords(x))\n",
    "data = data.apply(lambda x: remove_whitespace(x)) # remove whitespace (tab, \\n, \\r)\n",
    "data = data.apply(lambda x: drop_(x))\n",
    "print('text 0: ',data[0])\n",
    "print('text 1: ',data[1])\n",
    "print('text 2: ',data[2])\n",
    "\n",
    "# print(remove_stopwords(text))\n",
    "docs = data.tolist()"
   ]
  },
  {
   "cell_type": "code",
   "execution_count": 139,
   "metadata": {},
   "outputs": [
    {
     "name": "stderr",
     "output_type": "stream",
     "text": [
      "Batches: 100%|██████████| 1/1 [00:00<00:00,  4.58it/s]\n",
      "2023-11-21 17:02:48,010 - BERTopic - Reduced dimensionality\n",
      "2023-11-21 17:02:48,022 - BERTopic - Clustered reduced embeddings\n"
     ]
    }
   ],
   "source": [
    "from umap import UMAP\n",
    "from hdbscan import HDBSCAN\n",
    "from bertopic import BERTopic\n",
    "from sentence_transformers import SentenceTransformer\n",
    "from sklearn.feature_extraction.text import CountVectorizer\n",
    "from bertopic.representation import KeyBERTInspired\n",
    "from bertopic.vectorizers import ClassTfidfTransformer\n",
    "from bertopic.vectorizers import OnlineCountVectorizer\n",
    "from sklearn.cluster import MiniBatchKMeans\n",
    "from sklearn.decomposition import IncrementalPCA\n",
    "# Step 1 - Extract embeddings\n",
    "embedding_model = SentenceTransformer(\"keepitreal/vietnamese-sbert\")\n",
    "# Step 2 - Reduce dimensionality\n",
    "# umap_model = UMAP(n_neighbors=15, n_components=5, min_dist=0.0, metric='cosine')\n",
    "umap_model = IncrementalPCA(n_components=5)\n",
    "# Step 3 - Cluster reduced embeddings\n",
    "# hdbscan_model = HDBSCAN(min_cluster_size=15, metric='euclidean', cluster_selection_method='eom', prediction_data=True)\n",
    "hdbscan_model = MiniBatchKMeans(n_clusters=5, random_state=0)\n",
    "# Step 4 - Tokenize topics\n",
    "stop_words = list(stop_words)\n",
    "vectorizer_model = OnlineCountVectorizer(stop_words=stop_words)\n",
    "# vectorizer_model = CountVectorizer(stop_words=stop_words)\n",
    "# Step 5 - Create topic representation\n",
    "ctfidf_model = ClassTfidfTransformer()\n",
    "# Step 6 - (Optional) Fine-tune topic representations with \n",
    "# a `bertopic.representation` model\n",
    "representation_model = KeyBERTInspired()\n",
    "\n",
    "nr_topics = 5\n",
    "top_n_words = 10\n",
    "topic_model = BERTopic(\n",
    "  embedding_model=embedding_model,          # Step 1 - Extract embeddings\n",
    "  umap_model=umap_model,                    # Step 2 - Reduce dimensionality\n",
    "  hdbscan_model=hdbscan_model,              # Step 3 - Cluster reduced embeddings\n",
    "  vectorizer_model=vectorizer_model,        # Step 4 - Tokenize topics\n",
    "  ctfidf_model=ctfidf_model,                # Step 5 - Extract topic words\n",
    "  representation_model=representation_model, # Step 6 - (Optional) Fine-tune topic represenations\n",
    "  language=\"vietnamese\", calculate_probabilities=True, verbose=True, nr_topics=nr_topics, top_n_words=top_n_words\n",
    ")\n",
    "topic_model = topic_model.partial_fit(docs)"
   ]
  },
  {
   "cell_type": "code",
   "execution_count": 140,
   "metadata": {},
   "outputs": [
    {
     "name": "stdout",
     "output_type": "stream",
     "text": [
      "  (0, 339)\t0.7217888900477218\n",
      "  (0, 336)\t0.8362133061358207\n",
      "  (0, 199)\t1.4435777800954437\n",
      "  (0, 70)\t0.8362133061358207\n",
      "  (0, 8)\t0.8362133061358207\n",
      "  (1, 493)\t0.012897891611349419\n",
      "  (1, 492)\t0.012897891611349419\n",
      "  (1, 491)\t0.012897891611349419\n",
      "  (1, 490)\t0.012897891611349419\n",
      "  (1, 489)\t0.012897891611349419\n",
      "  (1, 485)\t0.011132990591995708\n",
      "  (1, 483)\t0.012897891611349419\n",
      "  (1, 482)\t0.012897891611349419\n",
      "  (1, 480)\t0.012897891611349419\n",
      "  (1, 479)\t0.012897891611349419\n",
      "  (1, 477)\t0.022265981183991417\n",
      "  (1, 475)\t0.022265981183991417\n",
      "  (1, 474)\t0.05025341703889175\n",
      "  (1, 473)\t0.020215041813492676\n",
      "  (1, 472)\t0.012897891611349419\n",
      "  (1, 471)\t0.012897891611349419\n",
      "  (1, 470)\t0.012897891611349419\n",
      "  (1, 469)\t0.011132990591995708\n",
      "  (1, 467)\t0.020215041813492676\n",
      "  (1, 466)\t0.012897891611349419\n",
      "  :\t:\n",
      "  (3, 122)\t0.06780107887587736\n",
      "  (3, 121)\t0.053132778820599\n",
      "  (3, 113)\t0.11704684703476571\n",
      "  (3, 109)\t0.04933321947694242\n",
      "  (3, 108)\t0.06780107887587736\n",
      "  (3, 94)\t0.06780107887587736\n",
      "  (3, 75)\t0.06780107887587736\n",
      "  (3, 73)\t0.053132778820599\n",
      "  (3, 69)\t0.06780107887587736\n",
      "  (3, 58)\t0.06780107887587736\n",
      "  (3, 53)\t0.06780107887587736\n",
      "  (3, 49)\t0.06780107887587736\n",
      "  (3, 36)\t0.06780107887587736\n",
      "  (3, 31)\t0.06780107887587736\n",
      "  (3, 24)\t0.06780107887587736\n",
      "  (3, 18)\t0.06780107887587736\n",
      "  (3, 10)\t0.11704684703476571\n",
      "  (4, 488)\t0.40726206725268527\n",
      "  (4, 478)\t0.6271599796018655\n",
      "  (4, 439)\t0.4292484005606433\n",
      "  (4, 420)\t0.6271599796018655\n",
      "  (4, 322)\t0.4914782040905407\n",
      "  (4, 212)\t0.45633228016171734\n",
      "  (4, 140)\t0.4914782040905407\n",
      "  (4, 91)\t0.40726206725268527\n"
     ]
    }
   ],
   "source": [
    "documents = topic_model.get_document_info(data)\n",
    "documents_per_topic = documents.sort_values(\"Topic\").groupby(['Topic'], as_index=False)\n",
    "updated_topics = documents_per_topic.first().Topic.astype(int)\n",
    "documents_per_topic = documents_per_topic.agg({'Document': ' '.join})\n",
    "c_tf_idf,words = topic_model._c_tf_idf(documents_per_topic, partial_fit=False)\n",
    "print(c_tf_idf)\n",
    "\n",
    "# c_tf_idf = c_tf_idf.toarray()\n",
    "# col=8267\n",
    "# print(f'c_tf_idf of {col}: ',c_tf_idf[0][col])\n",
    "# df = pd.DataFrame(c_tf_idf, columns=words,dtype='float64')\n",
    "# print('------------------')\n",
    "# key = 'văn_hóa'\n",
    "# print(f'c_tf_idf of {key}:')\n",
    "# print(df[key])\n",
    "# # sort\n",
    "# t = 9\n",
    "# df = df[df.iloc[t].sort_values(ascending=False).index]\n",
    "\n",
    "# print(df.iloc[t][0:10])\n",
    "# print(df.iloc[t][0:10].index)\n",
    "# print(topic_model.get_topic(t))\n",
    "# _extract_words_per_topic"
   ]
  },
  {
   "cell_type": "code",
   "execution_count": 141,
   "metadata": {},
   "outputs": [],
   "source": [
    "# from bertopic.representation import BaseRepresentation\n",
    "# documents = topic_model.get_document_info(data)\n",
    "# documents_per_topic = documents.sort_values(\"Topic\").groupby(['Topic'], as_index=False)\n",
    "# updated_topics = documents_per_topic.first().Topic.astype(int)\n",
    "# documents_per_topic = documents_per_topic.agg({'Document': ' '.join})\n",
    "# c_tf_idf,words = topic_model._c_tf_idf(documents_per_topic, partial_fit=False)\n",
    "# # print(c_tf_idf)\n",
    "\n",
    "# topics = topic_model.topics_\n",
    "# documents = pd.DataFrame({\"Document\": docs, \"Topic\": topics, \"ID\": range(len(docs)), \"Image\": range(len(docs))})\n",
    "# # topic_representations = topic_model._extract_words_per_topic(words, documents, c_tf_idf, False)\n",
    "# # topic_representations\n",
    "\n",
    "# labels = sorted(list(documents.Topic.unique()))\n",
    "# labels = [int(label) for label in labels]\n",
    "\n",
    "# top_n_words = 9170\n",
    "# indices = topic_model._top_n_idx_sparse(c_tf_idf, n=top_n_words)\n",
    "# scores = topic_model._top_n_values_sparse(c_tf_idf, indices)\n",
    "# sorted_indices = np.argsort(scores)\n",
    "# indices = np.take_along_axis(indices, sorted_indices, axis=1)\n",
    "# scores = np.take_along_axis(scores, sorted_indices, axis=1)\n",
    "# topics = {label: [(words[word_index], score)\n",
    "#                           if word_index is not None and score > 0\n",
    "#                           else (\"\", 0.00001)\n",
    "#                           for word_index, score in zip(indices[index][::-1], scores[index][::-1])\n",
    "#                           ]\n",
    "#                   for index, label in enumerate(labels)}\n",
    "# # print(topics[0])\n",
    "# if isinstance(topic_model.representation_model, list):\n",
    "#     print(1)\n",
    "#     for tuner in topic_model.representation_model:\n",
    "#         topics = tuner.extract_topics(topic_model, documents, c_tf_idf, topics)\n",
    "# elif isinstance(topic_model.representation_model, BaseRepresentation):\n",
    "#     print(2)\n",
    "#     topics = topic_model.representation_model.extract_topics(topic_model, documents, c_tf_idf, topics)\n",
    "    \n",
    "# elif isinstance(topic_model.representation_model, dict):\n",
    "#     print(3)\n",
    "#     if topic_model.representation_model.get(\"Main\"):\n",
    "#         topics = topic_model.representation_model[\"Main\"].extract_topics(topic_model, documents, c_tf_idf, topics)\n",
    "\n",
    "# topics = {label: values[:top_n_words] for label, values in topics.items()}\n",
    "# print(topics[1])\n",
    "# print(topics[5])"
   ]
  },
  {
   "cell_type": "code",
   "execution_count": 142,
   "metadata": {},
   "outputs": [
    {
     "name": "stdout",
     "output_type": "stream",
     "text": [
      "[('đọc', 0.36581194), ('viết', 0.3404863), ('chăm_chỉ', 0.31765887), ('kiểu', 0.31433797), ('học', 0.3094945), ('tuần_mong', 0.28944245), ('sợ_kì', 0.28010353), ('yên_tĩnh', 0.2708855), ('this', 0.24905163), ('xong', 0.24672183)]\n",
      "[('inf', 0.27665386), ('kiểu', 0.27080634), ('quan_sát', 0.24477568), ('lớp', 0.23036778), ('sai_lầm_ngudot', 0.22783442), ('aof', 0.22092304), ('chụp', 0.22028612), ('viết', 0.21999317), ('xx', 0.21597219), ('tttttt', 0.21172129)]\n"
     ]
    }
   ],
   "source": [
    "topics = topic_model.topic_representations_\n",
    "print(topics[1])\n",
    "print(topics[2])"
   ]
  },
  {
   "cell_type": "code",
   "execution_count": 143,
   "metadata": {},
   "outputs": [
    {
     "data": {
      "application/vnd.plotly.v1+json": {
       "config": {
        "plotlyServerURL": "https://plot.ly"
       },
       "data": [
        {
         "hoverinfo": "text",
         "hovertext": [
          null
         ],
         "marker": {
          "color": "#CFD8DC",
          "opacity": 0.5,
          "size": 5
         },
         "mode": "markers+text",
         "name": "other",
         "showlegend": false,
         "type": "scattergl",
         "x": [
          null
         ],
         "y": [
          null
         ]
        },
        {
         "hoverinfo": "text",
         "hovertext": [
          "công_tác malibu",
          "thời thế_sinh barbershop malibu",
          null
         ],
         "marker": {
          "opacity": 0.5,
          "size": 5
         },
         "mode": "markers+text",
         "name": "0_malibu_barbershop_thế_sinh",
         "text": [
          "",
          "",
          "0_malibu_barbershop_thế_sinh"
         ],
         "textfont": {
          "size": 12
         },
         "type": "scattergl",
         "x": [
          4.205705642700195,
          3.8691482543945312,
          4.037426948547363
         ],
         "y": [
          6.839443683624268,
          6.663442611694336,
          6.751442909240723
         ]
        },
        {
         "hoverinfo": "text",
         "hovertext": [
          "đính_chính war_cãi suy_nghĩ chửi tiêu_cực bảo_vệ trường đọc cfs_trường câu_chuyện đại_khái bảo_vệ thu tiền k k thái_độ sịt lốp xe bla blamình thanh_minh giải_thích thử thu k ta thu nhầm xe nhầm_lẫn diễn tiền vé xe khen lỡ thu đám sinh_viên thái_độ sinh_viên trường ta sắp_xếp xe kiểu kệ chày cối miễn_sao nhanh_chóng đút xe chỗ tiện kệ học phòng hòa khó_chịu ta mái tôn nóng_nực dăt xe chỗ gọn cáu gắt",
          "sinh_viên deadline dồn_dập teamwork teamwork tôn_trọng xong đồng quan_điểm bác_bỏ phũ phàng xóa đau_đầu mệt_mỏi stress",
          "ký_túc_xá hướng nội_sợ ý_kiến phàn_nàn ký_túc_xá không_gian tư_khó ký_túc_xá để_ý tí khuya nói_chuyện to kiểu kp học kia nma làm_ơn bé xíu mìnhxem_luyện toeic bật max_tai thắng nổi_tiếng please để_ý sống tập_thể dám viết bé phòng đọc chúc vui_vẻ",
          "lịch thi qldt ngột_ngạt học_kì nát bét sợ_kì quyết_tâm thư_viện học_tập tâm_trạng lo_lắng u_uất chiều_tối mệt cảm_giác ánh_sáng động_lực hình_ảnh chăm_chỉ học ánh_sáng lồng đèn rung_động thư_viện cạnh cửa_kính rời đèn tắt h thư_viện liếc tiếp_sức_mạnh dứt hôm_nay áp_lực thư_viện đèn_tắt",
          "dạo xôm may đỗ_trường thích_thú đọc cfs_trường trôi chó chạy đồng thoáng học tuần_mong suôn_sẻ trưởng_thành nghĩa trải tình it khóa l_ ừa_đả _o trắng_trợn cú sốc suy_nghĩ cuộc_sống đa_sắc màu hồng phốt_trai it it tốt_bụng giúp_đỡ this that trưởng_thành tuyệt_cà vời lười yêu_thương biết_ơn học tiếc_nuối suốt đại_học trả_lời chăm_chỉ lười học thi_điểm thi toeic trau_dồi kĩ_năng mềm sml nghĩa_sự khắc_nghiệt thị_trường việc_làm buông_thả chênh_vênh đọc jd jobs tự_ti thiếu_sót đôi_khi dám apply quên học đứa học đỡ nổ đầu mụn mọc mặt xấu cực_kì viết văn_lủng củng_đọc nhạt ốc mong đọc giúp gạch xây tạm_biệt_chúc kì thi_diệu_kì",
          "vpc tính_tình kinh_phòng chúng_em nộp tiền đầy_đủ học đàng_hoàng xin_xỏ nhăn_nhó cáu gắt bọn ăn_xin",
          null,
          "hôm_nay nói_chuyện thư_viện hiển_nhiên thư_viện ồn nói_chuyện nghĩa thư_viện nói_chuyện thư_viện học làm_việc đọc sách đấy yên_tĩnh thư_viện yên_tĩnh nói_chuyện cạnh đối_diện một_tí tiếng xì_xầm khó_chịu đồng_tình thư_viện đôi_lúc trao_đổi hiển_nhiên thí_dụ thư_viện học bình_thường nam đối_diện liên_tục ngừng nói_tông bình_thường lóng ngành phụ_khoa bay đa_phần im_lặng học nói_chuyện xung_quanh tiếng tóm_lại thư_viện mục_đích học họp trò_chuyện tâm_tình đặt_chân thư_viện trật_tự im_bặt ta lịch_sự đẹp_trai xinh_gái văn_minh lịch_sự ứng_xử đúng_đắn"
         ],
         "marker": {
          "opacity": 0.5,
          "size": 5
         },
         "mode": "markers+text",
         "name": "1_đọc_viết_chăm_chỉ",
         "text": [
          "",
          "",
          "",
          "",
          "",
          "",
          "1_đọc_viết_chăm_chỉ",
          ""
         ],
         "textfont": {
          "size": 12
         },
         "type": "scattergl",
         "x": [
          5.5331902503967285,
          5.863884449005127,
          4.921210289001465,
          6.076285362243652,
          6.402368068695068,
          5.1056013107299805,
          5.696619510650635,
          6.191214084625244
         ],
         "y": [
          7.181532859802246,
          6.749444007873535,
          6.451855659484863,
          6.1053242683410645,
          6.631528854370117,
          7.127737522125244,
          6.529269218444824,
          5.724841117858887
         ]
        },
        {
         "hoverinfo": "text",
         "hovertext": [
          "làm_bạn lớp nổi_bật cười kiểu tràn_đầy năng_lượng cười nc làm_việc cta coi trả_lời giúp_đỡ cảm_giác lạc_lõng học lớp liếc lặng_lẽ xong cười cố_gắng giả_vờ nc mặt dồn chú_ý cảm_giác né_tránh sợ dám buông_bỏ để_ý nc hỏi_han nc kiểu kìm rung_động hôm_nay kiểu tra_tấn cảm_xúc buông buông giúp vớiiii tttttt",
          "gửi nam nhà_xe tầm chiều áo hồng giúp xe áo trắng nhường đường vội viết hi_vọng đừngxem niềm trai ptit_nha yêu tốt_bụng",
          "nam dcn ddt lớp xx giấu học nói_chuyện bé mồm to sợ xung_quanh lỡ lén tò_mò đoạn clip nyc thờ coi conxem gái ta parttime fulltime trường học_phí nhà_vệ_sinh vòi_xịt giấy vệ_sinh xà_phòng rửa chúng_em đồ_dùng vệ_sinh hiển_nhiên trang_bị vòi_xịt giấy vệ_sinh",
          "góc kẻ_cắp chào_admin admin giúp_đỡ chẳng_là tối chủ_nhật nữ iu sk sự_kiện it fest fpt softwarexem quẩy tối tự_nhiên hướng nội_ngang dám inf phát_hiện trái tym rùiii ngoi mong ace giúp sửa_chữa sai_lầm_ngudot dám inf hiện_trường cute viết tín_hiệu nhaaa đứng góc sân_khấu bảo hôm xe_máy ảnh đứa vô_tình lọt máy mong admin giúp_đỡ",
          "rét vcđ anh_chị_em mùa bảo mùa kiếm người_yêu đá bóng_trường trà đá cổng trường chém tầm cầu chỗ an_ninh hôm rét mặc quần_áo cộc gái giả_vờ rét_rét co_ro hú_hú ngáp ngáp đánh mắt bạnxem gái xinh_xinh hôm ny kb rv co_ro thằng sun vòi ảnh inbox gửi hòm",
          "góc trái t lạc chào_ptiters gơn aof tối hôm the railway aof chụp ảnh x đợi dj nhạc chen_lấn xô_đẩy kịp ảnh mong up ảnh kỷ_niệm hôm nữ tham_gia sự_kiện itfest hola cute kịp in bạn_ý nhỏ_nhắn mặc áo trắng cầm ô đứng lệch trái hướng sân quan_sát đứng mặc áo đen học bk cầm ô chụp hình giúp cầm ô chút_xíu in cmt stt chủ_động kết_bạn",
          null
         ],
         "marker": {
          "opacity": 0.5,
          "size": 5
         },
         "mode": "markers+text",
         "name": "2_inf_kiểu_quan_sát",
         "text": [
          "",
          "",
          "",
          "",
          "",
          "",
          "2_inf_kiểu_quan_sát"
         ],
         "textfont": {
          "size": 12
         },
         "type": "scattergl",
         "x": [
          5.494454860687256,
          3.353834867477417,
          4.301995277404785,
          4.253603935241699,
          4.804978847503662,
          3.7671186923980713,
          4.329330921173096
         ],
         "y": [
          5.64153528213501,
          5.395709037780762,
          5.965860366821289,
          5.361889839172363,
          5.9378814697265625,
          5.205255031585693,
          5.584688186645508
         ]
        },
        {
         "hoverinfo": "text",
         "hovertext": [
          "đứng thang_máy thang_máy kiểu đứng cạnh nút thang thang chờ kẹp thang_máy độ xử_lí ý_thức chungxem sinh_viên trường mong rút kinh_nghiệm hành_động giữ_thiện cảm_nha nam tinh_tế mất_thiện_cảm",
          "lừa công_thủ_đoạn trapboy đầu điện_tử trap chữa lành trai it_trường trap trap sốc lừa dễxem lừa gái it đần kì_thị sợ_trai kĩ_thuật huhu",
          "thang_máy tầng g xa_lạ biến_thái thang_máy thang_máy tầng thang đông thang_máy bàn_tay lướt bộ_phận nhạy_cảm vô_tình chạm mìnhxem gạt đấy gạt vô_tình bóp biến_thái xấu_tính",
          null
         ],
         "marker": {
          "opacity": 0.5,
          "size": 5
         },
         "mode": "markers+text",
         "name": "3_trapboy_thang_máy_biến_thái",
         "text": [
          "",
          "",
          "",
          "3_trapboy_thang_máy_biến_thái"
         ],
         "textfont": {
          "size": 12
         },
         "type": "scattergl",
         "x": [
          5.0525712966918945,
          5.0681047439575195,
          5.325371265411377,
          5.148682117462158
         ],
         "y": [
          4.466872692108154,
          5.27863073348999,
          4.762758255004883,
          4.836087226867676
         ]
        },
        {
         "hoverinfo": "text",
         "hovertext": [
          "in mặc áo đồng_phục ảnh thi xinh_ngại dám _",
          null
         ],
         "marker": {
          "opacity": 0.5,
          "size": 5
         },
         "mode": "markers+text",
         "name": "4_xinh_ngại_dám_đồng_phục",
         "text": [
          "",
          "4_xinh_ngại_dám_đồng_phục"
         ],
         "textfont": {
          "size": 12
         },
         "type": "scattergl",
         "x": [
          4.40068244934082,
          4.40068244934082
         ],
         "y": [
          4.556336402893066,
          4.556336402893066
         ]
        }
       ],
       "layout": {
        "annotations": [
         {
          "showarrow": false,
          "text": "D1",
          "x": 2.8507596373558046,
          "y": 6.027802288532257,
          "yshift": 10
         },
         {
          "showarrow": false,
          "text": "D2",
          "x": 5.1067414581775665,
          "xshift": 10,
          "y": 8.258762788772582
         }
        ],
        "height": 750,
        "shapes": [
         {
          "line": {
           "color": "#CFD8DC",
           "width": 2
          },
          "type": "line",
          "x0": 5.1067414581775665,
          "x1": 5.1067414581775665,
          "y0": 3.796841788291931,
          "y1": 8.258762788772582
         },
         {
          "line": {
           "color": "#9E9E9E",
           "width": 2
          },
          "type": "line",
          "x0": 2.8507596373558046,
          "x1": 7.362723278999328,
          "y0": 6.027802288532257,
          "y1": 6.027802288532257
         }
        ],
        "template": {
         "data": {
          "bar": [
           {
            "error_x": {
             "color": "rgb(36,36,36)"
            },
            "error_y": {
             "color": "rgb(36,36,36)"
            },
            "marker": {
             "line": {
              "color": "white",
              "width": 0.5
             },
             "pattern": {
              "fillmode": "overlay",
              "size": 10,
              "solidity": 0.2
             }
            },
            "type": "bar"
           }
          ],
          "barpolar": [
           {
            "marker": {
             "line": {
              "color": "white",
              "width": 0.5
             },
             "pattern": {
              "fillmode": "overlay",
              "size": 10,
              "solidity": 0.2
             }
            },
            "type": "barpolar"
           }
          ],
          "carpet": [
           {
            "aaxis": {
             "endlinecolor": "rgb(36,36,36)",
             "gridcolor": "white",
             "linecolor": "white",
             "minorgridcolor": "white",
             "startlinecolor": "rgb(36,36,36)"
            },
            "baxis": {
             "endlinecolor": "rgb(36,36,36)",
             "gridcolor": "white",
             "linecolor": "white",
             "minorgridcolor": "white",
             "startlinecolor": "rgb(36,36,36)"
            },
            "type": "carpet"
           }
          ],
          "choropleth": [
           {
            "colorbar": {
             "outlinewidth": 1,
             "tickcolor": "rgb(36,36,36)",
             "ticks": "outside"
            },
            "type": "choropleth"
           }
          ],
          "contour": [
           {
            "colorbar": {
             "outlinewidth": 1,
             "tickcolor": "rgb(36,36,36)",
             "ticks": "outside"
            },
            "colorscale": [
             [
              0,
              "#440154"
             ],
             [
              0.1111111111111111,
              "#482878"
             ],
             [
              0.2222222222222222,
              "#3e4989"
             ],
             [
              0.3333333333333333,
              "#31688e"
             ],
             [
              0.4444444444444444,
              "#26828e"
             ],
             [
              0.5555555555555556,
              "#1f9e89"
             ],
             [
              0.6666666666666666,
              "#35b779"
             ],
             [
              0.7777777777777778,
              "#6ece58"
             ],
             [
              0.8888888888888888,
              "#b5de2b"
             ],
             [
              1,
              "#fde725"
             ]
            ],
            "type": "contour"
           }
          ],
          "contourcarpet": [
           {
            "colorbar": {
             "outlinewidth": 1,
             "tickcolor": "rgb(36,36,36)",
             "ticks": "outside"
            },
            "type": "contourcarpet"
           }
          ],
          "heatmap": [
           {
            "colorbar": {
             "outlinewidth": 1,
             "tickcolor": "rgb(36,36,36)",
             "ticks": "outside"
            },
            "colorscale": [
             [
              0,
              "#440154"
             ],
             [
              0.1111111111111111,
              "#482878"
             ],
             [
              0.2222222222222222,
              "#3e4989"
             ],
             [
              0.3333333333333333,
              "#31688e"
             ],
             [
              0.4444444444444444,
              "#26828e"
             ],
             [
              0.5555555555555556,
              "#1f9e89"
             ],
             [
              0.6666666666666666,
              "#35b779"
             ],
             [
              0.7777777777777778,
              "#6ece58"
             ],
             [
              0.8888888888888888,
              "#b5de2b"
             ],
             [
              1,
              "#fde725"
             ]
            ],
            "type": "heatmap"
           }
          ],
          "heatmapgl": [
           {
            "colorbar": {
             "outlinewidth": 1,
             "tickcolor": "rgb(36,36,36)",
             "ticks": "outside"
            },
            "colorscale": [
             [
              0,
              "#440154"
             ],
             [
              0.1111111111111111,
              "#482878"
             ],
             [
              0.2222222222222222,
              "#3e4989"
             ],
             [
              0.3333333333333333,
              "#31688e"
             ],
             [
              0.4444444444444444,
              "#26828e"
             ],
             [
              0.5555555555555556,
              "#1f9e89"
             ],
             [
              0.6666666666666666,
              "#35b779"
             ],
             [
              0.7777777777777778,
              "#6ece58"
             ],
             [
              0.8888888888888888,
              "#b5de2b"
             ],
             [
              1,
              "#fde725"
             ]
            ],
            "type": "heatmapgl"
           }
          ],
          "histogram": [
           {
            "marker": {
             "line": {
              "color": "white",
              "width": 0.6
             }
            },
            "type": "histogram"
           }
          ],
          "histogram2d": [
           {
            "colorbar": {
             "outlinewidth": 1,
             "tickcolor": "rgb(36,36,36)",
             "ticks": "outside"
            },
            "colorscale": [
             [
              0,
              "#440154"
             ],
             [
              0.1111111111111111,
              "#482878"
             ],
             [
              0.2222222222222222,
              "#3e4989"
             ],
             [
              0.3333333333333333,
              "#31688e"
             ],
             [
              0.4444444444444444,
              "#26828e"
             ],
             [
              0.5555555555555556,
              "#1f9e89"
             ],
             [
              0.6666666666666666,
              "#35b779"
             ],
             [
              0.7777777777777778,
              "#6ece58"
             ],
             [
              0.8888888888888888,
              "#b5de2b"
             ],
             [
              1,
              "#fde725"
             ]
            ],
            "type": "histogram2d"
           }
          ],
          "histogram2dcontour": [
           {
            "colorbar": {
             "outlinewidth": 1,
             "tickcolor": "rgb(36,36,36)",
             "ticks": "outside"
            },
            "colorscale": [
             [
              0,
              "#440154"
             ],
             [
              0.1111111111111111,
              "#482878"
             ],
             [
              0.2222222222222222,
              "#3e4989"
             ],
             [
              0.3333333333333333,
              "#31688e"
             ],
             [
              0.4444444444444444,
              "#26828e"
             ],
             [
              0.5555555555555556,
              "#1f9e89"
             ],
             [
              0.6666666666666666,
              "#35b779"
             ],
             [
              0.7777777777777778,
              "#6ece58"
             ],
             [
              0.8888888888888888,
              "#b5de2b"
             ],
             [
              1,
              "#fde725"
             ]
            ],
            "type": "histogram2dcontour"
           }
          ],
          "mesh3d": [
           {
            "colorbar": {
             "outlinewidth": 1,
             "tickcolor": "rgb(36,36,36)",
             "ticks": "outside"
            },
            "type": "mesh3d"
           }
          ],
          "parcoords": [
           {
            "line": {
             "colorbar": {
              "outlinewidth": 1,
              "tickcolor": "rgb(36,36,36)",
              "ticks": "outside"
             }
            },
            "type": "parcoords"
           }
          ],
          "pie": [
           {
            "automargin": true,
            "type": "pie"
           }
          ],
          "scatter": [
           {
            "fillpattern": {
             "fillmode": "overlay",
             "size": 10,
             "solidity": 0.2
            },
            "type": "scatter"
           }
          ],
          "scatter3d": [
           {
            "line": {
             "colorbar": {
              "outlinewidth": 1,
              "tickcolor": "rgb(36,36,36)",
              "ticks": "outside"
             }
            },
            "marker": {
             "colorbar": {
              "outlinewidth": 1,
              "tickcolor": "rgb(36,36,36)",
              "ticks": "outside"
             }
            },
            "type": "scatter3d"
           }
          ],
          "scattercarpet": [
           {
            "marker": {
             "colorbar": {
              "outlinewidth": 1,
              "tickcolor": "rgb(36,36,36)",
              "ticks": "outside"
             }
            },
            "type": "scattercarpet"
           }
          ],
          "scattergeo": [
           {
            "marker": {
             "colorbar": {
              "outlinewidth": 1,
              "tickcolor": "rgb(36,36,36)",
              "ticks": "outside"
             }
            },
            "type": "scattergeo"
           }
          ],
          "scattergl": [
           {
            "marker": {
             "colorbar": {
              "outlinewidth": 1,
              "tickcolor": "rgb(36,36,36)",
              "ticks": "outside"
             }
            },
            "type": "scattergl"
           }
          ],
          "scattermapbox": [
           {
            "marker": {
             "colorbar": {
              "outlinewidth": 1,
              "tickcolor": "rgb(36,36,36)",
              "ticks": "outside"
             }
            },
            "type": "scattermapbox"
           }
          ],
          "scatterpolar": [
           {
            "marker": {
             "colorbar": {
              "outlinewidth": 1,
              "tickcolor": "rgb(36,36,36)",
              "ticks": "outside"
             }
            },
            "type": "scatterpolar"
           }
          ],
          "scatterpolargl": [
           {
            "marker": {
             "colorbar": {
              "outlinewidth": 1,
              "tickcolor": "rgb(36,36,36)",
              "ticks": "outside"
             }
            },
            "type": "scatterpolargl"
           }
          ],
          "scatterternary": [
           {
            "marker": {
             "colorbar": {
              "outlinewidth": 1,
              "tickcolor": "rgb(36,36,36)",
              "ticks": "outside"
             }
            },
            "type": "scatterternary"
           }
          ],
          "surface": [
           {
            "colorbar": {
             "outlinewidth": 1,
             "tickcolor": "rgb(36,36,36)",
             "ticks": "outside"
            },
            "colorscale": [
             [
              0,
              "#440154"
             ],
             [
              0.1111111111111111,
              "#482878"
             ],
             [
              0.2222222222222222,
              "#3e4989"
             ],
             [
              0.3333333333333333,
              "#31688e"
             ],
             [
              0.4444444444444444,
              "#26828e"
             ],
             [
              0.5555555555555556,
              "#1f9e89"
             ],
             [
              0.6666666666666666,
              "#35b779"
             ],
             [
              0.7777777777777778,
              "#6ece58"
             ],
             [
              0.8888888888888888,
              "#b5de2b"
             ],
             [
              1,
              "#fde725"
             ]
            ],
            "type": "surface"
           }
          ],
          "table": [
           {
            "cells": {
             "fill": {
              "color": "rgb(237,237,237)"
             },
             "line": {
              "color": "white"
             }
            },
            "header": {
             "fill": {
              "color": "rgb(217,217,217)"
             },
             "line": {
              "color": "white"
             }
            },
            "type": "table"
           }
          ]
         },
         "layout": {
          "annotationdefaults": {
           "arrowhead": 0,
           "arrowwidth": 1
          },
          "autotypenumbers": "strict",
          "coloraxis": {
           "colorbar": {
            "outlinewidth": 1,
            "tickcolor": "rgb(36,36,36)",
            "ticks": "outside"
           }
          },
          "colorscale": {
           "diverging": [
            [
             0,
             "rgb(103,0,31)"
            ],
            [
             0.1,
             "rgb(178,24,43)"
            ],
            [
             0.2,
             "rgb(214,96,77)"
            ],
            [
             0.3,
             "rgb(244,165,130)"
            ],
            [
             0.4,
             "rgb(253,219,199)"
            ],
            [
             0.5,
             "rgb(247,247,247)"
            ],
            [
             0.6,
             "rgb(209,229,240)"
            ],
            [
             0.7,
             "rgb(146,197,222)"
            ],
            [
             0.8,
             "rgb(67,147,195)"
            ],
            [
             0.9,
             "rgb(33,102,172)"
            ],
            [
             1,
             "rgb(5,48,97)"
            ]
           ],
           "sequential": [
            [
             0,
             "#440154"
            ],
            [
             0.1111111111111111,
             "#482878"
            ],
            [
             0.2222222222222222,
             "#3e4989"
            ],
            [
             0.3333333333333333,
             "#31688e"
            ],
            [
             0.4444444444444444,
             "#26828e"
            ],
            [
             0.5555555555555556,
             "#1f9e89"
            ],
            [
             0.6666666666666666,
             "#35b779"
            ],
            [
             0.7777777777777778,
             "#6ece58"
            ],
            [
             0.8888888888888888,
             "#b5de2b"
            ],
            [
             1,
             "#fde725"
            ]
           ],
           "sequentialminus": [
            [
             0,
             "#440154"
            ],
            [
             0.1111111111111111,
             "#482878"
            ],
            [
             0.2222222222222222,
             "#3e4989"
            ],
            [
             0.3333333333333333,
             "#31688e"
            ],
            [
             0.4444444444444444,
             "#26828e"
            ],
            [
             0.5555555555555556,
             "#1f9e89"
            ],
            [
             0.6666666666666666,
             "#35b779"
            ],
            [
             0.7777777777777778,
             "#6ece58"
            ],
            [
             0.8888888888888888,
             "#b5de2b"
            ],
            [
             1,
             "#fde725"
            ]
           ]
          },
          "colorway": [
           "#1F77B4",
           "#FF7F0E",
           "#2CA02C",
           "#D62728",
           "#9467BD",
           "#8C564B",
           "#E377C2",
           "#7F7F7F",
           "#BCBD22",
           "#17BECF"
          ],
          "font": {
           "color": "rgb(36,36,36)"
          },
          "geo": {
           "bgcolor": "white",
           "lakecolor": "white",
           "landcolor": "white",
           "showlakes": true,
           "showland": true,
           "subunitcolor": "white"
          },
          "hoverlabel": {
           "align": "left"
          },
          "hovermode": "closest",
          "mapbox": {
           "style": "light"
          },
          "paper_bgcolor": "white",
          "plot_bgcolor": "white",
          "polar": {
           "angularaxis": {
            "gridcolor": "rgb(232,232,232)",
            "linecolor": "rgb(36,36,36)",
            "showgrid": false,
            "showline": true,
            "ticks": "outside"
           },
           "bgcolor": "white",
           "radialaxis": {
            "gridcolor": "rgb(232,232,232)",
            "linecolor": "rgb(36,36,36)",
            "showgrid": false,
            "showline": true,
            "ticks": "outside"
           }
          },
          "scene": {
           "xaxis": {
            "backgroundcolor": "white",
            "gridcolor": "rgb(232,232,232)",
            "gridwidth": 2,
            "linecolor": "rgb(36,36,36)",
            "showbackground": true,
            "showgrid": false,
            "showline": true,
            "ticks": "outside",
            "zeroline": false,
            "zerolinecolor": "rgb(36,36,36)"
           },
           "yaxis": {
            "backgroundcolor": "white",
            "gridcolor": "rgb(232,232,232)",
            "gridwidth": 2,
            "linecolor": "rgb(36,36,36)",
            "showbackground": true,
            "showgrid": false,
            "showline": true,
            "ticks": "outside",
            "zeroline": false,
            "zerolinecolor": "rgb(36,36,36)"
           },
           "zaxis": {
            "backgroundcolor": "white",
            "gridcolor": "rgb(232,232,232)",
            "gridwidth": 2,
            "linecolor": "rgb(36,36,36)",
            "showbackground": true,
            "showgrid": false,
            "showline": true,
            "ticks": "outside",
            "zeroline": false,
            "zerolinecolor": "rgb(36,36,36)"
           }
          },
          "shapedefaults": {
           "fillcolor": "black",
           "line": {
            "width": 0
           },
           "opacity": 0.3
          },
          "ternary": {
           "aaxis": {
            "gridcolor": "rgb(232,232,232)",
            "linecolor": "rgb(36,36,36)",
            "showgrid": false,
            "showline": true,
            "ticks": "outside"
           },
           "baxis": {
            "gridcolor": "rgb(232,232,232)",
            "linecolor": "rgb(36,36,36)",
            "showgrid": false,
            "showline": true,
            "ticks": "outside"
           },
           "bgcolor": "white",
           "caxis": {
            "gridcolor": "rgb(232,232,232)",
            "linecolor": "rgb(36,36,36)",
            "showgrid": false,
            "showline": true,
            "ticks": "outside"
           }
          },
          "title": {
           "x": 0.05
          },
          "xaxis": {
           "automargin": true,
           "gridcolor": "rgb(232,232,232)",
           "linecolor": "rgb(36,36,36)",
           "showgrid": false,
           "showline": true,
           "ticks": "outside",
           "title": {
            "standoff": 15
           },
           "zeroline": false,
           "zerolinecolor": "rgb(36,36,36)"
          },
          "yaxis": {
           "automargin": true,
           "gridcolor": "rgb(232,232,232)",
           "linecolor": "rgb(36,36,36)",
           "showgrid": false,
           "showline": true,
           "ticks": "outside",
           "title": {
            "standoff": 15
           },
           "zeroline": false,
           "zerolinecolor": "rgb(36,36,36)"
          }
         }
        },
        "title": {
         "font": {
          "color": "Black",
          "size": 22
         },
         "text": "<b>Documents and Topics</b>",
         "x": 0.5,
         "xanchor": "center",
         "yanchor": "top"
        },
        "width": 1200,
        "xaxis": {
         "visible": false
        },
        "yaxis": {
         "visible": false
        }
       }
      }
     },
     "metadata": {},
     "output_type": "display_data"
    }
   ],
   "source": [
    "\n",
    "topic_model.visualize_documents(docs)"
   ]
  },
  {
   "cell_type": "code",
   "execution_count": 144,
   "metadata": {},
   "outputs": [
    {
     "data": {
      "application/vnd.plotly.v1+json": {
       "config": {
        "plotlyServerURL": "https://plot.ly"
       },
       "data": [
        {
         "customdata": [
          [
           0,
           "malibu | barbershop | thế_sinh |  | ",
           2
          ],
          [
           1,
           "đọc | viết | chăm_chỉ | kiểu | học",
           8
          ],
          [
           2,
           "inf | kiểu | quan_sát | lớp | sai_lầm_ngudot",
           6
          ],
          [
           3,
           "trapboy | thang_máy | biến_thái | mất_thiện_cảm | thang",
           3
          ],
          [
           4,
           "xinh_ngại | dám | đồng_phục | ảnh | thi",
           1
          ]
         ],
         "hovertemplate": "<b>Topic %{customdata[0]}</b><br>%{customdata[1]}<br>Size: %{customdata[2]}",
         "legendgroup": "",
         "marker": {
          "color": "#B0BEC5",
          "line": {
           "color": "DarkSlateGrey",
           "width": 2
          },
          "size": [
           2,
           8,
           6,
           3,
           1
          ],
          "sizemode": "area",
          "sizeref": 0.005,
          "symbol": "circle"
         },
         "mode": "markers",
         "name": "",
         "orientation": "v",
         "showlegend": false,
         "type": "scatter",
         "x": [
          -11.479503631591797,
          -12.158382415771484,
          -12.274253845214844,
          -11.757156372070312,
          -12.944857597351074
         ],
         "xaxis": "x",
         "y": [
          -2.6007678508758545,
          -2.2235116958618164,
          -1.4548803567886353,
          -0.7585087418556213,
          -1.099769949913025
         ],
         "yaxis": "y"
        }
       ],
       "layout": {
        "annotations": [
         {
          "showarrow": false,
          "text": "D1",
          "x": -14.886586236953736,
          "y": -1.8178077295422554,
          "yshift": 10
         },
         {
          "showarrow": false,
          "text": "D2",
          "x": -12.322082161903381,
          "xshift": 10,
          "y": -0.6447324305772781
         }
        ],
        "height": 650,
        "hoverlabel": {
         "bgcolor": "white",
         "font": {
          "family": "Rockwell",
          "size": 16
         }
        },
        "legend": {
         "itemsizing": "constant",
         "tracegroupgap": 0
        },
        "margin": {
         "t": 60
        },
        "shapes": [
         {
          "line": {
           "color": "#CFD8DC",
           "width": 2
          },
          "type": "line",
          "x0": -12.322082161903381,
          "x1": -12.322082161903381,
          "y0": -2.9908830285072328,
          "y1": -0.6447324305772781
         },
         {
          "line": {
           "color": "#9E9E9E",
           "width": 2
          },
          "type": "line",
          "x0": -14.886586236953736,
          "x1": -9.757578086853027,
          "y0": -1.8178077295422554,
          "y1": -1.8178077295422554
         }
        ],
        "sliders": [
         {
          "active": 0,
          "pad": {
           "t": 50
          },
          "steps": [
           {
            "args": [
             {
              "marker.color": [
               [
                "red",
                "#B0BEC5",
                "#B0BEC5",
                "#B0BEC5",
                "#B0BEC5"
               ]
              ]
             }
            ],
            "label": "Topic 0",
            "method": "update"
           },
           {
            "args": [
             {
              "marker.color": [
               [
                "#B0BEC5",
                "red",
                "#B0BEC5",
                "#B0BEC5",
                "#B0BEC5"
               ]
              ]
             }
            ],
            "label": "Topic 1",
            "method": "update"
           },
           {
            "args": [
             {
              "marker.color": [
               [
                "#B0BEC5",
                "#B0BEC5",
                "red",
                "#B0BEC5",
                "#B0BEC5"
               ]
              ]
             }
            ],
            "label": "Topic 2",
            "method": "update"
           },
           {
            "args": [
             {
              "marker.color": [
               [
                "#B0BEC5",
                "#B0BEC5",
                "#B0BEC5",
                "red",
                "#B0BEC5"
               ]
              ]
             }
            ],
            "label": "Topic 3",
            "method": "update"
           },
           {
            "args": [
             {
              "marker.color": [
               [
                "#B0BEC5",
                "#B0BEC5",
                "#B0BEC5",
                "#B0BEC5",
                "red"
               ]
              ]
             }
            ],
            "label": "Topic 4",
            "method": "update"
           }
          ]
         }
        ],
        "template": {
         "data": {
          "bar": [
           {
            "error_x": {
             "color": "rgb(36,36,36)"
            },
            "error_y": {
             "color": "rgb(36,36,36)"
            },
            "marker": {
             "line": {
              "color": "white",
              "width": 0.5
             },
             "pattern": {
              "fillmode": "overlay",
              "size": 10,
              "solidity": 0.2
             }
            },
            "type": "bar"
           }
          ],
          "barpolar": [
           {
            "marker": {
             "line": {
              "color": "white",
              "width": 0.5
             },
             "pattern": {
              "fillmode": "overlay",
              "size": 10,
              "solidity": 0.2
             }
            },
            "type": "barpolar"
           }
          ],
          "carpet": [
           {
            "aaxis": {
             "endlinecolor": "rgb(36,36,36)",
             "gridcolor": "white",
             "linecolor": "white",
             "minorgridcolor": "white",
             "startlinecolor": "rgb(36,36,36)"
            },
            "baxis": {
             "endlinecolor": "rgb(36,36,36)",
             "gridcolor": "white",
             "linecolor": "white",
             "minorgridcolor": "white",
             "startlinecolor": "rgb(36,36,36)"
            },
            "type": "carpet"
           }
          ],
          "choropleth": [
           {
            "colorbar": {
             "outlinewidth": 1,
             "tickcolor": "rgb(36,36,36)",
             "ticks": "outside"
            },
            "type": "choropleth"
           }
          ],
          "contour": [
           {
            "colorbar": {
             "outlinewidth": 1,
             "tickcolor": "rgb(36,36,36)",
             "ticks": "outside"
            },
            "colorscale": [
             [
              0,
              "#440154"
             ],
             [
              0.1111111111111111,
              "#482878"
             ],
             [
              0.2222222222222222,
              "#3e4989"
             ],
             [
              0.3333333333333333,
              "#31688e"
             ],
             [
              0.4444444444444444,
              "#26828e"
             ],
             [
              0.5555555555555556,
              "#1f9e89"
             ],
             [
              0.6666666666666666,
              "#35b779"
             ],
             [
              0.7777777777777778,
              "#6ece58"
             ],
             [
              0.8888888888888888,
              "#b5de2b"
             ],
             [
              1,
              "#fde725"
             ]
            ],
            "type": "contour"
           }
          ],
          "contourcarpet": [
           {
            "colorbar": {
             "outlinewidth": 1,
             "tickcolor": "rgb(36,36,36)",
             "ticks": "outside"
            },
            "type": "contourcarpet"
           }
          ],
          "heatmap": [
           {
            "colorbar": {
             "outlinewidth": 1,
             "tickcolor": "rgb(36,36,36)",
             "ticks": "outside"
            },
            "colorscale": [
             [
              0,
              "#440154"
             ],
             [
              0.1111111111111111,
              "#482878"
             ],
             [
              0.2222222222222222,
              "#3e4989"
             ],
             [
              0.3333333333333333,
              "#31688e"
             ],
             [
              0.4444444444444444,
              "#26828e"
             ],
             [
              0.5555555555555556,
              "#1f9e89"
             ],
             [
              0.6666666666666666,
              "#35b779"
             ],
             [
              0.7777777777777778,
              "#6ece58"
             ],
             [
              0.8888888888888888,
              "#b5de2b"
             ],
             [
              1,
              "#fde725"
             ]
            ],
            "type": "heatmap"
           }
          ],
          "heatmapgl": [
           {
            "colorbar": {
             "outlinewidth": 1,
             "tickcolor": "rgb(36,36,36)",
             "ticks": "outside"
            },
            "colorscale": [
             [
              0,
              "#440154"
             ],
             [
              0.1111111111111111,
              "#482878"
             ],
             [
              0.2222222222222222,
              "#3e4989"
             ],
             [
              0.3333333333333333,
              "#31688e"
             ],
             [
              0.4444444444444444,
              "#26828e"
             ],
             [
              0.5555555555555556,
              "#1f9e89"
             ],
             [
              0.6666666666666666,
              "#35b779"
             ],
             [
              0.7777777777777778,
              "#6ece58"
             ],
             [
              0.8888888888888888,
              "#b5de2b"
             ],
             [
              1,
              "#fde725"
             ]
            ],
            "type": "heatmapgl"
           }
          ],
          "histogram": [
           {
            "marker": {
             "line": {
              "color": "white",
              "width": 0.6
             }
            },
            "type": "histogram"
           }
          ],
          "histogram2d": [
           {
            "colorbar": {
             "outlinewidth": 1,
             "tickcolor": "rgb(36,36,36)",
             "ticks": "outside"
            },
            "colorscale": [
             [
              0,
              "#440154"
             ],
             [
              0.1111111111111111,
              "#482878"
             ],
             [
              0.2222222222222222,
              "#3e4989"
             ],
             [
              0.3333333333333333,
              "#31688e"
             ],
             [
              0.4444444444444444,
              "#26828e"
             ],
             [
              0.5555555555555556,
              "#1f9e89"
             ],
             [
              0.6666666666666666,
              "#35b779"
             ],
             [
              0.7777777777777778,
              "#6ece58"
             ],
             [
              0.8888888888888888,
              "#b5de2b"
             ],
             [
              1,
              "#fde725"
             ]
            ],
            "type": "histogram2d"
           }
          ],
          "histogram2dcontour": [
           {
            "colorbar": {
             "outlinewidth": 1,
             "tickcolor": "rgb(36,36,36)",
             "ticks": "outside"
            },
            "colorscale": [
             [
              0,
              "#440154"
             ],
             [
              0.1111111111111111,
              "#482878"
             ],
             [
              0.2222222222222222,
              "#3e4989"
             ],
             [
              0.3333333333333333,
              "#31688e"
             ],
             [
              0.4444444444444444,
              "#26828e"
             ],
             [
              0.5555555555555556,
              "#1f9e89"
             ],
             [
              0.6666666666666666,
              "#35b779"
             ],
             [
              0.7777777777777778,
              "#6ece58"
             ],
             [
              0.8888888888888888,
              "#b5de2b"
             ],
             [
              1,
              "#fde725"
             ]
            ],
            "type": "histogram2dcontour"
           }
          ],
          "mesh3d": [
           {
            "colorbar": {
             "outlinewidth": 1,
             "tickcolor": "rgb(36,36,36)",
             "ticks": "outside"
            },
            "type": "mesh3d"
           }
          ],
          "parcoords": [
           {
            "line": {
             "colorbar": {
              "outlinewidth": 1,
              "tickcolor": "rgb(36,36,36)",
              "ticks": "outside"
             }
            },
            "type": "parcoords"
           }
          ],
          "pie": [
           {
            "automargin": true,
            "type": "pie"
           }
          ],
          "scatter": [
           {
            "fillpattern": {
             "fillmode": "overlay",
             "size": 10,
             "solidity": 0.2
            },
            "type": "scatter"
           }
          ],
          "scatter3d": [
           {
            "line": {
             "colorbar": {
              "outlinewidth": 1,
              "tickcolor": "rgb(36,36,36)",
              "ticks": "outside"
             }
            },
            "marker": {
             "colorbar": {
              "outlinewidth": 1,
              "tickcolor": "rgb(36,36,36)",
              "ticks": "outside"
             }
            },
            "type": "scatter3d"
           }
          ],
          "scattercarpet": [
           {
            "marker": {
             "colorbar": {
              "outlinewidth": 1,
              "tickcolor": "rgb(36,36,36)",
              "ticks": "outside"
             }
            },
            "type": "scattercarpet"
           }
          ],
          "scattergeo": [
           {
            "marker": {
             "colorbar": {
              "outlinewidth": 1,
              "tickcolor": "rgb(36,36,36)",
              "ticks": "outside"
             }
            },
            "type": "scattergeo"
           }
          ],
          "scattergl": [
           {
            "marker": {
             "colorbar": {
              "outlinewidth": 1,
              "tickcolor": "rgb(36,36,36)",
              "ticks": "outside"
             }
            },
            "type": "scattergl"
           }
          ],
          "scattermapbox": [
           {
            "marker": {
             "colorbar": {
              "outlinewidth": 1,
              "tickcolor": "rgb(36,36,36)",
              "ticks": "outside"
             }
            },
            "type": "scattermapbox"
           }
          ],
          "scatterpolar": [
           {
            "marker": {
             "colorbar": {
              "outlinewidth": 1,
              "tickcolor": "rgb(36,36,36)",
              "ticks": "outside"
             }
            },
            "type": "scatterpolar"
           }
          ],
          "scatterpolargl": [
           {
            "marker": {
             "colorbar": {
              "outlinewidth": 1,
              "tickcolor": "rgb(36,36,36)",
              "ticks": "outside"
             }
            },
            "type": "scatterpolargl"
           }
          ],
          "scatterternary": [
           {
            "marker": {
             "colorbar": {
              "outlinewidth": 1,
              "tickcolor": "rgb(36,36,36)",
              "ticks": "outside"
             }
            },
            "type": "scatterternary"
           }
          ],
          "surface": [
           {
            "colorbar": {
             "outlinewidth": 1,
             "tickcolor": "rgb(36,36,36)",
             "ticks": "outside"
            },
            "colorscale": [
             [
              0,
              "#440154"
             ],
             [
              0.1111111111111111,
              "#482878"
             ],
             [
              0.2222222222222222,
              "#3e4989"
             ],
             [
              0.3333333333333333,
              "#31688e"
             ],
             [
              0.4444444444444444,
              "#26828e"
             ],
             [
              0.5555555555555556,
              "#1f9e89"
             ],
             [
              0.6666666666666666,
              "#35b779"
             ],
             [
              0.7777777777777778,
              "#6ece58"
             ],
             [
              0.8888888888888888,
              "#b5de2b"
             ],
             [
              1,
              "#fde725"
             ]
            ],
            "type": "surface"
           }
          ],
          "table": [
           {
            "cells": {
             "fill": {
              "color": "rgb(237,237,237)"
             },
             "line": {
              "color": "white"
             }
            },
            "header": {
             "fill": {
              "color": "rgb(217,217,217)"
             },
             "line": {
              "color": "white"
             }
            },
            "type": "table"
           }
          ]
         },
         "layout": {
          "annotationdefaults": {
           "arrowhead": 0,
           "arrowwidth": 1
          },
          "autotypenumbers": "strict",
          "coloraxis": {
           "colorbar": {
            "outlinewidth": 1,
            "tickcolor": "rgb(36,36,36)",
            "ticks": "outside"
           }
          },
          "colorscale": {
           "diverging": [
            [
             0,
             "rgb(103,0,31)"
            ],
            [
             0.1,
             "rgb(178,24,43)"
            ],
            [
             0.2,
             "rgb(214,96,77)"
            ],
            [
             0.3,
             "rgb(244,165,130)"
            ],
            [
             0.4,
             "rgb(253,219,199)"
            ],
            [
             0.5,
             "rgb(247,247,247)"
            ],
            [
             0.6,
             "rgb(209,229,240)"
            ],
            [
             0.7,
             "rgb(146,197,222)"
            ],
            [
             0.8,
             "rgb(67,147,195)"
            ],
            [
             0.9,
             "rgb(33,102,172)"
            ],
            [
             1,
             "rgb(5,48,97)"
            ]
           ],
           "sequential": [
            [
             0,
             "#440154"
            ],
            [
             0.1111111111111111,
             "#482878"
            ],
            [
             0.2222222222222222,
             "#3e4989"
            ],
            [
             0.3333333333333333,
             "#31688e"
            ],
            [
             0.4444444444444444,
             "#26828e"
            ],
            [
             0.5555555555555556,
             "#1f9e89"
            ],
            [
             0.6666666666666666,
             "#35b779"
            ],
            [
             0.7777777777777778,
             "#6ece58"
            ],
            [
             0.8888888888888888,
             "#b5de2b"
            ],
            [
             1,
             "#fde725"
            ]
           ],
           "sequentialminus": [
            [
             0,
             "#440154"
            ],
            [
             0.1111111111111111,
             "#482878"
            ],
            [
             0.2222222222222222,
             "#3e4989"
            ],
            [
             0.3333333333333333,
             "#31688e"
            ],
            [
             0.4444444444444444,
             "#26828e"
            ],
            [
             0.5555555555555556,
             "#1f9e89"
            ],
            [
             0.6666666666666666,
             "#35b779"
            ],
            [
             0.7777777777777778,
             "#6ece58"
            ],
            [
             0.8888888888888888,
             "#b5de2b"
            ],
            [
             1,
             "#fde725"
            ]
           ]
          },
          "colorway": [
           "#1F77B4",
           "#FF7F0E",
           "#2CA02C",
           "#D62728",
           "#9467BD",
           "#8C564B",
           "#E377C2",
           "#7F7F7F",
           "#BCBD22",
           "#17BECF"
          ],
          "font": {
           "color": "rgb(36,36,36)"
          },
          "geo": {
           "bgcolor": "white",
           "lakecolor": "white",
           "landcolor": "white",
           "showlakes": true,
           "showland": true,
           "subunitcolor": "white"
          },
          "hoverlabel": {
           "align": "left"
          },
          "hovermode": "closest",
          "mapbox": {
           "style": "light"
          },
          "paper_bgcolor": "white",
          "plot_bgcolor": "white",
          "polar": {
           "angularaxis": {
            "gridcolor": "rgb(232,232,232)",
            "linecolor": "rgb(36,36,36)",
            "showgrid": false,
            "showline": true,
            "ticks": "outside"
           },
           "bgcolor": "white",
           "radialaxis": {
            "gridcolor": "rgb(232,232,232)",
            "linecolor": "rgb(36,36,36)",
            "showgrid": false,
            "showline": true,
            "ticks": "outside"
           }
          },
          "scene": {
           "xaxis": {
            "backgroundcolor": "white",
            "gridcolor": "rgb(232,232,232)",
            "gridwidth": 2,
            "linecolor": "rgb(36,36,36)",
            "showbackground": true,
            "showgrid": false,
            "showline": true,
            "ticks": "outside",
            "zeroline": false,
            "zerolinecolor": "rgb(36,36,36)"
           },
           "yaxis": {
            "backgroundcolor": "white",
            "gridcolor": "rgb(232,232,232)",
            "gridwidth": 2,
            "linecolor": "rgb(36,36,36)",
            "showbackground": true,
            "showgrid": false,
            "showline": true,
            "ticks": "outside",
            "zeroline": false,
            "zerolinecolor": "rgb(36,36,36)"
           },
           "zaxis": {
            "backgroundcolor": "white",
            "gridcolor": "rgb(232,232,232)",
            "gridwidth": 2,
            "linecolor": "rgb(36,36,36)",
            "showbackground": true,
            "showgrid": false,
            "showline": true,
            "ticks": "outside",
            "zeroline": false,
            "zerolinecolor": "rgb(36,36,36)"
           }
          },
          "shapedefaults": {
           "fillcolor": "black",
           "line": {
            "width": 0
           },
           "opacity": 0.3
          },
          "ternary": {
           "aaxis": {
            "gridcolor": "rgb(232,232,232)",
            "linecolor": "rgb(36,36,36)",
            "showgrid": false,
            "showline": true,
            "ticks": "outside"
           },
           "baxis": {
            "gridcolor": "rgb(232,232,232)",
            "linecolor": "rgb(36,36,36)",
            "showgrid": false,
            "showline": true,
            "ticks": "outside"
           },
           "bgcolor": "white",
           "caxis": {
            "gridcolor": "rgb(232,232,232)",
            "linecolor": "rgb(36,36,36)",
            "showgrid": false,
            "showline": true,
            "ticks": "outside"
           }
          },
          "title": {
           "x": 0.05
          },
          "xaxis": {
           "automargin": true,
           "gridcolor": "rgb(232,232,232)",
           "linecolor": "rgb(36,36,36)",
           "showgrid": false,
           "showline": true,
           "ticks": "outside",
           "title": {
            "standoff": 15
           },
           "zeroline": false,
           "zerolinecolor": "rgb(36,36,36)"
          },
          "yaxis": {
           "automargin": true,
           "gridcolor": "rgb(232,232,232)",
           "linecolor": "rgb(36,36,36)",
           "showgrid": false,
           "showline": true,
           "ticks": "outside",
           "title": {
            "standoff": 15
           },
           "zeroline": false,
           "zerolinecolor": "rgb(36,36,36)"
          }
         }
        },
        "title": {
         "font": {
          "color": "Black",
          "size": 22
         },
         "text": "<b>Intertopic Distance Map</b>",
         "x": 0.5,
         "xanchor": "center",
         "y": 0.95,
         "yanchor": "top"
        },
        "width": 650,
        "xaxis": {
         "anchor": "y",
         "domain": [
          0,
          1
         ],
         "range": [
          -14.886586236953736,
          -9.757578086853027
         ],
         "title": {
          "text": ""
         },
         "visible": false
        },
        "yaxis": {
         "anchor": "x",
         "domain": [
          0,
          1
         ],
         "range": [
          -2.9908830285072328,
          -0.6447324305772781
         ],
         "title": {
          "text": ""
         },
         "visible": false
        }
       }
      }
     },
     "metadata": {},
     "output_type": "display_data"
    }
   ],
   "source": [
    "topic_model.visualize_topics()"
   ]
  },
  {
   "cell_type": "markdown",
   "metadata": {},
   "source": [
    "Các chủ đề được tạo có thể được giảm bớt theo thứ bậc. Để hiểu cấu trúc phân cấp tiềm năng của các chủ đề, chúng ta có thể sử dụng scipy.cluster.hierarchy để tạo các cụm và trực quan hóa cách chúng liên quan với nhau. Điều này có thể giúp chọn nr_topics thích hợp khi giảm số lượng chủ đề bạn đã tạo. Để hình dung hệ thống phân cấp này, hãy chạy như sau:"
   ]
  },
  {
   "cell_type": "code",
   "execution_count": 145,
   "metadata": {},
   "outputs": [
    {
     "data": {
      "application/vnd.plotly.v1+json": {
       "config": {
        "plotlyServerURL": "https://plot.ly"
       },
       "data": [
        {
         "hoverinfo": "text",
         "marker": {
          "color": "rgb(61,153,112)"
         },
         "mode": "lines",
         "type": "scatter",
         "x": [
          0,
          0.8054312423076344,
          0.8054312423076344,
          0
         ],
         "xaxis": "x",
         "y": [
          -5,
          -5,
          -15,
          -15
         ],
         "yaxis": "y"
        },
        {
         "hoverinfo": "text",
         "marker": {
          "color": "rgb(61,153,112)"
         },
         "mode": "lines",
         "type": "scatter",
         "x": [
          0.8054312423076344,
          0.9417277247918601,
          0.9417277247918601,
          0
         ],
         "xaxis": "x",
         "y": [
          -10,
          -10,
          -25,
          -25
         ],
         "yaxis": "y"
        },
        {
         "hoverinfo": "text",
         "marker": {
          "color": "rgb(0,116,217)"
         },
         "mode": "lines",
         "type": "scatter",
         "x": [
          0,
          1,
          1,
          0
         ],
         "xaxis": "x",
         "y": [
          -35,
          -35,
          -45,
          -45
         ],
         "yaxis": "y"
        },
        {
         "hoverinfo": "text",
         "marker": {
          "color": "rgb(0,116,217)"
         },
         "mode": "lines",
         "type": "scatter",
         "x": [
          0.9417277247918601,
          1.0417557134945759,
          1.0417557134945759,
          1
         ],
         "xaxis": "x",
         "y": [
          -17.5,
          -17.5,
          -40,
          -40
         ],
         "yaxis": "y"
        }
       ],
       "layout": {
        "autosize": false,
        "height": 275,
        "hoverlabel": {
         "bgcolor": "white",
         "font": {
          "family": "Rockwell",
          "size": 16
         }
        },
        "hovermode": "closest",
        "plot_bgcolor": "#ECEFF1",
        "showlegend": false,
        "template": {
         "data": {
          "bar": [
           {
            "error_x": {
             "color": "#2a3f5f"
            },
            "error_y": {
             "color": "#2a3f5f"
            },
            "marker": {
             "line": {
              "color": "white",
              "width": 0.5
             },
             "pattern": {
              "fillmode": "overlay",
              "size": 10,
              "solidity": 0.2
             }
            },
            "type": "bar"
           }
          ],
          "barpolar": [
           {
            "marker": {
             "line": {
              "color": "white",
              "width": 0.5
             },
             "pattern": {
              "fillmode": "overlay",
              "size": 10,
              "solidity": 0.2
             }
            },
            "type": "barpolar"
           }
          ],
          "carpet": [
           {
            "aaxis": {
             "endlinecolor": "#2a3f5f",
             "gridcolor": "#C8D4E3",
             "linecolor": "#C8D4E3",
             "minorgridcolor": "#C8D4E3",
             "startlinecolor": "#2a3f5f"
            },
            "baxis": {
             "endlinecolor": "#2a3f5f",
             "gridcolor": "#C8D4E3",
             "linecolor": "#C8D4E3",
             "minorgridcolor": "#C8D4E3",
             "startlinecolor": "#2a3f5f"
            },
            "type": "carpet"
           }
          ],
          "choropleth": [
           {
            "colorbar": {
             "outlinewidth": 0,
             "ticks": ""
            },
            "type": "choropleth"
           }
          ],
          "contour": [
           {
            "colorbar": {
             "outlinewidth": 0,
             "ticks": ""
            },
            "colorscale": [
             [
              0,
              "#0d0887"
             ],
             [
              0.1111111111111111,
              "#46039f"
             ],
             [
              0.2222222222222222,
              "#7201a8"
             ],
             [
              0.3333333333333333,
              "#9c179e"
             ],
             [
              0.4444444444444444,
              "#bd3786"
             ],
             [
              0.5555555555555556,
              "#d8576b"
             ],
             [
              0.6666666666666666,
              "#ed7953"
             ],
             [
              0.7777777777777778,
              "#fb9f3a"
             ],
             [
              0.8888888888888888,
              "#fdca26"
             ],
             [
              1,
              "#f0f921"
             ]
            ],
            "type": "contour"
           }
          ],
          "contourcarpet": [
           {
            "colorbar": {
             "outlinewidth": 0,
             "ticks": ""
            },
            "type": "contourcarpet"
           }
          ],
          "heatmap": [
           {
            "colorbar": {
             "outlinewidth": 0,
             "ticks": ""
            },
            "colorscale": [
             [
              0,
              "#0d0887"
             ],
             [
              0.1111111111111111,
              "#46039f"
             ],
             [
              0.2222222222222222,
              "#7201a8"
             ],
             [
              0.3333333333333333,
              "#9c179e"
             ],
             [
              0.4444444444444444,
              "#bd3786"
             ],
             [
              0.5555555555555556,
              "#d8576b"
             ],
             [
              0.6666666666666666,
              "#ed7953"
             ],
             [
              0.7777777777777778,
              "#fb9f3a"
             ],
             [
              0.8888888888888888,
              "#fdca26"
             ],
             [
              1,
              "#f0f921"
             ]
            ],
            "type": "heatmap"
           }
          ],
          "heatmapgl": [
           {
            "colorbar": {
             "outlinewidth": 0,
             "ticks": ""
            },
            "colorscale": [
             [
              0,
              "#0d0887"
             ],
             [
              0.1111111111111111,
              "#46039f"
             ],
             [
              0.2222222222222222,
              "#7201a8"
             ],
             [
              0.3333333333333333,
              "#9c179e"
             ],
             [
              0.4444444444444444,
              "#bd3786"
             ],
             [
              0.5555555555555556,
              "#d8576b"
             ],
             [
              0.6666666666666666,
              "#ed7953"
             ],
             [
              0.7777777777777778,
              "#fb9f3a"
             ],
             [
              0.8888888888888888,
              "#fdca26"
             ],
             [
              1,
              "#f0f921"
             ]
            ],
            "type": "heatmapgl"
           }
          ],
          "histogram": [
           {
            "marker": {
             "pattern": {
              "fillmode": "overlay",
              "size": 10,
              "solidity": 0.2
             }
            },
            "type": "histogram"
           }
          ],
          "histogram2d": [
           {
            "colorbar": {
             "outlinewidth": 0,
             "ticks": ""
            },
            "colorscale": [
             [
              0,
              "#0d0887"
             ],
             [
              0.1111111111111111,
              "#46039f"
             ],
             [
              0.2222222222222222,
              "#7201a8"
             ],
             [
              0.3333333333333333,
              "#9c179e"
             ],
             [
              0.4444444444444444,
              "#bd3786"
             ],
             [
              0.5555555555555556,
              "#d8576b"
             ],
             [
              0.6666666666666666,
              "#ed7953"
             ],
             [
              0.7777777777777778,
              "#fb9f3a"
             ],
             [
              0.8888888888888888,
              "#fdca26"
             ],
             [
              1,
              "#f0f921"
             ]
            ],
            "type": "histogram2d"
           }
          ],
          "histogram2dcontour": [
           {
            "colorbar": {
             "outlinewidth": 0,
             "ticks": ""
            },
            "colorscale": [
             [
              0,
              "#0d0887"
             ],
             [
              0.1111111111111111,
              "#46039f"
             ],
             [
              0.2222222222222222,
              "#7201a8"
             ],
             [
              0.3333333333333333,
              "#9c179e"
             ],
             [
              0.4444444444444444,
              "#bd3786"
             ],
             [
              0.5555555555555556,
              "#d8576b"
             ],
             [
              0.6666666666666666,
              "#ed7953"
             ],
             [
              0.7777777777777778,
              "#fb9f3a"
             ],
             [
              0.8888888888888888,
              "#fdca26"
             ],
             [
              1,
              "#f0f921"
             ]
            ],
            "type": "histogram2dcontour"
           }
          ],
          "mesh3d": [
           {
            "colorbar": {
             "outlinewidth": 0,
             "ticks": ""
            },
            "type": "mesh3d"
           }
          ],
          "parcoords": [
           {
            "line": {
             "colorbar": {
              "outlinewidth": 0,
              "ticks": ""
             }
            },
            "type": "parcoords"
           }
          ],
          "pie": [
           {
            "automargin": true,
            "type": "pie"
           }
          ],
          "scatter": [
           {
            "fillpattern": {
             "fillmode": "overlay",
             "size": 10,
             "solidity": 0.2
            },
            "type": "scatter"
           }
          ],
          "scatter3d": [
           {
            "line": {
             "colorbar": {
              "outlinewidth": 0,
              "ticks": ""
             }
            },
            "marker": {
             "colorbar": {
              "outlinewidth": 0,
              "ticks": ""
             }
            },
            "type": "scatter3d"
           }
          ],
          "scattercarpet": [
           {
            "marker": {
             "colorbar": {
              "outlinewidth": 0,
              "ticks": ""
             }
            },
            "type": "scattercarpet"
           }
          ],
          "scattergeo": [
           {
            "marker": {
             "colorbar": {
              "outlinewidth": 0,
              "ticks": ""
             }
            },
            "type": "scattergeo"
           }
          ],
          "scattergl": [
           {
            "marker": {
             "colorbar": {
              "outlinewidth": 0,
              "ticks": ""
             }
            },
            "type": "scattergl"
           }
          ],
          "scattermapbox": [
           {
            "marker": {
             "colorbar": {
              "outlinewidth": 0,
              "ticks": ""
             }
            },
            "type": "scattermapbox"
           }
          ],
          "scatterpolar": [
           {
            "marker": {
             "colorbar": {
              "outlinewidth": 0,
              "ticks": ""
             }
            },
            "type": "scatterpolar"
           }
          ],
          "scatterpolargl": [
           {
            "marker": {
             "colorbar": {
              "outlinewidth": 0,
              "ticks": ""
             }
            },
            "type": "scatterpolargl"
           }
          ],
          "scatterternary": [
           {
            "marker": {
             "colorbar": {
              "outlinewidth": 0,
              "ticks": ""
             }
            },
            "type": "scatterternary"
           }
          ],
          "surface": [
           {
            "colorbar": {
             "outlinewidth": 0,
             "ticks": ""
            },
            "colorscale": [
             [
              0,
              "#0d0887"
             ],
             [
              0.1111111111111111,
              "#46039f"
             ],
             [
              0.2222222222222222,
              "#7201a8"
             ],
             [
              0.3333333333333333,
              "#9c179e"
             ],
             [
              0.4444444444444444,
              "#bd3786"
             ],
             [
              0.5555555555555556,
              "#d8576b"
             ],
             [
              0.6666666666666666,
              "#ed7953"
             ],
             [
              0.7777777777777778,
              "#fb9f3a"
             ],
             [
              0.8888888888888888,
              "#fdca26"
             ],
             [
              1,
              "#f0f921"
             ]
            ],
            "type": "surface"
           }
          ],
          "table": [
           {
            "cells": {
             "fill": {
              "color": "#EBF0F8"
             },
             "line": {
              "color": "white"
             }
            },
            "header": {
             "fill": {
              "color": "#C8D4E3"
             },
             "line": {
              "color": "white"
             }
            },
            "type": "table"
           }
          ]
         },
         "layout": {
          "annotationdefaults": {
           "arrowcolor": "#2a3f5f",
           "arrowhead": 0,
           "arrowwidth": 1
          },
          "autotypenumbers": "strict",
          "coloraxis": {
           "colorbar": {
            "outlinewidth": 0,
            "ticks": ""
           }
          },
          "colorscale": {
           "diverging": [
            [
             0,
             "#8e0152"
            ],
            [
             0.1,
             "#c51b7d"
            ],
            [
             0.2,
             "#de77ae"
            ],
            [
             0.3,
             "#f1b6da"
            ],
            [
             0.4,
             "#fde0ef"
            ],
            [
             0.5,
             "#f7f7f7"
            ],
            [
             0.6,
             "#e6f5d0"
            ],
            [
             0.7,
             "#b8e186"
            ],
            [
             0.8,
             "#7fbc41"
            ],
            [
             0.9,
             "#4d9221"
            ],
            [
             1,
             "#276419"
            ]
           ],
           "sequential": [
            [
             0,
             "#0d0887"
            ],
            [
             0.1111111111111111,
             "#46039f"
            ],
            [
             0.2222222222222222,
             "#7201a8"
            ],
            [
             0.3333333333333333,
             "#9c179e"
            ],
            [
             0.4444444444444444,
             "#bd3786"
            ],
            [
             0.5555555555555556,
             "#d8576b"
            ],
            [
             0.6666666666666666,
             "#ed7953"
            ],
            [
             0.7777777777777778,
             "#fb9f3a"
            ],
            [
             0.8888888888888888,
             "#fdca26"
            ],
            [
             1,
             "#f0f921"
            ]
           ],
           "sequentialminus": [
            [
             0,
             "#0d0887"
            ],
            [
             0.1111111111111111,
             "#46039f"
            ],
            [
             0.2222222222222222,
             "#7201a8"
            ],
            [
             0.3333333333333333,
             "#9c179e"
            ],
            [
             0.4444444444444444,
             "#bd3786"
            ],
            [
             0.5555555555555556,
             "#d8576b"
            ],
            [
             0.6666666666666666,
             "#ed7953"
            ],
            [
             0.7777777777777778,
             "#fb9f3a"
            ],
            [
             0.8888888888888888,
             "#fdca26"
            ],
            [
             1,
             "#f0f921"
            ]
           ]
          },
          "colorway": [
           "#636efa",
           "#EF553B",
           "#00cc96",
           "#ab63fa",
           "#FFA15A",
           "#19d3f3",
           "#FF6692",
           "#B6E880",
           "#FF97FF",
           "#FECB52"
          ],
          "font": {
           "color": "#2a3f5f"
          },
          "geo": {
           "bgcolor": "white",
           "lakecolor": "white",
           "landcolor": "white",
           "showlakes": true,
           "showland": true,
           "subunitcolor": "#C8D4E3"
          },
          "hoverlabel": {
           "align": "left"
          },
          "hovermode": "closest",
          "mapbox": {
           "style": "light"
          },
          "paper_bgcolor": "white",
          "plot_bgcolor": "white",
          "polar": {
           "angularaxis": {
            "gridcolor": "#EBF0F8",
            "linecolor": "#EBF0F8",
            "ticks": ""
           },
           "bgcolor": "white",
           "radialaxis": {
            "gridcolor": "#EBF0F8",
            "linecolor": "#EBF0F8",
            "ticks": ""
           }
          },
          "scene": {
           "xaxis": {
            "backgroundcolor": "white",
            "gridcolor": "#DFE8F3",
            "gridwidth": 2,
            "linecolor": "#EBF0F8",
            "showbackground": true,
            "ticks": "",
            "zerolinecolor": "#EBF0F8"
           },
           "yaxis": {
            "backgroundcolor": "white",
            "gridcolor": "#DFE8F3",
            "gridwidth": 2,
            "linecolor": "#EBF0F8",
            "showbackground": true,
            "ticks": "",
            "zerolinecolor": "#EBF0F8"
           },
           "zaxis": {
            "backgroundcolor": "white",
            "gridcolor": "#DFE8F3",
            "gridwidth": 2,
            "linecolor": "#EBF0F8",
            "showbackground": true,
            "ticks": "",
            "zerolinecolor": "#EBF0F8"
           }
          },
          "shapedefaults": {
           "line": {
            "color": "#2a3f5f"
           }
          },
          "ternary": {
           "aaxis": {
            "gridcolor": "#DFE8F3",
            "linecolor": "#A2B1C6",
            "ticks": ""
           },
           "baxis": {
            "gridcolor": "#DFE8F3",
            "linecolor": "#A2B1C6",
            "ticks": ""
           },
           "bgcolor": "white",
           "caxis": {
            "gridcolor": "#DFE8F3",
            "linecolor": "#A2B1C6",
            "ticks": ""
           }
          },
          "title": {
           "x": 0.05
          },
          "xaxis": {
           "automargin": true,
           "gridcolor": "#EBF0F8",
           "linecolor": "#EBF0F8",
           "ticks": "",
           "title": {
            "standoff": 15
           },
           "zerolinecolor": "#EBF0F8",
           "zerolinewidth": 2
          },
          "yaxis": {
           "automargin": true,
           "gridcolor": "#EBF0F8",
           "linecolor": "#EBF0F8",
           "ticks": "",
           "title": {
            "standoff": 15
           },
           "zerolinecolor": "#EBF0F8",
           "zerolinewidth": 2
          }
         }
        },
        "title": {
         "font": {
          "color": "Black",
          "size": 22
         },
         "text": "<b>Hierarchical Clustering</b>",
         "x": 0.5,
         "xanchor": "center",
         "yanchor": "top"
        },
        "width": 1000,
        "xaxis": {
         "mirror": "allticks",
         "rangemode": "tozero",
         "showgrid": false,
         "showline": true,
         "showticklabels": true,
         "ticks": "outside",
         "type": "linear",
         "zeroline": false
        },
        "yaxis": {
         "mirror": "allticks",
         "range": [
          -50,
          0
         ],
         "rangemode": "tozero",
         "showgrid": false,
         "showline": true,
         "showticklabels": true,
         "tickmode": "array",
         "ticks": "outside",
         "ticktext": [
          "4_xinh_ngại_dám_đồng_phục",
          "2_inf_kiểu_quan_sát",
          "1_đọc_viết_chăm_chỉ",
          "3_trapboy_thang_máy_biến_thái",
          "0_malibu_barbershop_thế_sinh"
         ],
         "tickvals": [
          -5,
          -15,
          -25,
          -35,
          -45
         ],
         "type": "linear",
         "zeroline": false
        }
       }
      }
     },
     "metadata": {},
     "output_type": "display_data"
    }
   ],
   "source": [
    "topic_model.visualize_hierarchy()"
   ]
  },
  {
   "cell_type": "code",
   "execution_count": 146,
   "metadata": {},
   "outputs": [
    {
     "data": {
      "application/vnd.plotly.v1+json": {
       "config": {
        "plotlyServerURL": "https://plot.ly"
       },
       "data": [
        {
         "marker": {
          "color": "#D55E00"
         },
         "orientation": "h",
         "type": "bar",
         "x": [
          0.21173766255378723,
          0.21173766255378723,
          0.23197218775749207,
          0.41966527700424194,
          0.8022114634513855
         ],
         "xaxis": "x",
         "y": [
          "  ",
          "  ",
          "thế_sinh  ",
          "barbershop  ",
          "malibu  "
         ],
         "yaxis": "y"
        },
        {
         "marker": {
          "color": "#0072B2"
         },
         "orientation": "h",
         "type": "bar",
         "x": [
          0.3094944953918457,
          0.31433796882629395,
          0.3176588714122772,
          0.3404862880706787,
          0.36581194400787354
         ],
         "xaxis": "x2",
         "y": [
          "học  ",
          "kiểu  ",
          "chăm_chỉ  ",
          "viết  ",
          "đọc  "
         ],
         "yaxis": "y2"
        },
        {
         "marker": {
          "color": "#CC79A7"
         },
         "orientation": "h",
         "type": "bar",
         "x": [
          0.22783441841602325,
          0.2303677797317505,
          0.2447756826877594,
          0.27080634236335754,
          0.27665385603904724
         ],
         "xaxis": "x3",
         "y": [
          "sai_lầm_ngudot  ",
          "lớp  ",
          "quan_sát  ",
          "kiểu  ",
          "inf  "
         ],
         "yaxis": "y3"
        },
        {
         "marker": {
          "color": "#E69F00"
         },
         "orientation": "h",
         "type": "bar",
         "x": [
          0.28501424193382263,
          0.29172104597091675,
          0.3093661069869995,
          0.41422536969184875,
          0.4346734881401062
         ],
         "xaxis": "x4",
         "y": [
          "thang  ",
          "mất_thiện_cảm  ",
          "biến_thái  ",
          "thang_máy  ",
          "trapboy  "
         ],
         "yaxis": "y4"
        },
        {
         "marker": {
          "color": "#56B4E9"
         },
         "orientation": "h",
         "type": "bar",
         "x": [
          0.24105922877788544,
          0.24952125549316406,
          0.2751180827617645,
          0.2848758101463318,
          0.36973094940185547
         ],
         "xaxis": "x5",
         "y": [
          "thi  ",
          "ảnh  ",
          "đồng_phục  ",
          "dám  ",
          "xinh_ngại  "
         ],
         "yaxis": "y5"
        }
       ],
       "layout": {
        "annotations": [
         {
          "font": {
           "size": 16
          },
          "showarrow": false,
          "text": "Topic 0",
          "x": 0.0875,
          "xanchor": "center",
          "xref": "paper",
          "y": 1,
          "yanchor": "bottom",
          "yref": "paper"
         },
         {
          "font": {
           "size": 16
          },
          "showarrow": false,
          "text": "Topic 1",
          "x": 0.36250000000000004,
          "xanchor": "center",
          "xref": "paper",
          "y": 1,
          "yanchor": "bottom",
          "yref": "paper"
         },
         {
          "font": {
           "size": 16
          },
          "showarrow": false,
          "text": "Topic 2",
          "x": 0.6375000000000001,
          "xanchor": "center",
          "xref": "paper",
          "y": 1,
          "yanchor": "bottom",
          "yref": "paper"
         },
         {
          "font": {
           "size": 16
          },
          "showarrow": false,
          "text": "Topic 3",
          "x": 0.9125,
          "xanchor": "center",
          "xref": "paper",
          "y": 1,
          "yanchor": "bottom",
          "yref": "paper"
         },
         {
          "font": {
           "size": 16
          },
          "showarrow": false,
          "text": "Topic 4",
          "x": 0.0875,
          "xanchor": "center",
          "xref": "paper",
          "y": 0.4,
          "yanchor": "bottom",
          "yref": "paper"
         }
        ],
        "height": 500,
        "hoverlabel": {
         "bgcolor": "white",
         "font": {
          "family": "Rockwell",
          "size": 16
         }
        },
        "showlegend": false,
        "template": {
         "data": {
          "bar": [
           {
            "error_x": {
             "color": "#2a3f5f"
            },
            "error_y": {
             "color": "#2a3f5f"
            },
            "marker": {
             "line": {
              "color": "white",
              "width": 0.5
             },
             "pattern": {
              "fillmode": "overlay",
              "size": 10,
              "solidity": 0.2
             }
            },
            "type": "bar"
           }
          ],
          "barpolar": [
           {
            "marker": {
             "line": {
              "color": "white",
              "width": 0.5
             },
             "pattern": {
              "fillmode": "overlay",
              "size": 10,
              "solidity": 0.2
             }
            },
            "type": "barpolar"
           }
          ],
          "carpet": [
           {
            "aaxis": {
             "endlinecolor": "#2a3f5f",
             "gridcolor": "#C8D4E3",
             "linecolor": "#C8D4E3",
             "minorgridcolor": "#C8D4E3",
             "startlinecolor": "#2a3f5f"
            },
            "baxis": {
             "endlinecolor": "#2a3f5f",
             "gridcolor": "#C8D4E3",
             "linecolor": "#C8D4E3",
             "minorgridcolor": "#C8D4E3",
             "startlinecolor": "#2a3f5f"
            },
            "type": "carpet"
           }
          ],
          "choropleth": [
           {
            "colorbar": {
             "outlinewidth": 0,
             "ticks": ""
            },
            "type": "choropleth"
           }
          ],
          "contour": [
           {
            "colorbar": {
             "outlinewidth": 0,
             "ticks": ""
            },
            "colorscale": [
             [
              0,
              "#0d0887"
             ],
             [
              0.1111111111111111,
              "#46039f"
             ],
             [
              0.2222222222222222,
              "#7201a8"
             ],
             [
              0.3333333333333333,
              "#9c179e"
             ],
             [
              0.4444444444444444,
              "#bd3786"
             ],
             [
              0.5555555555555556,
              "#d8576b"
             ],
             [
              0.6666666666666666,
              "#ed7953"
             ],
             [
              0.7777777777777778,
              "#fb9f3a"
             ],
             [
              0.8888888888888888,
              "#fdca26"
             ],
             [
              1,
              "#f0f921"
             ]
            ],
            "type": "contour"
           }
          ],
          "contourcarpet": [
           {
            "colorbar": {
             "outlinewidth": 0,
             "ticks": ""
            },
            "type": "contourcarpet"
           }
          ],
          "heatmap": [
           {
            "colorbar": {
             "outlinewidth": 0,
             "ticks": ""
            },
            "colorscale": [
             [
              0,
              "#0d0887"
             ],
             [
              0.1111111111111111,
              "#46039f"
             ],
             [
              0.2222222222222222,
              "#7201a8"
             ],
             [
              0.3333333333333333,
              "#9c179e"
             ],
             [
              0.4444444444444444,
              "#bd3786"
             ],
             [
              0.5555555555555556,
              "#d8576b"
             ],
             [
              0.6666666666666666,
              "#ed7953"
             ],
             [
              0.7777777777777778,
              "#fb9f3a"
             ],
             [
              0.8888888888888888,
              "#fdca26"
             ],
             [
              1,
              "#f0f921"
             ]
            ],
            "type": "heatmap"
           }
          ],
          "heatmapgl": [
           {
            "colorbar": {
             "outlinewidth": 0,
             "ticks": ""
            },
            "colorscale": [
             [
              0,
              "#0d0887"
             ],
             [
              0.1111111111111111,
              "#46039f"
             ],
             [
              0.2222222222222222,
              "#7201a8"
             ],
             [
              0.3333333333333333,
              "#9c179e"
             ],
             [
              0.4444444444444444,
              "#bd3786"
             ],
             [
              0.5555555555555556,
              "#d8576b"
             ],
             [
              0.6666666666666666,
              "#ed7953"
             ],
             [
              0.7777777777777778,
              "#fb9f3a"
             ],
             [
              0.8888888888888888,
              "#fdca26"
             ],
             [
              1,
              "#f0f921"
             ]
            ],
            "type": "heatmapgl"
           }
          ],
          "histogram": [
           {
            "marker": {
             "pattern": {
              "fillmode": "overlay",
              "size": 10,
              "solidity": 0.2
             }
            },
            "type": "histogram"
           }
          ],
          "histogram2d": [
           {
            "colorbar": {
             "outlinewidth": 0,
             "ticks": ""
            },
            "colorscale": [
             [
              0,
              "#0d0887"
             ],
             [
              0.1111111111111111,
              "#46039f"
             ],
             [
              0.2222222222222222,
              "#7201a8"
             ],
             [
              0.3333333333333333,
              "#9c179e"
             ],
             [
              0.4444444444444444,
              "#bd3786"
             ],
             [
              0.5555555555555556,
              "#d8576b"
             ],
             [
              0.6666666666666666,
              "#ed7953"
             ],
             [
              0.7777777777777778,
              "#fb9f3a"
             ],
             [
              0.8888888888888888,
              "#fdca26"
             ],
             [
              1,
              "#f0f921"
             ]
            ],
            "type": "histogram2d"
           }
          ],
          "histogram2dcontour": [
           {
            "colorbar": {
             "outlinewidth": 0,
             "ticks": ""
            },
            "colorscale": [
             [
              0,
              "#0d0887"
             ],
             [
              0.1111111111111111,
              "#46039f"
             ],
             [
              0.2222222222222222,
              "#7201a8"
             ],
             [
              0.3333333333333333,
              "#9c179e"
             ],
             [
              0.4444444444444444,
              "#bd3786"
             ],
             [
              0.5555555555555556,
              "#d8576b"
             ],
             [
              0.6666666666666666,
              "#ed7953"
             ],
             [
              0.7777777777777778,
              "#fb9f3a"
             ],
             [
              0.8888888888888888,
              "#fdca26"
             ],
             [
              1,
              "#f0f921"
             ]
            ],
            "type": "histogram2dcontour"
           }
          ],
          "mesh3d": [
           {
            "colorbar": {
             "outlinewidth": 0,
             "ticks": ""
            },
            "type": "mesh3d"
           }
          ],
          "parcoords": [
           {
            "line": {
             "colorbar": {
              "outlinewidth": 0,
              "ticks": ""
             }
            },
            "type": "parcoords"
           }
          ],
          "pie": [
           {
            "automargin": true,
            "type": "pie"
           }
          ],
          "scatter": [
           {
            "fillpattern": {
             "fillmode": "overlay",
             "size": 10,
             "solidity": 0.2
            },
            "type": "scatter"
           }
          ],
          "scatter3d": [
           {
            "line": {
             "colorbar": {
              "outlinewidth": 0,
              "ticks": ""
             }
            },
            "marker": {
             "colorbar": {
              "outlinewidth": 0,
              "ticks": ""
             }
            },
            "type": "scatter3d"
           }
          ],
          "scattercarpet": [
           {
            "marker": {
             "colorbar": {
              "outlinewidth": 0,
              "ticks": ""
             }
            },
            "type": "scattercarpet"
           }
          ],
          "scattergeo": [
           {
            "marker": {
             "colorbar": {
              "outlinewidth": 0,
              "ticks": ""
             }
            },
            "type": "scattergeo"
           }
          ],
          "scattergl": [
           {
            "marker": {
             "colorbar": {
              "outlinewidth": 0,
              "ticks": ""
             }
            },
            "type": "scattergl"
           }
          ],
          "scattermapbox": [
           {
            "marker": {
             "colorbar": {
              "outlinewidth": 0,
              "ticks": ""
             }
            },
            "type": "scattermapbox"
           }
          ],
          "scatterpolar": [
           {
            "marker": {
             "colorbar": {
              "outlinewidth": 0,
              "ticks": ""
             }
            },
            "type": "scatterpolar"
           }
          ],
          "scatterpolargl": [
           {
            "marker": {
             "colorbar": {
              "outlinewidth": 0,
              "ticks": ""
             }
            },
            "type": "scatterpolargl"
           }
          ],
          "scatterternary": [
           {
            "marker": {
             "colorbar": {
              "outlinewidth": 0,
              "ticks": ""
             }
            },
            "type": "scatterternary"
           }
          ],
          "surface": [
           {
            "colorbar": {
             "outlinewidth": 0,
             "ticks": ""
            },
            "colorscale": [
             [
              0,
              "#0d0887"
             ],
             [
              0.1111111111111111,
              "#46039f"
             ],
             [
              0.2222222222222222,
              "#7201a8"
             ],
             [
              0.3333333333333333,
              "#9c179e"
             ],
             [
              0.4444444444444444,
              "#bd3786"
             ],
             [
              0.5555555555555556,
              "#d8576b"
             ],
             [
              0.6666666666666666,
              "#ed7953"
             ],
             [
              0.7777777777777778,
              "#fb9f3a"
             ],
             [
              0.8888888888888888,
              "#fdca26"
             ],
             [
              1,
              "#f0f921"
             ]
            ],
            "type": "surface"
           }
          ],
          "table": [
           {
            "cells": {
             "fill": {
              "color": "#EBF0F8"
             },
             "line": {
              "color": "white"
             }
            },
            "header": {
             "fill": {
              "color": "#C8D4E3"
             },
             "line": {
              "color": "white"
             }
            },
            "type": "table"
           }
          ]
         },
         "layout": {
          "annotationdefaults": {
           "arrowcolor": "#2a3f5f",
           "arrowhead": 0,
           "arrowwidth": 1
          },
          "autotypenumbers": "strict",
          "coloraxis": {
           "colorbar": {
            "outlinewidth": 0,
            "ticks": ""
           }
          },
          "colorscale": {
           "diverging": [
            [
             0,
             "#8e0152"
            ],
            [
             0.1,
             "#c51b7d"
            ],
            [
             0.2,
             "#de77ae"
            ],
            [
             0.3,
             "#f1b6da"
            ],
            [
             0.4,
             "#fde0ef"
            ],
            [
             0.5,
             "#f7f7f7"
            ],
            [
             0.6,
             "#e6f5d0"
            ],
            [
             0.7,
             "#b8e186"
            ],
            [
             0.8,
             "#7fbc41"
            ],
            [
             0.9,
             "#4d9221"
            ],
            [
             1,
             "#276419"
            ]
           ],
           "sequential": [
            [
             0,
             "#0d0887"
            ],
            [
             0.1111111111111111,
             "#46039f"
            ],
            [
             0.2222222222222222,
             "#7201a8"
            ],
            [
             0.3333333333333333,
             "#9c179e"
            ],
            [
             0.4444444444444444,
             "#bd3786"
            ],
            [
             0.5555555555555556,
             "#d8576b"
            ],
            [
             0.6666666666666666,
             "#ed7953"
            ],
            [
             0.7777777777777778,
             "#fb9f3a"
            ],
            [
             0.8888888888888888,
             "#fdca26"
            ],
            [
             1,
             "#f0f921"
            ]
           ],
           "sequentialminus": [
            [
             0,
             "#0d0887"
            ],
            [
             0.1111111111111111,
             "#46039f"
            ],
            [
             0.2222222222222222,
             "#7201a8"
            ],
            [
             0.3333333333333333,
             "#9c179e"
            ],
            [
             0.4444444444444444,
             "#bd3786"
            ],
            [
             0.5555555555555556,
             "#d8576b"
            ],
            [
             0.6666666666666666,
             "#ed7953"
            ],
            [
             0.7777777777777778,
             "#fb9f3a"
            ],
            [
             0.8888888888888888,
             "#fdca26"
            ],
            [
             1,
             "#f0f921"
            ]
           ]
          },
          "colorway": [
           "#636efa",
           "#EF553B",
           "#00cc96",
           "#ab63fa",
           "#FFA15A",
           "#19d3f3",
           "#FF6692",
           "#B6E880",
           "#FF97FF",
           "#FECB52"
          ],
          "font": {
           "color": "#2a3f5f"
          },
          "geo": {
           "bgcolor": "white",
           "lakecolor": "white",
           "landcolor": "white",
           "showlakes": true,
           "showland": true,
           "subunitcolor": "#C8D4E3"
          },
          "hoverlabel": {
           "align": "left"
          },
          "hovermode": "closest",
          "mapbox": {
           "style": "light"
          },
          "paper_bgcolor": "white",
          "plot_bgcolor": "white",
          "polar": {
           "angularaxis": {
            "gridcolor": "#EBF0F8",
            "linecolor": "#EBF0F8",
            "ticks": ""
           },
           "bgcolor": "white",
           "radialaxis": {
            "gridcolor": "#EBF0F8",
            "linecolor": "#EBF0F8",
            "ticks": ""
           }
          },
          "scene": {
           "xaxis": {
            "backgroundcolor": "white",
            "gridcolor": "#DFE8F3",
            "gridwidth": 2,
            "linecolor": "#EBF0F8",
            "showbackground": true,
            "ticks": "",
            "zerolinecolor": "#EBF0F8"
           },
           "yaxis": {
            "backgroundcolor": "white",
            "gridcolor": "#DFE8F3",
            "gridwidth": 2,
            "linecolor": "#EBF0F8",
            "showbackground": true,
            "ticks": "",
            "zerolinecolor": "#EBF0F8"
           },
           "zaxis": {
            "backgroundcolor": "white",
            "gridcolor": "#DFE8F3",
            "gridwidth": 2,
            "linecolor": "#EBF0F8",
            "showbackground": true,
            "ticks": "",
            "zerolinecolor": "#EBF0F8"
           }
          },
          "shapedefaults": {
           "line": {
            "color": "#2a3f5f"
           }
          },
          "ternary": {
           "aaxis": {
            "gridcolor": "#DFE8F3",
            "linecolor": "#A2B1C6",
            "ticks": ""
           },
           "baxis": {
            "gridcolor": "#DFE8F3",
            "linecolor": "#A2B1C6",
            "ticks": ""
           },
           "bgcolor": "white",
           "caxis": {
            "gridcolor": "#DFE8F3",
            "linecolor": "#A2B1C6",
            "ticks": ""
           }
          },
          "title": {
           "x": 0.05
          },
          "xaxis": {
           "automargin": true,
           "gridcolor": "#EBF0F8",
           "linecolor": "#EBF0F8",
           "ticks": "",
           "title": {
            "standoff": 15
           },
           "zerolinecolor": "#EBF0F8",
           "zerolinewidth": 2
          },
          "yaxis": {
           "automargin": true,
           "gridcolor": "#EBF0F8",
           "linecolor": "#EBF0F8",
           "ticks": "",
           "title": {
            "standoff": 15
           },
           "zerolinecolor": "#EBF0F8",
           "zerolinewidth": 2
          }
         }
        },
        "title": {
         "font": {
          "color": "Black",
          "size": 22
         },
         "text": "Topic Word Scores",
         "x": 0.5,
         "xanchor": "center",
         "yanchor": "top"
        },
        "width": 1000,
        "xaxis": {
         "anchor": "y",
         "domain": [
          0,
          0.175
         ],
         "showgrid": true
        },
        "xaxis2": {
         "anchor": "y2",
         "domain": [
          0.275,
          0.45
         ],
         "showgrid": true
        },
        "xaxis3": {
         "anchor": "y3",
         "domain": [
          0.55,
          0.7250000000000001
         ],
         "showgrid": true
        },
        "xaxis4": {
         "anchor": "y4",
         "domain": [
          0.825,
          1
         ],
         "showgrid": true
        },
        "xaxis5": {
         "anchor": "y5",
         "domain": [
          0,
          0.175
         ],
         "showgrid": true
        },
        "xaxis6": {
         "anchor": "y6",
         "domain": [
          0.275,
          0.45
         ],
         "showgrid": true
        },
        "xaxis7": {
         "anchor": "y7",
         "domain": [
          0.55,
          0.7250000000000001
         ],
         "showgrid": true
        },
        "xaxis8": {
         "anchor": "y8",
         "domain": [
          0.825,
          1
         ],
         "showgrid": true
        },
        "yaxis": {
         "anchor": "x",
         "domain": [
          0.6000000000000001,
          1
         ],
         "showgrid": true
        },
        "yaxis2": {
         "anchor": "x2",
         "domain": [
          0.6000000000000001,
          1
         ],
         "showgrid": true
        },
        "yaxis3": {
         "anchor": "x3",
         "domain": [
          0.6000000000000001,
          1
         ],
         "showgrid": true
        },
        "yaxis4": {
         "anchor": "x4",
         "domain": [
          0.6000000000000001,
          1
         ],
         "showgrid": true
        },
        "yaxis5": {
         "anchor": "x5",
         "domain": [
          0,
          0.4
         ],
         "showgrid": true
        },
        "yaxis6": {
         "anchor": "x6",
         "domain": [
          0,
          0.4
         ],
         "showgrid": true
        },
        "yaxis7": {
         "anchor": "x7",
         "domain": [
          0,
          0.4
         ],
         "showgrid": true
        },
        "yaxis8": {
         "anchor": "x8",
         "domain": [
          0,
          0.4
         ],
         "showgrid": true
        }
       }
      }
     },
     "metadata": {},
     "output_type": "display_data"
    }
   ],
   "source": [
    "topic_model.visualize_barchart()"
   ]
  },
  {
   "cell_type": "code",
   "execution_count": 147,
   "metadata": {},
   "outputs": [
    {
     "data": {
      "application/vnd.plotly.v1+json": {
       "config": {
        "plotlyServerURL": "https://plot.ly"
       },
       "data": [
        {
         "coloraxis": "coloraxis",
         "hovertemplate": "x: %{x}<br>y: %{y}<br>Similarity Score: %{z}<extra></extra>",
         "name": "0",
         "type": "heatmap",
         "x": [
          "0_malibu_barbershop_thế_sinh",
          "1_đọc_viết_chăm_chỉ",
          "2_inf_kiểu_quan_sát",
          "3_trapboy_thang_máy_biến_thái",
          "4_xinh_ngại_dám_đồng_phục"
         ],
         "xaxis": "x",
         "y": [
          "0_malibu_barbershop_thế_sinh",
          "1_đọc_viết_chăm_chỉ",
          "2_inf_kiểu_quan_sát",
          "3_trapboy_thang_máy_biến_thái",
          "4_xinh_ngại_dám_đồng_phục"
         ],
         "yaxis": "y",
         "z": [
          [
           1.0000001192092896,
           0.6192036867141724,
           0.5672862529754639,
           0.4732115864753723,
           0.5617367029190063
          ],
          [
           0.6192036867141724,
           1,
           0.77200847864151,
           0.5898444652557373,
           0.6793103218078613
          ],
          [
           0.5672862529754639,
           0.77200847864151,
           1.000000238418579,
           0.6704031825065613,
           0.6871429681777954
          ],
          [
           0.4732115864753723,
           0.5898444652557373,
           0.6704031825065613,
           1.0000001192092896,
           0.6373011469841003
          ],
          [
           0.5617367029190063,
           0.6793103218078613,
           0.6871429681777954,
           0.6373011469841003,
           1.0000001192092896
          ]
         ]
        }
       ],
       "layout": {
        "coloraxis": {
         "colorbar": {
          "title": {
           "text": "Similarity Score"
          }
         },
         "colorscale": [
          [
           0,
           "rgb(247,252,240)"
          ],
          [
           0.125,
           "rgb(224,243,219)"
          ],
          [
           0.25,
           "rgb(204,235,197)"
          ],
          [
           0.375,
           "rgb(168,221,181)"
          ],
          [
           0.5,
           "rgb(123,204,196)"
          ],
          [
           0.625,
           "rgb(78,179,211)"
          ],
          [
           0.75,
           "rgb(43,140,190)"
          ],
          [
           0.875,
           "rgb(8,104,172)"
          ],
          [
           1,
           "rgb(8,64,129)"
          ]
         ]
        },
        "height": 800,
        "hoverlabel": {
         "bgcolor": "white",
         "font": {
          "family": "Rockwell",
          "size": 16
         }
        },
        "legend": {
         "title": {
          "text": "Trend"
         }
        },
        "margin": {
         "t": 60
        },
        "showlegend": true,
        "template": {
         "data": {
          "bar": [
           {
            "error_x": {
             "color": "#2a3f5f"
            },
            "error_y": {
             "color": "#2a3f5f"
            },
            "marker": {
             "line": {
              "color": "#E5ECF6",
              "width": 0.5
             },
             "pattern": {
              "fillmode": "overlay",
              "size": 10,
              "solidity": 0.2
             }
            },
            "type": "bar"
           }
          ],
          "barpolar": [
           {
            "marker": {
             "line": {
              "color": "#E5ECF6",
              "width": 0.5
             },
             "pattern": {
              "fillmode": "overlay",
              "size": 10,
              "solidity": 0.2
             }
            },
            "type": "barpolar"
           }
          ],
          "carpet": [
           {
            "aaxis": {
             "endlinecolor": "#2a3f5f",
             "gridcolor": "white",
             "linecolor": "white",
             "minorgridcolor": "white",
             "startlinecolor": "#2a3f5f"
            },
            "baxis": {
             "endlinecolor": "#2a3f5f",
             "gridcolor": "white",
             "linecolor": "white",
             "minorgridcolor": "white",
             "startlinecolor": "#2a3f5f"
            },
            "type": "carpet"
           }
          ],
          "choropleth": [
           {
            "colorbar": {
             "outlinewidth": 0,
             "ticks": ""
            },
            "type": "choropleth"
           }
          ],
          "contour": [
           {
            "colorbar": {
             "outlinewidth": 0,
             "ticks": ""
            },
            "colorscale": [
             [
              0,
              "#0d0887"
             ],
             [
              0.1111111111111111,
              "#46039f"
             ],
             [
              0.2222222222222222,
              "#7201a8"
             ],
             [
              0.3333333333333333,
              "#9c179e"
             ],
             [
              0.4444444444444444,
              "#bd3786"
             ],
             [
              0.5555555555555556,
              "#d8576b"
             ],
             [
              0.6666666666666666,
              "#ed7953"
             ],
             [
              0.7777777777777778,
              "#fb9f3a"
             ],
             [
              0.8888888888888888,
              "#fdca26"
             ],
             [
              1,
              "#f0f921"
             ]
            ],
            "type": "contour"
           }
          ],
          "contourcarpet": [
           {
            "colorbar": {
             "outlinewidth": 0,
             "ticks": ""
            },
            "type": "contourcarpet"
           }
          ],
          "heatmap": [
           {
            "colorbar": {
             "outlinewidth": 0,
             "ticks": ""
            },
            "colorscale": [
             [
              0,
              "#0d0887"
             ],
             [
              0.1111111111111111,
              "#46039f"
             ],
             [
              0.2222222222222222,
              "#7201a8"
             ],
             [
              0.3333333333333333,
              "#9c179e"
             ],
             [
              0.4444444444444444,
              "#bd3786"
             ],
             [
              0.5555555555555556,
              "#d8576b"
             ],
             [
              0.6666666666666666,
              "#ed7953"
             ],
             [
              0.7777777777777778,
              "#fb9f3a"
             ],
             [
              0.8888888888888888,
              "#fdca26"
             ],
             [
              1,
              "#f0f921"
             ]
            ],
            "type": "heatmap"
           }
          ],
          "heatmapgl": [
           {
            "colorbar": {
             "outlinewidth": 0,
             "ticks": ""
            },
            "colorscale": [
             [
              0,
              "#0d0887"
             ],
             [
              0.1111111111111111,
              "#46039f"
             ],
             [
              0.2222222222222222,
              "#7201a8"
             ],
             [
              0.3333333333333333,
              "#9c179e"
             ],
             [
              0.4444444444444444,
              "#bd3786"
             ],
             [
              0.5555555555555556,
              "#d8576b"
             ],
             [
              0.6666666666666666,
              "#ed7953"
             ],
             [
              0.7777777777777778,
              "#fb9f3a"
             ],
             [
              0.8888888888888888,
              "#fdca26"
             ],
             [
              1,
              "#f0f921"
             ]
            ],
            "type": "heatmapgl"
           }
          ],
          "histogram": [
           {
            "marker": {
             "pattern": {
              "fillmode": "overlay",
              "size": 10,
              "solidity": 0.2
             }
            },
            "type": "histogram"
           }
          ],
          "histogram2d": [
           {
            "colorbar": {
             "outlinewidth": 0,
             "ticks": ""
            },
            "colorscale": [
             [
              0,
              "#0d0887"
             ],
             [
              0.1111111111111111,
              "#46039f"
             ],
             [
              0.2222222222222222,
              "#7201a8"
             ],
             [
              0.3333333333333333,
              "#9c179e"
             ],
             [
              0.4444444444444444,
              "#bd3786"
             ],
             [
              0.5555555555555556,
              "#d8576b"
             ],
             [
              0.6666666666666666,
              "#ed7953"
             ],
             [
              0.7777777777777778,
              "#fb9f3a"
             ],
             [
              0.8888888888888888,
              "#fdca26"
             ],
             [
              1,
              "#f0f921"
             ]
            ],
            "type": "histogram2d"
           }
          ],
          "histogram2dcontour": [
           {
            "colorbar": {
             "outlinewidth": 0,
             "ticks": ""
            },
            "colorscale": [
             [
              0,
              "#0d0887"
             ],
             [
              0.1111111111111111,
              "#46039f"
             ],
             [
              0.2222222222222222,
              "#7201a8"
             ],
             [
              0.3333333333333333,
              "#9c179e"
             ],
             [
              0.4444444444444444,
              "#bd3786"
             ],
             [
              0.5555555555555556,
              "#d8576b"
             ],
             [
              0.6666666666666666,
              "#ed7953"
             ],
             [
              0.7777777777777778,
              "#fb9f3a"
             ],
             [
              0.8888888888888888,
              "#fdca26"
             ],
             [
              1,
              "#f0f921"
             ]
            ],
            "type": "histogram2dcontour"
           }
          ],
          "mesh3d": [
           {
            "colorbar": {
             "outlinewidth": 0,
             "ticks": ""
            },
            "type": "mesh3d"
           }
          ],
          "parcoords": [
           {
            "line": {
             "colorbar": {
              "outlinewidth": 0,
              "ticks": ""
             }
            },
            "type": "parcoords"
           }
          ],
          "pie": [
           {
            "automargin": true,
            "type": "pie"
           }
          ],
          "scatter": [
           {
            "fillpattern": {
             "fillmode": "overlay",
             "size": 10,
             "solidity": 0.2
            },
            "type": "scatter"
           }
          ],
          "scatter3d": [
           {
            "line": {
             "colorbar": {
              "outlinewidth": 0,
              "ticks": ""
             }
            },
            "marker": {
             "colorbar": {
              "outlinewidth": 0,
              "ticks": ""
             }
            },
            "type": "scatter3d"
           }
          ],
          "scattercarpet": [
           {
            "marker": {
             "colorbar": {
              "outlinewidth": 0,
              "ticks": ""
             }
            },
            "type": "scattercarpet"
           }
          ],
          "scattergeo": [
           {
            "marker": {
             "colorbar": {
              "outlinewidth": 0,
              "ticks": ""
             }
            },
            "type": "scattergeo"
           }
          ],
          "scattergl": [
           {
            "marker": {
             "colorbar": {
              "outlinewidth": 0,
              "ticks": ""
             }
            },
            "type": "scattergl"
           }
          ],
          "scattermapbox": [
           {
            "marker": {
             "colorbar": {
              "outlinewidth": 0,
              "ticks": ""
             }
            },
            "type": "scattermapbox"
           }
          ],
          "scatterpolar": [
           {
            "marker": {
             "colorbar": {
              "outlinewidth": 0,
              "ticks": ""
             }
            },
            "type": "scatterpolar"
           }
          ],
          "scatterpolargl": [
           {
            "marker": {
             "colorbar": {
              "outlinewidth": 0,
              "ticks": ""
             }
            },
            "type": "scatterpolargl"
           }
          ],
          "scatterternary": [
           {
            "marker": {
             "colorbar": {
              "outlinewidth": 0,
              "ticks": ""
             }
            },
            "type": "scatterternary"
           }
          ],
          "surface": [
           {
            "colorbar": {
             "outlinewidth": 0,
             "ticks": ""
            },
            "colorscale": [
             [
              0,
              "#0d0887"
             ],
             [
              0.1111111111111111,
              "#46039f"
             ],
             [
              0.2222222222222222,
              "#7201a8"
             ],
             [
              0.3333333333333333,
              "#9c179e"
             ],
             [
              0.4444444444444444,
              "#bd3786"
             ],
             [
              0.5555555555555556,
              "#d8576b"
             ],
             [
              0.6666666666666666,
              "#ed7953"
             ],
             [
              0.7777777777777778,
              "#fb9f3a"
             ],
             [
              0.8888888888888888,
              "#fdca26"
             ],
             [
              1,
              "#f0f921"
             ]
            ],
            "type": "surface"
           }
          ],
          "table": [
           {
            "cells": {
             "fill": {
              "color": "#EBF0F8"
             },
             "line": {
              "color": "white"
             }
            },
            "header": {
             "fill": {
              "color": "#C8D4E3"
             },
             "line": {
              "color": "white"
             }
            },
            "type": "table"
           }
          ]
         },
         "layout": {
          "annotationdefaults": {
           "arrowcolor": "#2a3f5f",
           "arrowhead": 0,
           "arrowwidth": 1
          },
          "autotypenumbers": "strict",
          "coloraxis": {
           "colorbar": {
            "outlinewidth": 0,
            "ticks": ""
           }
          },
          "colorscale": {
           "diverging": [
            [
             0,
             "#8e0152"
            ],
            [
             0.1,
             "#c51b7d"
            ],
            [
             0.2,
             "#de77ae"
            ],
            [
             0.3,
             "#f1b6da"
            ],
            [
             0.4,
             "#fde0ef"
            ],
            [
             0.5,
             "#f7f7f7"
            ],
            [
             0.6,
             "#e6f5d0"
            ],
            [
             0.7,
             "#b8e186"
            ],
            [
             0.8,
             "#7fbc41"
            ],
            [
             0.9,
             "#4d9221"
            ],
            [
             1,
             "#276419"
            ]
           ],
           "sequential": [
            [
             0,
             "#0d0887"
            ],
            [
             0.1111111111111111,
             "#46039f"
            ],
            [
             0.2222222222222222,
             "#7201a8"
            ],
            [
             0.3333333333333333,
             "#9c179e"
            ],
            [
             0.4444444444444444,
             "#bd3786"
            ],
            [
             0.5555555555555556,
             "#d8576b"
            ],
            [
             0.6666666666666666,
             "#ed7953"
            ],
            [
             0.7777777777777778,
             "#fb9f3a"
            ],
            [
             0.8888888888888888,
             "#fdca26"
            ],
            [
             1,
             "#f0f921"
            ]
           ],
           "sequentialminus": [
            [
             0,
             "#0d0887"
            ],
            [
             0.1111111111111111,
             "#46039f"
            ],
            [
             0.2222222222222222,
             "#7201a8"
            ],
            [
             0.3333333333333333,
             "#9c179e"
            ],
            [
             0.4444444444444444,
             "#bd3786"
            ],
            [
             0.5555555555555556,
             "#d8576b"
            ],
            [
             0.6666666666666666,
             "#ed7953"
            ],
            [
             0.7777777777777778,
             "#fb9f3a"
            ],
            [
             0.8888888888888888,
             "#fdca26"
            ],
            [
             1,
             "#f0f921"
            ]
           ]
          },
          "colorway": [
           "#636efa",
           "#EF553B",
           "#00cc96",
           "#ab63fa",
           "#FFA15A",
           "#19d3f3",
           "#FF6692",
           "#B6E880",
           "#FF97FF",
           "#FECB52"
          ],
          "font": {
           "color": "#2a3f5f"
          },
          "geo": {
           "bgcolor": "white",
           "lakecolor": "white",
           "landcolor": "#E5ECF6",
           "showlakes": true,
           "showland": true,
           "subunitcolor": "white"
          },
          "hoverlabel": {
           "align": "left"
          },
          "hovermode": "closest",
          "mapbox": {
           "style": "light"
          },
          "paper_bgcolor": "white",
          "plot_bgcolor": "#E5ECF6",
          "polar": {
           "angularaxis": {
            "gridcolor": "white",
            "linecolor": "white",
            "ticks": ""
           },
           "bgcolor": "#E5ECF6",
           "radialaxis": {
            "gridcolor": "white",
            "linecolor": "white",
            "ticks": ""
           }
          },
          "scene": {
           "xaxis": {
            "backgroundcolor": "#E5ECF6",
            "gridcolor": "white",
            "gridwidth": 2,
            "linecolor": "white",
            "showbackground": true,
            "ticks": "",
            "zerolinecolor": "white"
           },
           "yaxis": {
            "backgroundcolor": "#E5ECF6",
            "gridcolor": "white",
            "gridwidth": 2,
            "linecolor": "white",
            "showbackground": true,
            "ticks": "",
            "zerolinecolor": "white"
           },
           "zaxis": {
            "backgroundcolor": "#E5ECF6",
            "gridcolor": "white",
            "gridwidth": 2,
            "linecolor": "white",
            "showbackground": true,
            "ticks": "",
            "zerolinecolor": "white"
           }
          },
          "shapedefaults": {
           "line": {
            "color": "#2a3f5f"
           }
          },
          "ternary": {
           "aaxis": {
            "gridcolor": "white",
            "linecolor": "white",
            "ticks": ""
           },
           "baxis": {
            "gridcolor": "white",
            "linecolor": "white",
            "ticks": ""
           },
           "bgcolor": "#E5ECF6",
           "caxis": {
            "gridcolor": "white",
            "linecolor": "white",
            "ticks": ""
           }
          },
          "title": {
           "x": 0.05
          },
          "xaxis": {
           "automargin": true,
           "gridcolor": "white",
           "linecolor": "white",
           "ticks": "",
           "title": {
            "standoff": 15
           },
           "zerolinecolor": "white",
           "zerolinewidth": 2
          },
          "yaxis": {
           "automargin": true,
           "gridcolor": "white",
           "linecolor": "white",
           "ticks": "",
           "title": {
            "standoff": 15
           },
           "zerolinecolor": "white",
           "zerolinewidth": 2
          }
         }
        },
        "title": {
         "font": {
          "color": "Black",
          "size": 22
         },
         "text": "<b>Similarity Matrix</b>",
         "x": 0.55,
         "xanchor": "center",
         "y": 0.95,
         "yanchor": "top"
        },
        "width": 800,
        "xaxis": {
         "anchor": "y",
         "constrain": "domain",
         "domain": [
          0,
          1
         ],
         "scaleanchor": "y"
        },
        "yaxis": {
         "anchor": "x",
         "autorange": "reversed",
         "constrain": "domain",
         "domain": [
          0,
          1
         ]
        }
       }
      }
     },
     "metadata": {},
     "output_type": "display_data"
    }
   ],
   "source": [
    "topic_model.visualize_heatmap()"
   ]
  },
  {
   "cell_type": "markdown",
   "metadata": {},
   "source": [
    "rank c-tf-idf của các từ theo thứ tự giảm dần"
   ]
  },
  {
   "cell_type": "code",
   "execution_count": 148,
   "metadata": {},
   "outputs": [
    {
     "data": {
      "application/vnd.plotly.v1+json": {
       "config": {
        "plotlyServerURL": "https://plot.ly"
       },
       "data": [
        {
         "hovertext": "<b>Topic 0</b>:malibu_barbershop_thế_sinh_______",
         "line": {
          "color": "black",
          "width": 1.5
         },
         "mode": "lines+lines",
         "name": "",
         "opacity": 0.1,
         "type": "scatter",
         "x": [
          1,
          2,
          3,
          4,
          5,
          6,
          7,
          8,
          9,
          10
         ],
         "y": [
          0.8022114634513855,
          0.41966527700424194,
          0.23197218775749207,
          0.21173766255378723,
          0.21173766255378723,
          0.21173766255378723,
          0.21173766255378723,
          0.21173766255378723,
          0.21173766255378723,
          0.21173766255378723
         ]
        },
        {
         "hovertext": "<b>Topic 1</b>:đọc_viết_chăm_chỉ_kiểu_học_tuần_mon",
         "line": {
          "color": "black",
          "width": 1.5
         },
         "mode": "lines+lines",
         "name": "",
         "opacity": 0.1,
         "type": "scatter",
         "x": [
          1,
          2,
          3,
          4,
          5,
          6,
          7,
          8,
          9,
          10
         ],
         "y": [
          0.36581194400787354,
          0.3404862880706787,
          0.3176588714122772,
          0.31433796882629395,
          0.3094944953918457,
          0.2894424498081207,
          0.28010353446006775,
          0.27088549733161926,
          0.24905163049697876,
          0.24672183394432068
         ]
        },
        {
         "hovertext": "<b>Topic 2</b>:inf_kiểu_quan_sát_lớp_sai_lầm_ngudo",
         "line": {
          "color": "black",
          "width": 1.5
         },
         "mode": "lines+lines",
         "name": "",
         "opacity": 0.1,
         "type": "scatter",
         "x": [
          1,
          2,
          3,
          4,
          5,
          6,
          7,
          8,
          9,
          10
         ],
         "y": [
          0.27665385603904724,
          0.27080634236335754,
          0.2447756826877594,
          0.2303677797317505,
          0.22783441841602325,
          0.2209230363368988,
          0.22028611600399017,
          0.21999317407608032,
          0.2159721851348877,
          0.2117212861776352
         ]
        },
        {
         "hovertext": "<b>Topic 3</b>:trapboy_thang_máy_biến_thái_mất_thi",
         "line": {
          "color": "black",
          "width": 1.5
         },
         "mode": "lines+lines",
         "name": "",
         "opacity": 0.1,
         "type": "scatter",
         "x": [
          1,
          2,
          3,
          4,
          5,
          6,
          7,
          8,
          9,
          10
         ],
         "y": [
          0.4346734881401062,
          0.41422536969184875,
          0.3093661069869995,
          0.29172104597091675,
          0.28501424193382263,
          0.2800382971763611,
          0.27389606833457947,
          0.2477114051580429,
          0.24308831989765167,
          0.23920021951198578
         ]
        },
        {
         "hovertext": "<b>Topic 4</b>:xinh_ngại_dám_đồng_phục_ảnh_thi_mặc",
         "line": {
          "color": "black",
          "width": 1.5
         },
         "mode": "lines+lines",
         "name": "",
         "opacity": 0.1,
         "type": "scatter",
         "x": [
          1,
          2,
          3,
          4,
          5,
          6,
          7,
          8,
          9,
          10
         ],
         "y": [
          0.36973094940185547,
          0.2848758101463318,
          0.2751180827617645,
          0.24952125549316406,
          0.24105922877788544,
          0.2350902259349823,
          0.21812331676483154,
          0.1266842633485794,
          0.09215476363897324,
          0.09215476363897324
         ]
        }
       ],
       "layout": {
        "height": 500,
        "hoverlabel": {
         "bgcolor": "white",
         "font": {
          "family": "Rockwell",
          "size": 16
         }
        },
        "showlegend": false,
        "template": {
         "data": {
          "bar": [
           {
            "error_x": {
             "color": "#2a3f5f"
            },
            "error_y": {
             "color": "#2a3f5f"
            },
            "marker": {
             "line": {
              "color": "white",
              "width": 0.5
             },
             "pattern": {
              "fillmode": "overlay",
              "size": 10,
              "solidity": 0.2
             }
            },
            "type": "bar"
           }
          ],
          "barpolar": [
           {
            "marker": {
             "line": {
              "color": "white",
              "width": 0.5
             },
             "pattern": {
              "fillmode": "overlay",
              "size": 10,
              "solidity": 0.2
             }
            },
            "type": "barpolar"
           }
          ],
          "carpet": [
           {
            "aaxis": {
             "endlinecolor": "#2a3f5f",
             "gridcolor": "#C8D4E3",
             "linecolor": "#C8D4E3",
             "minorgridcolor": "#C8D4E3",
             "startlinecolor": "#2a3f5f"
            },
            "baxis": {
             "endlinecolor": "#2a3f5f",
             "gridcolor": "#C8D4E3",
             "linecolor": "#C8D4E3",
             "minorgridcolor": "#C8D4E3",
             "startlinecolor": "#2a3f5f"
            },
            "type": "carpet"
           }
          ],
          "choropleth": [
           {
            "colorbar": {
             "outlinewidth": 0,
             "ticks": ""
            },
            "type": "choropleth"
           }
          ],
          "contour": [
           {
            "colorbar": {
             "outlinewidth": 0,
             "ticks": ""
            },
            "colorscale": [
             [
              0,
              "#0d0887"
             ],
             [
              0.1111111111111111,
              "#46039f"
             ],
             [
              0.2222222222222222,
              "#7201a8"
             ],
             [
              0.3333333333333333,
              "#9c179e"
             ],
             [
              0.4444444444444444,
              "#bd3786"
             ],
             [
              0.5555555555555556,
              "#d8576b"
             ],
             [
              0.6666666666666666,
              "#ed7953"
             ],
             [
              0.7777777777777778,
              "#fb9f3a"
             ],
             [
              0.8888888888888888,
              "#fdca26"
             ],
             [
              1,
              "#f0f921"
             ]
            ],
            "type": "contour"
           }
          ],
          "contourcarpet": [
           {
            "colorbar": {
             "outlinewidth": 0,
             "ticks": ""
            },
            "type": "contourcarpet"
           }
          ],
          "heatmap": [
           {
            "colorbar": {
             "outlinewidth": 0,
             "ticks": ""
            },
            "colorscale": [
             [
              0,
              "#0d0887"
             ],
             [
              0.1111111111111111,
              "#46039f"
             ],
             [
              0.2222222222222222,
              "#7201a8"
             ],
             [
              0.3333333333333333,
              "#9c179e"
             ],
             [
              0.4444444444444444,
              "#bd3786"
             ],
             [
              0.5555555555555556,
              "#d8576b"
             ],
             [
              0.6666666666666666,
              "#ed7953"
             ],
             [
              0.7777777777777778,
              "#fb9f3a"
             ],
             [
              0.8888888888888888,
              "#fdca26"
             ],
             [
              1,
              "#f0f921"
             ]
            ],
            "type": "heatmap"
           }
          ],
          "heatmapgl": [
           {
            "colorbar": {
             "outlinewidth": 0,
             "ticks": ""
            },
            "colorscale": [
             [
              0,
              "#0d0887"
             ],
             [
              0.1111111111111111,
              "#46039f"
             ],
             [
              0.2222222222222222,
              "#7201a8"
             ],
             [
              0.3333333333333333,
              "#9c179e"
             ],
             [
              0.4444444444444444,
              "#bd3786"
             ],
             [
              0.5555555555555556,
              "#d8576b"
             ],
             [
              0.6666666666666666,
              "#ed7953"
             ],
             [
              0.7777777777777778,
              "#fb9f3a"
             ],
             [
              0.8888888888888888,
              "#fdca26"
             ],
             [
              1,
              "#f0f921"
             ]
            ],
            "type": "heatmapgl"
           }
          ],
          "histogram": [
           {
            "marker": {
             "pattern": {
              "fillmode": "overlay",
              "size": 10,
              "solidity": 0.2
             }
            },
            "type": "histogram"
           }
          ],
          "histogram2d": [
           {
            "colorbar": {
             "outlinewidth": 0,
             "ticks": ""
            },
            "colorscale": [
             [
              0,
              "#0d0887"
             ],
             [
              0.1111111111111111,
              "#46039f"
             ],
             [
              0.2222222222222222,
              "#7201a8"
             ],
             [
              0.3333333333333333,
              "#9c179e"
             ],
             [
              0.4444444444444444,
              "#bd3786"
             ],
             [
              0.5555555555555556,
              "#d8576b"
             ],
             [
              0.6666666666666666,
              "#ed7953"
             ],
             [
              0.7777777777777778,
              "#fb9f3a"
             ],
             [
              0.8888888888888888,
              "#fdca26"
             ],
             [
              1,
              "#f0f921"
             ]
            ],
            "type": "histogram2d"
           }
          ],
          "histogram2dcontour": [
           {
            "colorbar": {
             "outlinewidth": 0,
             "ticks": ""
            },
            "colorscale": [
             [
              0,
              "#0d0887"
             ],
             [
              0.1111111111111111,
              "#46039f"
             ],
             [
              0.2222222222222222,
              "#7201a8"
             ],
             [
              0.3333333333333333,
              "#9c179e"
             ],
             [
              0.4444444444444444,
              "#bd3786"
             ],
             [
              0.5555555555555556,
              "#d8576b"
             ],
             [
              0.6666666666666666,
              "#ed7953"
             ],
             [
              0.7777777777777778,
              "#fb9f3a"
             ],
             [
              0.8888888888888888,
              "#fdca26"
             ],
             [
              1,
              "#f0f921"
             ]
            ],
            "type": "histogram2dcontour"
           }
          ],
          "mesh3d": [
           {
            "colorbar": {
             "outlinewidth": 0,
             "ticks": ""
            },
            "type": "mesh3d"
           }
          ],
          "parcoords": [
           {
            "line": {
             "colorbar": {
              "outlinewidth": 0,
              "ticks": ""
             }
            },
            "type": "parcoords"
           }
          ],
          "pie": [
           {
            "automargin": true,
            "type": "pie"
           }
          ],
          "scatter": [
           {
            "fillpattern": {
             "fillmode": "overlay",
             "size": 10,
             "solidity": 0.2
            },
            "type": "scatter"
           }
          ],
          "scatter3d": [
           {
            "line": {
             "colorbar": {
              "outlinewidth": 0,
              "ticks": ""
             }
            },
            "marker": {
             "colorbar": {
              "outlinewidth": 0,
              "ticks": ""
             }
            },
            "type": "scatter3d"
           }
          ],
          "scattercarpet": [
           {
            "marker": {
             "colorbar": {
              "outlinewidth": 0,
              "ticks": ""
             }
            },
            "type": "scattercarpet"
           }
          ],
          "scattergeo": [
           {
            "marker": {
             "colorbar": {
              "outlinewidth": 0,
              "ticks": ""
             }
            },
            "type": "scattergeo"
           }
          ],
          "scattergl": [
           {
            "marker": {
             "colorbar": {
              "outlinewidth": 0,
              "ticks": ""
             }
            },
            "type": "scattergl"
           }
          ],
          "scattermapbox": [
           {
            "marker": {
             "colorbar": {
              "outlinewidth": 0,
              "ticks": ""
             }
            },
            "type": "scattermapbox"
           }
          ],
          "scatterpolar": [
           {
            "marker": {
             "colorbar": {
              "outlinewidth": 0,
              "ticks": ""
             }
            },
            "type": "scatterpolar"
           }
          ],
          "scatterpolargl": [
           {
            "marker": {
             "colorbar": {
              "outlinewidth": 0,
              "ticks": ""
             }
            },
            "type": "scatterpolargl"
           }
          ],
          "scatterternary": [
           {
            "marker": {
             "colorbar": {
              "outlinewidth": 0,
              "ticks": ""
             }
            },
            "type": "scatterternary"
           }
          ],
          "surface": [
           {
            "colorbar": {
             "outlinewidth": 0,
             "ticks": ""
            },
            "colorscale": [
             [
              0,
              "#0d0887"
             ],
             [
              0.1111111111111111,
              "#46039f"
             ],
             [
              0.2222222222222222,
              "#7201a8"
             ],
             [
              0.3333333333333333,
              "#9c179e"
             ],
             [
              0.4444444444444444,
              "#bd3786"
             ],
             [
              0.5555555555555556,
              "#d8576b"
             ],
             [
              0.6666666666666666,
              "#ed7953"
             ],
             [
              0.7777777777777778,
              "#fb9f3a"
             ],
             [
              0.8888888888888888,
              "#fdca26"
             ],
             [
              1,
              "#f0f921"
             ]
            ],
            "type": "surface"
           }
          ],
          "table": [
           {
            "cells": {
             "fill": {
              "color": "#EBF0F8"
             },
             "line": {
              "color": "white"
             }
            },
            "header": {
             "fill": {
              "color": "#C8D4E3"
             },
             "line": {
              "color": "white"
             }
            },
            "type": "table"
           }
          ]
         },
         "layout": {
          "annotationdefaults": {
           "arrowcolor": "#2a3f5f",
           "arrowhead": 0,
           "arrowwidth": 1
          },
          "autotypenumbers": "strict",
          "coloraxis": {
           "colorbar": {
            "outlinewidth": 0,
            "ticks": ""
           }
          },
          "colorscale": {
           "diverging": [
            [
             0,
             "#8e0152"
            ],
            [
             0.1,
             "#c51b7d"
            ],
            [
             0.2,
             "#de77ae"
            ],
            [
             0.3,
             "#f1b6da"
            ],
            [
             0.4,
             "#fde0ef"
            ],
            [
             0.5,
             "#f7f7f7"
            ],
            [
             0.6,
             "#e6f5d0"
            ],
            [
             0.7,
             "#b8e186"
            ],
            [
             0.8,
             "#7fbc41"
            ],
            [
             0.9,
             "#4d9221"
            ],
            [
             1,
             "#276419"
            ]
           ],
           "sequential": [
            [
             0,
             "#0d0887"
            ],
            [
             0.1111111111111111,
             "#46039f"
            ],
            [
             0.2222222222222222,
             "#7201a8"
            ],
            [
             0.3333333333333333,
             "#9c179e"
            ],
            [
             0.4444444444444444,
             "#bd3786"
            ],
            [
             0.5555555555555556,
             "#d8576b"
            ],
            [
             0.6666666666666666,
             "#ed7953"
            ],
            [
             0.7777777777777778,
             "#fb9f3a"
            ],
            [
             0.8888888888888888,
             "#fdca26"
            ],
            [
             1,
             "#f0f921"
            ]
           ],
           "sequentialminus": [
            [
             0,
             "#0d0887"
            ],
            [
             0.1111111111111111,
             "#46039f"
            ],
            [
             0.2222222222222222,
             "#7201a8"
            ],
            [
             0.3333333333333333,
             "#9c179e"
            ],
            [
             0.4444444444444444,
             "#bd3786"
            ],
            [
             0.5555555555555556,
             "#d8576b"
            ],
            [
             0.6666666666666666,
             "#ed7953"
            ],
            [
             0.7777777777777778,
             "#fb9f3a"
            ],
            [
             0.8888888888888888,
             "#fdca26"
            ],
            [
             1,
             "#f0f921"
            ]
           ]
          },
          "colorway": [
           "#636efa",
           "#EF553B",
           "#00cc96",
           "#ab63fa",
           "#FFA15A",
           "#19d3f3",
           "#FF6692",
           "#B6E880",
           "#FF97FF",
           "#FECB52"
          ],
          "font": {
           "color": "#2a3f5f"
          },
          "geo": {
           "bgcolor": "white",
           "lakecolor": "white",
           "landcolor": "white",
           "showlakes": true,
           "showland": true,
           "subunitcolor": "#C8D4E3"
          },
          "hoverlabel": {
           "align": "left"
          },
          "hovermode": "closest",
          "mapbox": {
           "style": "light"
          },
          "paper_bgcolor": "white",
          "plot_bgcolor": "white",
          "polar": {
           "angularaxis": {
            "gridcolor": "#EBF0F8",
            "linecolor": "#EBF0F8",
            "ticks": ""
           },
           "bgcolor": "white",
           "radialaxis": {
            "gridcolor": "#EBF0F8",
            "linecolor": "#EBF0F8",
            "ticks": ""
           }
          },
          "scene": {
           "xaxis": {
            "backgroundcolor": "white",
            "gridcolor": "#DFE8F3",
            "gridwidth": 2,
            "linecolor": "#EBF0F8",
            "showbackground": true,
            "ticks": "",
            "zerolinecolor": "#EBF0F8"
           },
           "yaxis": {
            "backgroundcolor": "white",
            "gridcolor": "#DFE8F3",
            "gridwidth": 2,
            "linecolor": "#EBF0F8",
            "showbackground": true,
            "ticks": "",
            "zerolinecolor": "#EBF0F8"
           },
           "zaxis": {
            "backgroundcolor": "white",
            "gridcolor": "#DFE8F3",
            "gridwidth": 2,
            "linecolor": "#EBF0F8",
            "showbackground": true,
            "ticks": "",
            "zerolinecolor": "#EBF0F8"
           }
          },
          "shapedefaults": {
           "line": {
            "color": "#2a3f5f"
           }
          },
          "ternary": {
           "aaxis": {
            "gridcolor": "#DFE8F3",
            "linecolor": "#A2B1C6",
            "ticks": ""
           },
           "baxis": {
            "gridcolor": "#DFE8F3",
            "linecolor": "#A2B1C6",
            "ticks": ""
           },
           "bgcolor": "white",
           "caxis": {
            "gridcolor": "#DFE8F3",
            "linecolor": "#A2B1C6",
            "ticks": ""
           }
          },
          "title": {
           "x": 0.05
          },
          "xaxis": {
           "automargin": true,
           "gridcolor": "#EBF0F8",
           "linecolor": "#EBF0F8",
           "ticks": "",
           "title": {
            "standoff": 15
           },
           "zerolinecolor": "#EBF0F8",
           "zerolinewidth": 2
          },
          "yaxis": {
           "automargin": true,
           "gridcolor": "#EBF0F8",
           "linecolor": "#EBF0F8",
           "ticks": "",
           "title": {
            "standoff": 15
           },
           "zerolinecolor": "#EBF0F8",
           "zerolinewidth": 2
          }
         }
        },
        "title": {
         "font": {
          "color": "Black",
          "size": 22
         },
         "text": "<b>Term score decline per Topic</b>",
         "x": 0.5,
         "xanchor": "center",
         "y": 0.9,
         "yanchor": "top"
        },
        "width": 800,
        "xaxis": {
         "dtick": 2,
         "range": [
          0,
          10
         ],
         "tick0": 1,
         "title": {
          "text": "Term Rank"
         }
        },
        "yaxis": {
         "title": {
          "text": "c-TF-IDF score"
         }
        }
       }
      }
     },
     "metadata": {},
     "output_type": "display_data"
    }
   ],
   "source": [
    "topic_model.visualize_term_rank() # => visualize_term_rank (rank, score)"
   ]
  },
  {
   "cell_type": "code",
   "execution_count": 149,
   "metadata": {},
   "outputs": [
    {
     "name": "stderr",
     "output_type": "stream",
     "text": [
      "0it [00:00, ?it/s]"
     ]
    },
    {
     "name": "stderr",
     "output_type": "stream",
     "text": [
      "20it [00:03,  6.52it/s]\n"
     ]
    },
    {
     "data": {
      "application/vnd.plotly.v1+json": {
       "config": {
        "plotlyServerURL": "https://plot.ly"
       },
       "data": [
        {
         "hoverinfo": "text",
         "hovertext": [
          "<b>Topic 0</b><br>Words: barbershop, malibu, thế_sinh, , ",
          "<b>Topic 0</b><br>Words: malibu, công_tác, , , "
         ],
         "marker": {
          "color": "#E69F00"
         },
         "name": "0_malibu_barbershop_thế_sinh_",
         "orientation": "h",
         "type": "bar",
         "visible": true,
         "x": [
          1,
          1
         ],
         "y": [
          "708417191319409",
          "711580141003114"
         ]
        },
        {
         "hoverinfo": "text",
         "hovertext": [
          "<b>Topic 1</b><br>Words: nma, cảm_xúc, viết, từng_trải, yên_tĩnh",
          "<b>Topic 1</b><br>Words: viết, củng_đọc, đa_sắc, tuần_mong, trải",
          "<b>Topic 1</b><br>Words: đọc, yên_tĩnh, thư_viện, viết, học",
          "<b>Topic 1</b><br>Words: teamwork, phũ, bác_bỏ, nói_tông, deadline",
          "<b>Topic 1</b><br>Words: chăm_chỉ, học, miễn_sao, u_uất, sợ_kì",
          "<b>Topic 1</b><br>Words: ký_túc_xá, xíu, không_gian, kiểu, to",
          "<b>Topic 1</b><br>Words: ăn_xin, xin_xỏ, mìnhxem_luyện, nhăn_nhó, max_tai",
          "<b>Topic 1</b><br>Words: blamình, hòa, đọc, nhanh_chóng, hôm_nay"
         ],
         "marker": {
          "color": "#56B4E9"
         },
         "name": "1_đọc_viết_chăm_chỉ_kiểu",
         "orientation": "h",
         "type": "bar",
         "visible": "legendonly",
         "x": [
          1,
          1,
          1,
          1,
          1,
          1,
          1,
          1
         ],
         "y": [
          "714236537404141",
          "710840521077076",
          "713013097526485",
          "713014190859709",
          "707343791426749",
          "714667314027730",
          "713011484193313",
          "709919614502500"
         ]
        },
        {
         "hoverinfo": "text",
         "hovertext": [
          "<b>Topic 2</b><br>Words: rét_rét, co_ro, rét, kiểu, mùa",
          "<b>Topic 2</b><br>Words: chào_admin, inf, admin, kẻ_cắp, sai_lầm_ngudot",
          "<b>Topic 2</b><br>Words: tốt_bụng, ptit_nha, nhà_xe, iu, niềm",
          "<b>Topic 2</b><br>Words: liếc, giả_vờ, buông, hỏi_han, cảm_xúc",
          "<b>Topic 2</b><br>Words: chụp, inf, itfest, kịp, fpt",
          "<b>Topic 2</b><br>Words: xà_phòng, nhà_vệ_sinh, vòi_xịt, rửa, vệ_sinh"
         ],
         "marker": {
          "color": "#009E73"
         },
         "name": "2_inf_kiểu_quan_sát_lớp",
         "orientation": "h",
         "type": "bar",
         "visible": "legendonly",
         "x": [
          1,
          1,
          1,
          1,
          1,
          1
         ],
         "y": [
          "713276280833500",
          "713010110860117",
          "713012297526565",
          "709929547834840",
          "713011140860014",
          "710847251076403"
         ]
        },
        {
         "hoverinfo": "text",
         "hovertext": [
          "<b>Topic 3</b><br>Words: thang_máy, biến_thái, chạm, gạt, trapboy",
          "<b>Topic 3</b><br>Words: trapboy, sợ_trai, it_trường, it, mất_thiện_cảm",
          "<b>Topic 3</b><br>Words: thang_máy, trapboy, thang, mất_thiện_cảm, kẹp"
         ],
         "marker": {
          "color": "#F0E442"
         },
         "name": "3_trapboy_thang_máy_biến_thái_mất_thiện_...",
         "orientation": "h",
         "type": "bar",
         "visible": "legendonly",
         "x": [
          1,
          1,
          1
         ],
         "y": [
          "713013604193101",
          "708781737949621",
          "710342247793570"
         ]
        },
        {
         "hoverinfo": "text",
         "hovertext": [
          "<b>Topic 4</b><br>Words: xinh_ngại, dám, đồng_phục, ảnh, thi"
         ],
         "marker": {
          "color": "#D55E00"
         },
         "name": "4_xinh_ngại_dám_đồng_phục_ảnh",
         "orientation": "h",
         "type": "bar",
         "visible": "legendonly",
         "x": [
          1
         ],
         "y": [
          "709919931169135"
         ]
        }
       ],
       "layout": {
        "height": 900,
        "hoverlabel": {
         "bgcolor": "white",
         "font": {
          "family": "Rockwell",
          "size": 16
         }
        },
        "legend": {
         "title": {
          "text": "<b>Global Topic Representation"
         }
        },
        "template": {
         "data": {
          "bar": [
           {
            "error_x": {
             "color": "rgb(36,36,36)"
            },
            "error_y": {
             "color": "rgb(36,36,36)"
            },
            "marker": {
             "line": {
              "color": "white",
              "width": 0.5
             },
             "pattern": {
              "fillmode": "overlay",
              "size": 10,
              "solidity": 0.2
             }
            },
            "type": "bar"
           }
          ],
          "barpolar": [
           {
            "marker": {
             "line": {
              "color": "white",
              "width": 0.5
             },
             "pattern": {
              "fillmode": "overlay",
              "size": 10,
              "solidity": 0.2
             }
            },
            "type": "barpolar"
           }
          ],
          "carpet": [
           {
            "aaxis": {
             "endlinecolor": "rgb(36,36,36)",
             "gridcolor": "white",
             "linecolor": "white",
             "minorgridcolor": "white",
             "startlinecolor": "rgb(36,36,36)"
            },
            "baxis": {
             "endlinecolor": "rgb(36,36,36)",
             "gridcolor": "white",
             "linecolor": "white",
             "minorgridcolor": "white",
             "startlinecolor": "rgb(36,36,36)"
            },
            "type": "carpet"
           }
          ],
          "choropleth": [
           {
            "colorbar": {
             "outlinewidth": 1,
             "tickcolor": "rgb(36,36,36)",
             "ticks": "outside"
            },
            "type": "choropleth"
           }
          ],
          "contour": [
           {
            "colorbar": {
             "outlinewidth": 1,
             "tickcolor": "rgb(36,36,36)",
             "ticks": "outside"
            },
            "colorscale": [
             [
              0,
              "#440154"
             ],
             [
              0.1111111111111111,
              "#482878"
             ],
             [
              0.2222222222222222,
              "#3e4989"
             ],
             [
              0.3333333333333333,
              "#31688e"
             ],
             [
              0.4444444444444444,
              "#26828e"
             ],
             [
              0.5555555555555556,
              "#1f9e89"
             ],
             [
              0.6666666666666666,
              "#35b779"
             ],
             [
              0.7777777777777778,
              "#6ece58"
             ],
             [
              0.8888888888888888,
              "#b5de2b"
             ],
             [
              1,
              "#fde725"
             ]
            ],
            "type": "contour"
           }
          ],
          "contourcarpet": [
           {
            "colorbar": {
             "outlinewidth": 1,
             "tickcolor": "rgb(36,36,36)",
             "ticks": "outside"
            },
            "type": "contourcarpet"
           }
          ],
          "heatmap": [
           {
            "colorbar": {
             "outlinewidth": 1,
             "tickcolor": "rgb(36,36,36)",
             "ticks": "outside"
            },
            "colorscale": [
             [
              0,
              "#440154"
             ],
             [
              0.1111111111111111,
              "#482878"
             ],
             [
              0.2222222222222222,
              "#3e4989"
             ],
             [
              0.3333333333333333,
              "#31688e"
             ],
             [
              0.4444444444444444,
              "#26828e"
             ],
             [
              0.5555555555555556,
              "#1f9e89"
             ],
             [
              0.6666666666666666,
              "#35b779"
             ],
             [
              0.7777777777777778,
              "#6ece58"
             ],
             [
              0.8888888888888888,
              "#b5de2b"
             ],
             [
              1,
              "#fde725"
             ]
            ],
            "type": "heatmap"
           }
          ],
          "heatmapgl": [
           {
            "colorbar": {
             "outlinewidth": 1,
             "tickcolor": "rgb(36,36,36)",
             "ticks": "outside"
            },
            "colorscale": [
             [
              0,
              "#440154"
             ],
             [
              0.1111111111111111,
              "#482878"
             ],
             [
              0.2222222222222222,
              "#3e4989"
             ],
             [
              0.3333333333333333,
              "#31688e"
             ],
             [
              0.4444444444444444,
              "#26828e"
             ],
             [
              0.5555555555555556,
              "#1f9e89"
             ],
             [
              0.6666666666666666,
              "#35b779"
             ],
             [
              0.7777777777777778,
              "#6ece58"
             ],
             [
              0.8888888888888888,
              "#b5de2b"
             ],
             [
              1,
              "#fde725"
             ]
            ],
            "type": "heatmapgl"
           }
          ],
          "histogram": [
           {
            "marker": {
             "line": {
              "color": "white",
              "width": 0.6
             }
            },
            "type": "histogram"
           }
          ],
          "histogram2d": [
           {
            "colorbar": {
             "outlinewidth": 1,
             "tickcolor": "rgb(36,36,36)",
             "ticks": "outside"
            },
            "colorscale": [
             [
              0,
              "#440154"
             ],
             [
              0.1111111111111111,
              "#482878"
             ],
             [
              0.2222222222222222,
              "#3e4989"
             ],
             [
              0.3333333333333333,
              "#31688e"
             ],
             [
              0.4444444444444444,
              "#26828e"
             ],
             [
              0.5555555555555556,
              "#1f9e89"
             ],
             [
              0.6666666666666666,
              "#35b779"
             ],
             [
              0.7777777777777778,
              "#6ece58"
             ],
             [
              0.8888888888888888,
              "#b5de2b"
             ],
             [
              1,
              "#fde725"
             ]
            ],
            "type": "histogram2d"
           }
          ],
          "histogram2dcontour": [
           {
            "colorbar": {
             "outlinewidth": 1,
             "tickcolor": "rgb(36,36,36)",
             "ticks": "outside"
            },
            "colorscale": [
             [
              0,
              "#440154"
             ],
             [
              0.1111111111111111,
              "#482878"
             ],
             [
              0.2222222222222222,
              "#3e4989"
             ],
             [
              0.3333333333333333,
              "#31688e"
             ],
             [
              0.4444444444444444,
              "#26828e"
             ],
             [
              0.5555555555555556,
              "#1f9e89"
             ],
             [
              0.6666666666666666,
              "#35b779"
             ],
             [
              0.7777777777777778,
              "#6ece58"
             ],
             [
              0.8888888888888888,
              "#b5de2b"
             ],
             [
              1,
              "#fde725"
             ]
            ],
            "type": "histogram2dcontour"
           }
          ],
          "mesh3d": [
           {
            "colorbar": {
             "outlinewidth": 1,
             "tickcolor": "rgb(36,36,36)",
             "ticks": "outside"
            },
            "type": "mesh3d"
           }
          ],
          "parcoords": [
           {
            "line": {
             "colorbar": {
              "outlinewidth": 1,
              "tickcolor": "rgb(36,36,36)",
              "ticks": "outside"
             }
            },
            "type": "parcoords"
           }
          ],
          "pie": [
           {
            "automargin": true,
            "type": "pie"
           }
          ],
          "scatter": [
           {
            "fillpattern": {
             "fillmode": "overlay",
             "size": 10,
             "solidity": 0.2
            },
            "type": "scatter"
           }
          ],
          "scatter3d": [
           {
            "line": {
             "colorbar": {
              "outlinewidth": 1,
              "tickcolor": "rgb(36,36,36)",
              "ticks": "outside"
             }
            },
            "marker": {
             "colorbar": {
              "outlinewidth": 1,
              "tickcolor": "rgb(36,36,36)",
              "ticks": "outside"
             }
            },
            "type": "scatter3d"
           }
          ],
          "scattercarpet": [
           {
            "marker": {
             "colorbar": {
              "outlinewidth": 1,
              "tickcolor": "rgb(36,36,36)",
              "ticks": "outside"
             }
            },
            "type": "scattercarpet"
           }
          ],
          "scattergeo": [
           {
            "marker": {
             "colorbar": {
              "outlinewidth": 1,
              "tickcolor": "rgb(36,36,36)",
              "ticks": "outside"
             }
            },
            "type": "scattergeo"
           }
          ],
          "scattergl": [
           {
            "marker": {
             "colorbar": {
              "outlinewidth": 1,
              "tickcolor": "rgb(36,36,36)",
              "ticks": "outside"
             }
            },
            "type": "scattergl"
           }
          ],
          "scattermapbox": [
           {
            "marker": {
             "colorbar": {
              "outlinewidth": 1,
              "tickcolor": "rgb(36,36,36)",
              "ticks": "outside"
             }
            },
            "type": "scattermapbox"
           }
          ],
          "scatterpolar": [
           {
            "marker": {
             "colorbar": {
              "outlinewidth": 1,
              "tickcolor": "rgb(36,36,36)",
              "ticks": "outside"
             }
            },
            "type": "scatterpolar"
           }
          ],
          "scatterpolargl": [
           {
            "marker": {
             "colorbar": {
              "outlinewidth": 1,
              "tickcolor": "rgb(36,36,36)",
              "ticks": "outside"
             }
            },
            "type": "scatterpolargl"
           }
          ],
          "scatterternary": [
           {
            "marker": {
             "colorbar": {
              "outlinewidth": 1,
              "tickcolor": "rgb(36,36,36)",
              "ticks": "outside"
             }
            },
            "type": "scatterternary"
           }
          ],
          "surface": [
           {
            "colorbar": {
             "outlinewidth": 1,
             "tickcolor": "rgb(36,36,36)",
             "ticks": "outside"
            },
            "colorscale": [
             [
              0,
              "#440154"
             ],
             [
              0.1111111111111111,
              "#482878"
             ],
             [
              0.2222222222222222,
              "#3e4989"
             ],
             [
              0.3333333333333333,
              "#31688e"
             ],
             [
              0.4444444444444444,
              "#26828e"
             ],
             [
              0.5555555555555556,
              "#1f9e89"
             ],
             [
              0.6666666666666666,
              "#35b779"
             ],
             [
              0.7777777777777778,
              "#6ece58"
             ],
             [
              0.8888888888888888,
              "#b5de2b"
             ],
             [
              1,
              "#fde725"
             ]
            ],
            "type": "surface"
           }
          ],
          "table": [
           {
            "cells": {
             "fill": {
              "color": "rgb(237,237,237)"
             },
             "line": {
              "color": "white"
             }
            },
            "header": {
             "fill": {
              "color": "rgb(217,217,217)"
             },
             "line": {
              "color": "white"
             }
            },
            "type": "table"
           }
          ]
         },
         "layout": {
          "annotationdefaults": {
           "arrowhead": 0,
           "arrowwidth": 1
          },
          "autotypenumbers": "strict",
          "coloraxis": {
           "colorbar": {
            "outlinewidth": 1,
            "tickcolor": "rgb(36,36,36)",
            "ticks": "outside"
           }
          },
          "colorscale": {
           "diverging": [
            [
             0,
             "rgb(103,0,31)"
            ],
            [
             0.1,
             "rgb(178,24,43)"
            ],
            [
             0.2,
             "rgb(214,96,77)"
            ],
            [
             0.3,
             "rgb(244,165,130)"
            ],
            [
             0.4,
             "rgb(253,219,199)"
            ],
            [
             0.5,
             "rgb(247,247,247)"
            ],
            [
             0.6,
             "rgb(209,229,240)"
            ],
            [
             0.7,
             "rgb(146,197,222)"
            ],
            [
             0.8,
             "rgb(67,147,195)"
            ],
            [
             0.9,
             "rgb(33,102,172)"
            ],
            [
             1,
             "rgb(5,48,97)"
            ]
           ],
           "sequential": [
            [
             0,
             "#440154"
            ],
            [
             0.1111111111111111,
             "#482878"
            ],
            [
             0.2222222222222222,
             "#3e4989"
            ],
            [
             0.3333333333333333,
             "#31688e"
            ],
            [
             0.4444444444444444,
             "#26828e"
            ],
            [
             0.5555555555555556,
             "#1f9e89"
            ],
            [
             0.6666666666666666,
             "#35b779"
            ],
            [
             0.7777777777777778,
             "#6ece58"
            ],
            [
             0.8888888888888888,
             "#b5de2b"
            ],
            [
             1,
             "#fde725"
            ]
           ],
           "sequentialminus": [
            [
             0,
             "#440154"
            ],
            [
             0.1111111111111111,
             "#482878"
            ],
            [
             0.2222222222222222,
             "#3e4989"
            ],
            [
             0.3333333333333333,
             "#31688e"
            ],
            [
             0.4444444444444444,
             "#26828e"
            ],
            [
             0.5555555555555556,
             "#1f9e89"
            ],
            [
             0.6666666666666666,
             "#35b779"
            ],
            [
             0.7777777777777778,
             "#6ece58"
            ],
            [
             0.8888888888888888,
             "#b5de2b"
            ],
            [
             1,
             "#fde725"
            ]
           ]
          },
          "colorway": [
           "#1F77B4",
           "#FF7F0E",
           "#2CA02C",
           "#D62728",
           "#9467BD",
           "#8C564B",
           "#E377C2",
           "#7F7F7F",
           "#BCBD22",
           "#17BECF"
          ],
          "font": {
           "color": "rgb(36,36,36)"
          },
          "geo": {
           "bgcolor": "white",
           "lakecolor": "white",
           "landcolor": "white",
           "showlakes": true,
           "showland": true,
           "subunitcolor": "white"
          },
          "hoverlabel": {
           "align": "left"
          },
          "hovermode": "closest",
          "mapbox": {
           "style": "light"
          },
          "paper_bgcolor": "white",
          "plot_bgcolor": "white",
          "polar": {
           "angularaxis": {
            "gridcolor": "rgb(232,232,232)",
            "linecolor": "rgb(36,36,36)",
            "showgrid": false,
            "showline": true,
            "ticks": "outside"
           },
           "bgcolor": "white",
           "radialaxis": {
            "gridcolor": "rgb(232,232,232)",
            "linecolor": "rgb(36,36,36)",
            "showgrid": false,
            "showline": true,
            "ticks": "outside"
           }
          },
          "scene": {
           "xaxis": {
            "backgroundcolor": "white",
            "gridcolor": "rgb(232,232,232)",
            "gridwidth": 2,
            "linecolor": "rgb(36,36,36)",
            "showbackground": true,
            "showgrid": false,
            "showline": true,
            "ticks": "outside",
            "zeroline": false,
            "zerolinecolor": "rgb(36,36,36)"
           },
           "yaxis": {
            "backgroundcolor": "white",
            "gridcolor": "rgb(232,232,232)",
            "gridwidth": 2,
            "linecolor": "rgb(36,36,36)",
            "showbackground": true,
            "showgrid": false,
            "showline": true,
            "ticks": "outside",
            "zeroline": false,
            "zerolinecolor": "rgb(36,36,36)"
           },
           "zaxis": {
            "backgroundcolor": "white",
            "gridcolor": "rgb(232,232,232)",
            "gridwidth": 2,
            "linecolor": "rgb(36,36,36)",
            "showbackground": true,
            "showgrid": false,
            "showline": true,
            "ticks": "outside",
            "zeroline": false,
            "zerolinecolor": "rgb(36,36,36)"
           }
          },
          "shapedefaults": {
           "fillcolor": "black",
           "line": {
            "width": 0
           },
           "opacity": 0.3
          },
          "ternary": {
           "aaxis": {
            "gridcolor": "rgb(232,232,232)",
            "linecolor": "rgb(36,36,36)",
            "showgrid": false,
            "showline": true,
            "ticks": "outside"
           },
           "baxis": {
            "gridcolor": "rgb(232,232,232)",
            "linecolor": "rgb(36,36,36)",
            "showgrid": false,
            "showline": true,
            "ticks": "outside"
           },
           "bgcolor": "white",
           "caxis": {
            "gridcolor": "rgb(232,232,232)",
            "linecolor": "rgb(36,36,36)",
            "showgrid": false,
            "showline": true,
            "ticks": "outside"
           }
          },
          "title": {
           "x": 0.05
          },
          "xaxis": {
           "automargin": true,
           "gridcolor": "rgb(232,232,232)",
           "linecolor": "rgb(36,36,36)",
           "showgrid": false,
           "showline": true,
           "ticks": "outside",
           "title": {
            "standoff": 15
           },
           "zeroline": false,
           "zerolinecolor": "rgb(36,36,36)"
          },
          "yaxis": {
           "automargin": true,
           "gridcolor": "rgb(232,232,232)",
           "linecolor": "rgb(36,36,36)",
           "showgrid": false,
           "showline": true,
           "ticks": "outside",
           "title": {
            "standoff": 15
           },
           "zeroline": false,
           "zerolinecolor": "rgb(36,36,36)"
          }
         }
        },
        "title": {
         "font": {
          "color": "Black",
          "size": 22
         },
         "text": "<b>Topics per Class</b>",
         "x": 0.4,
         "xanchor": "center",
         "y": 0.95,
         "yanchor": "top"
        },
        "width": 1250,
        "xaxis": {
         "showgrid": true,
         "title": {
          "text": "Frequency"
         }
        },
        "yaxis": {
         "showgrid": true,
         "title": {
          "text": "Class"
         }
        }
       }
      }
     },
     "metadata": {},
     "output_type": "display_data"
    }
   ],
   "source": [
    "classes = [i for i in papers[\"post_id\"]]\n",
    "classes = [str(i) for i in classes] # convert to string\n",
    "topics_per_class = topic_model.topics_per_class(docs, classes=classes)\n",
    "topic_model.visualize_topics_per_class(topics_per_class)"
   ]
  },
  {
   "cell_type": "code",
   "execution_count": 150,
   "metadata": {},
   "outputs": [
    {
     "name": "stdout",
     "output_type": "stream",
     "text": [
      "(20, 8)\n",
      "['2_inf_kiểu_quan_sát_lớp' '4_xinh_ngại_dám_đồng_phục_ảnh'\n",
      " '3_trapboy_thang_máy_biến_thái_mất_thiện_...' '1_đọc_viết_chăm_chỉ_kiểu'\n",
      " '0_malibu_barbershop_thế_sinh_']\n",
      "16\n",
      "56\n",
      "13\n",
      "50\n",
      "16\n",
      "61\n",
      "10\n",
      "77\n",
      "                                          Name  Count_comments\n",
      "0                0_malibu_barbershop_thế_sinh_             191\n",
      "1                     1_đọc_viết_chăm_chỉ_kiểu             299\n",
      "2                      2_inf_kiểu_quan_sát_lớp             262\n",
      "3  3_trapboy_thang_máy_biến_thái_mất_thiện_...             495\n",
      "4                4_xinh_ngại_dám_đồng_phục_ảnh             120\n",
      "                                          Name  positive\n",
      "0                0_malibu_barbershop_thế_sinh_         2\n",
      "1                     1_đọc_viết_chăm_chỉ_kiểu         7\n",
      "2                      2_inf_kiểu_quan_sát_lớp         5\n",
      "3  3_trapboy_thang_máy_biến_thái_mất_thiện_...         2\n",
      "4                4_xinh_ngại_dám_đồng_phục_ảnh         1\n",
      "                                          Name  negative\n",
      "0                0_malibu_barbershop_thế_sinh_         0\n",
      "1                     1_đọc_viết_chăm_chỉ_kiểu         1\n",
      "2                      2_inf_kiểu_quan_sát_lớp         1\n",
      "3  3_trapboy_thang_máy_biến_thái_mất_thiện_...         1\n",
      "4                4_xinh_ngại_dám_đồng_phục_ảnh         0\n"
     ]
    }
   ],
   "source": [
    "\n",
    "count_cmt = []\n",
    "positive = []\n",
    "negative = []\n",
    "docs_len = [len(doc.split()) for doc in docs]\n",
    "papers['docs_len'] = docs_len\n",
    "doc_l = []\n",
    "for i in range(len(papers)):\n",
    "    for j in range(len(topics_per_class)):\n",
    "        if str(papers['post_id'][i]) == topics_per_class['Class'][j]:\n",
    "            count_cmt.append(papers['comments'][i])\n",
    "            positive.append(papers['positive'][i])\n",
    "            negative.append(papers['negative'][i])\n",
    "topics_per_class['Count_comments'] = count_cmt\n",
    "topics_per_class['positive'] = positive\n",
    "topics_per_class['negative'] = negative\n",
    "print(topics_per_class.shape)\n",
    "uni = topics_per_class['Name'].unique()\n",
    "print(uni)\n",
    "for i in range(len(topics_per_class)):\n",
    "    if topics_per_class['Name'][i] == uni[3]:\n",
    "        print(topics_per_class['Count_comments'][i])\n",
    "# gropby class\n",
    "_count_comments = topics_per_class.groupby(['Name'], as_index=False).agg({'Count_comments': 'sum'})\n",
    "_count_positive = topics_per_class.groupby(['Name'], as_index=False).agg({'positive': 'sum'})\n",
    "_count_negative = topics_per_class.groupby(['Name'], as_index=False).agg({'negative': 'sum'})\n",
    "print(_count_comments.head())\n",
    "print(_count_positive.head())\n",
    "print(_count_negative.head())"
   ]
  },
  {
   "cell_type": "code",
   "execution_count": 151,
   "metadata": {},
   "outputs": [
    {
     "data": {
      "text/plain": [
       "count    20.000000\n",
       "mean     38.250000\n",
       "std      25.474187\n",
       "min       2.000000\n",
       "25%      20.500000\n",
       "50%      40.000000\n",
       "75%      50.250000\n",
       "max      99.000000\n",
       "Name: docs_len, dtype: float64"
      ]
     },
     "execution_count": 151,
     "metadata": {},
     "output_type": "execute_result"
    }
   ],
   "source": [
    "papers['docs_len'].describe()"
   ]
  },
  {
   "cell_type": "code",
   "execution_count": 152,
   "metadata": {},
   "outputs": [
    {
     "data": {
      "text/plain": [
       "([<matplotlib.axis.XTick at 0x7f59601c12a0>,\n",
       "  <matplotlib.axis.XTick at 0x7f59601c2a70>,\n",
       "  <matplotlib.axis.XTick at 0x7f59c19390f0>,\n",
       "  <matplotlib.axis.XTick at 0x7f59c01f1720>,\n",
       "  <matplotlib.axis.XTick at 0x7f59c01f21d0>,\n",
       "  <matplotlib.axis.XTick at 0x7f59c02fbe80>,\n",
       "  <matplotlib.axis.XTick at 0x7f59c01f10c0>,\n",
       "  <matplotlib.axis.XTick at 0x7f59c01f2d10>,\n",
       "  <matplotlib.axis.XTick at 0x7f59c01f34f0>,\n",
       "  <matplotlib.axis.XTick at 0x7f59c01f3cd0>,\n",
       "  <matplotlib.axis.XTick at 0x7f59c00084f0>,\n",
       "  <matplotlib.axis.XTick at 0x7f59c01f2ec0>,\n",
       "  <matplotlib.axis.XTick at 0x7f59c00086a0>,\n",
       "  <matplotlib.axis.XTick at 0x7f59c0008e80>,\n",
       "  <matplotlib.axis.XTick at 0x7f59c0009660>],\n",
       " [Text(0, 0, '0'),\n",
       "  Text(10, 0, '10'),\n",
       "  Text(20, 0, '20'),\n",
       "  Text(30, 0, '30'),\n",
       "  Text(40, 0, '40'),\n",
       "  Text(50, 0, '50'),\n",
       "  Text(60, 0, '60'),\n",
       "  Text(70, 0, '70'),\n",
       "  Text(80, 0, '80'),\n",
       "  Text(90, 0, '90'),\n",
       "  Text(100, 0, '100'),\n",
       "  Text(110, 0, '110'),\n",
       "  Text(120, 0, '120'),\n",
       "  Text(130, 0, '130'),\n",
       "  Text(140, 0, '140')])"
      ]
     },
     "execution_count": 152,
     "metadata": {},
     "output_type": "execute_result"
    },
    {
     "data": {
      "image/png": "[encoded data removed]",
      "text/plain": [
       "<Figure size 2000x500 with 1 Axes>"
      ]
     },
     "metadata": {},
     "output_type": "display_data"
    }
   ],
   "source": [
    "fig = plt.figure(figsize=(20,5))\n",
    "plt.hist(\n",
    "    papers['docs_len'],\n",
    "    bins=20,\n",
    "    color='#3D50FA'\n",
    ")\n",
    "\n",
    "plt.title('Phân phối bài viết theo số lượng từ', fontsize=16)\n",
    "plt.ylabel('Tần suất', fontsize=12)\n",
    "plt.xlabel('Số lượng từ', fontsize=12)\n",
    "plt.yticks(np.arange(0, 50, 5))\n",
    "plt.xticks(np.arange(0, 150, 10))"
   ]
  },
  {
   "cell_type": "code",
   "execution_count": 153,
   "metadata": {},
   "outputs": [
    {
     "data": {
      "text/html": [
       "<div>\n",
       "<style scoped>\n",
       "    .dataframe tbody tr th:only-of-type {\n",
       "        vertical-align: middle;\n",
       "    }\n",
       "\n",
       "    .dataframe tbody tr th {\n",
       "        vertical-align: top;\n",
       "    }\n",
       "\n",
       "    .dataframe thead th {\n",
       "        text-align: right;\n",
       "    }\n",
       "</style>\n",
       "<table border=\"1\" class=\"dataframe\">\n",
       "  <thead>\n",
       "    <tr style=\"text-align: right;\">\n",
       "      <th></th>\n",
       "      <th>word</th>\n",
       "      <th>frequency</th>\n",
       "    </tr>\n",
       "  </thead>\n",
       "  <tbody>\n",
       "    <tr>\n",
       "      <th>0</th>\n",
       "      <td>học</td>\n",
       "      <td>16</td>\n",
       "    </tr>\n",
       "    <tr>\n",
       "      <th>1</th>\n",
       "      <td>thư_viện</td>\n",
       "      <td>13</td>\n",
       "    </tr>\n",
       "    <tr>\n",
       "      <th>2</th>\n",
       "      <td>nói_chuyện</td>\n",
       "      <td>7</td>\n",
       "    </tr>\n",
       "    <tr>\n",
       "      <th>3</th>\n",
       "      <td>kiểu</td>\n",
       "      <td>7</td>\n",
       "    </tr>\n",
       "    <tr>\n",
       "      <th>4</th>\n",
       "      <td>thang_máy</td>\n",
       "      <td>7</td>\n",
       "    </tr>\n",
       "  </tbody>\n",
       "</table>\n",
       "</div>"
      ],
      "text/plain": [
       "         word  frequency\n",
       "0         học         16\n",
       "1    thư_viện         13\n",
       "2  nói_chuyện          7\n",
       "3        kiểu          7\n",
       "4   thang_máy          7"
      ]
     },
     "execution_count": 153,
     "metadata": {},
     "output_type": "execute_result"
    }
   ],
   "source": [
    "words = [word for doc in docs for word in doc.split()]\n",
    "top_20_word = pd.DataFrame(Counter(words).most_common(20), columns=['word', 'frequency'])\n",
    "top_20_word.head()"
   ]
  },
  {
   "cell_type": "code",
   "execution_count": 154,
   "metadata": {},
   "outputs": [],
   "source": [
    "color_green = '#0AF712'\n",
    "color_red='#FA4D43'\n",
    "color_blue ='#3D50FA'\n",
    "def autolabel(rects,ax):\n",
    "    for rect in rects:\n",
    "        height = rect.get_height() # get height of bar\n",
    "        # ax.annotate -> add text for bar\n",
    "        ax.annotate('{}'.format(height),\n",
    "                    xy=(rect.get_x() + rect.get_width() / 2, height), # x,y location of text\n",
    "                    xytext=(0, 3),  # 3 points vertical offset # text location <-> height\n",
    "                    textcoords=\"offset points\",\n",
    "                    ha='center', va='bottom')"
   ]
  },
  {
   "cell_type": "code",
   "execution_count": 155,
   "metadata": {},
   "outputs": [
    {
     "data": {
      "image/png": "[encoded data removed]",
      "text/plain": [
       "<Figure size 2000x700 with 1 Axes>"
      ]
     },
     "metadata": {},
     "output_type": "display_data"
    }
   ],
   "source": [
    "import seaborn as sns\n",
    "width = 0.7 \n",
    "\n",
    "fig,ax = plt.subplots(figsize=(20,7))\n",
    "x = np.arange(top_20_word['word'].shape[0])\n",
    "rect = ax.bar(x,top_20_word['frequency'],width, color=color_blue)\n",
    "\n",
    "ax.set_xticks(x)\n",
    "ax.set_xticklabels(top_20_word['word'])\n",
    "ax.set_ylabel('Tần suất', fontsize=12)\n",
    "ax.set_title('20 từ khóa xuất hiện nhiều nhất', fontsize=16)\n",
    "ax.set_xlabel('Từ, cụm từ', fontsize=12)\n",
    "autolabel(rect,ax)\n",
    "plt.show()"
   ]
  },
  {
   "cell_type": "code",
   "execution_count": 156,
   "metadata": {},
   "outputs": [],
   "source": [
    "# count_comments = _count_comments['Count_comments']\n",
    "# count_positive = _count_positive['positive']\n",
    "# count_negative = _count_negative['negative']\n",
    "# x = np.arange(topic_model.nr_topics)\n",
    "# width = 0.35/2 # the width of the bars\n",
    "# # count values\n",
    "count_values = topics_per_class['Name'].value_counts().sort_index()\n",
    "# print(count_values)\n",
    "# fig, (ax,ax1) = plt.subplots(2,figsize=(14, 7),dpi=200)\n",
    "# rect_docs = ax.bar(x - width, count_values.values,width, color=color_blue,label='Số lượng bài báo')\n",
    "# rect_p = ax.bar(x, count_positive.values,width, color=color_green,label='Số lượng bài báo tích cực')\n",
    "# rect_n = ax.bar(x+width, count_negative.values,width, color=color_red,label='Số lượng bài báo tiêu cực')\n",
    "# ax.set_xticks(x)\n",
    "# ax.set_xticklabels(count_values.index)# , rotation=45\n",
    "# ax.set_xlabel(\"Chủ đề\")\n",
    "# ax.set_ylabel(\"Số lượng\")\n",
    "# ax.set_title(\"Thống kê số lượng theo chủ đề\")\n",
    "\n",
    "# ax.legend()\n",
    "# autolabel(rect_docs,ax)\n",
    "# autolabel(rect_p,ax)\n",
    "# autolabel(rect_n,ax)\n",
    "\n",
    "\n",
    "# count_comments = _count_comments['Count_comments']\n",
    "# rect_cmt = ax1.bar(x, count_comments.values,width, color='b',label='Số lượng bình luận')\n",
    "\n",
    "# ax1.set_xticks(x)\n",
    "# ax1.set_xticklabels(count_values.index)# , rotation=45\n",
    "# ax1.set_xlabel(\"Chủ đề\")\n",
    "# ax1.set_ylabel(\"Số lượng\")\n",
    "# ax1.set_title(\"Thống kê số lượng bình luận theo chủ đề\")\n",
    "\n",
    "# ax1.legend()\n",
    "# autolabel(rect_cmt,ax1)\n",
    "# plt.show()"
   ]
  },
  {
   "cell_type": "code",
   "execution_count": 157,
   "metadata": {},
   "outputs": [
    {
     "data": {
      "text/html": [
       "<div>\n",
       "<style scoped>\n",
       "    .dataframe tbody tr th:only-of-type {\n",
       "        vertical-align: middle;\n",
       "    }\n",
       "\n",
       "    .dataframe tbody tr th {\n",
       "        vertical-align: top;\n",
       "    }\n",
       "\n",
       "    .dataframe thead th {\n",
       "        text-align: right;\n",
       "    }\n",
       "</style>\n",
       "<table border=\"1\" class=\"dataframe\">\n",
       "  <thead>\n",
       "    <tr style=\"text-align: right;\">\n",
       "      <th></th>\n",
       "      <th>Name</th>\n",
       "      <th>Count_comments</th>\n",
       "    </tr>\n",
       "  </thead>\n",
       "  <tbody>\n",
       "    <tr>\n",
       "      <th>0</th>\n",
       "      <td>0_malibu_barbershop_thế_sinh_</td>\n",
       "      <td>191</td>\n",
       "    </tr>\n",
       "    <tr>\n",
       "      <th>1</th>\n",
       "      <td>1_đọc_viết_chăm_chỉ_kiểu</td>\n",
       "      <td>299</td>\n",
       "    </tr>\n",
       "    <tr>\n",
       "      <th>2</th>\n",
       "      <td>2_inf_kiểu_quan_sát_lớp</td>\n",
       "      <td>262</td>\n",
       "    </tr>\n",
       "    <tr>\n",
       "      <th>3</th>\n",
       "      <td>3_trapboy_thang_máy_biến_thái_mất_thiện_...</td>\n",
       "      <td>495</td>\n",
       "    </tr>\n",
       "    <tr>\n",
       "      <th>4</th>\n",
       "      <td>4_xinh_ngại_dám_đồng_phục_ảnh</td>\n",
       "      <td>120</td>\n",
       "    </tr>\n",
       "  </tbody>\n",
       "</table>\n",
       "</div>"
      ],
      "text/plain": [
       "                                          Name  Count_comments\n",
       "0                0_malibu_barbershop_thế_sinh_             191\n",
       "1                     1_đọc_viết_chăm_chỉ_kiểu             299\n",
       "2                      2_inf_kiểu_quan_sát_lớp             262\n",
       "3  3_trapboy_thang_máy_biến_thái_mất_thiện_...             495\n",
       "4                4_xinh_ngại_dám_đồng_phục_ảnh             120"
      ]
     },
     "execution_count": 157,
     "metadata": {},
     "output_type": "execute_result"
    }
   ],
   "source": [
    "_count_comments"
   ]
  },
  {
   "cell_type": "code",
   "execution_count": 158,
   "metadata": {},
   "outputs": [
    {
     "name": "stdout",
     "output_type": "stream",
     "text": [
      "[0 1 2 3 4]\n",
      "count\n",
      "positive\n",
      "negative\n"
     ]
    },
    {
     "data": {
      "image/png": "[encoded data removed]",
      "text/plain": [
       "<Figure size 2800x1400 with 1 Axes>"
      ]
     },
     "metadata": {},
     "output_type": "display_data"
    }
   ],
   "source": [
    "# merge_df = pd.merge(_count_comments, _count_positive, on='Name')\n",
    "merge_df = pd.merge(count_values, _count_positive, on='Name')\n",
    "merge_df = pd.merge(merge_df, _count_negative, on='Name')\n",
    "merge_df.head()\n",
    "def plot_(data,title,h_lim=None):\n",
    "    fig, ax = plt.subplots(1,1,figsize=(14, 7),dpi=200)\n",
    "    ax.grid(True, linestyle='--', linewidth=0.5, color='gray', alpha=0.7)\n",
    "    if h_lim :\n",
    "        ax.set_ylim(0, h_lim)\n",
    "    index = data['Name'].values\n",
    "    color = [color_blue,color_green, color_red, 'c','m','y','k','w']\n",
    "    x = np.arange(len(index))\n",
    "    \n",
    "    span_arange = np.arange(0,data.shape[0])\n",
    "    print(span_arange)\n",
    "    width = 0.35/2 # the width of the bars\n",
    "    mode = 0\n",
    "    dict_ = {'positive':'Tích cực','negative':'Tiêu cực','count':'Số lượng bài báo','Count_comments':'Số lượng bình luận'}\n",
    "    for i in range(1,data.shape[1]):\n",
    "        print(data.columns[i])\n",
    "        rect = ax.bar(x - width + mode, data.iloc[:,i].values,width,color=color[i-1], label=dict_[data.columns[i]],edgecolor='black')\n",
    "        mode = mode + 0.35/2\n",
    "        autolabel(rect,ax)\n",
    "        \n",
    "    for i in range(len(span_arange)):\n",
    "        ax.axvspan(span_arange[i]-0.4,span_arange[i] + 0.4, alpha=0.07, color=color[i])\n",
    "    ax.set_xticks(x)\n",
    "    # ax.set_xticklabels(index)# , rotation=45\n",
    "    ax.set_xlabel(\"Chủ đề\")\n",
    "    ax.set_ylabel(\"Số lượng\")\n",
    "    ax.set_title(title)\n",
    "    \n",
    "    ax.legend(loc='upper right')\n",
    "    plt.show()\n",
    "plot_(merge_df, \"Thống kê số lượng theo chủ đề\",10)"
   ]
  },
  {
   "cell_type": "code",
   "execution_count": 159,
   "metadata": {},
   "outputs": [
    {
     "name": "stdout",
     "output_type": "stream",
     "text": [
      "[0 1 2 3 4]\n",
      "Count_comments\n"
     ]
    },
    {
     "data": {
      "image/png": "[encoded data removed]",
      "text/plain": [
       "<Figure size 2800x1400 with 1 Axes>"
      ]
     },
     "metadata": {},
     "output_type": "display_data"
    }
   ],
   "source": [
    "plot_(_count_comments, \"Thống kê số lượng bình luận theo chủ đề\",800)"
   ]
  },
  {
   "cell_type": "code",
   "execution_count": 160,
   "metadata": {},
   "outputs": [
    {
     "name": "stdout",
     "output_type": "stream",
     "text": [
      "['2023-11-16 11:01:33', '2023-11-15 20:02:08', '2023-11-15 15:02:03', '2023-11-15 10:13:03', '2023-11-14 14:10:00', '2023-11-14 10:05:03', '2023-11-13 22:02:08', '2023-11-13 14:06:02', '2023-11-13 10:35:00', '2023-11-13 09:41:21', '2023-11-10 19:43:14', '2023-11-10 10:25:03', '2023-11-09 13:37:02', '2023-11-09 09:38:54', '2023-11-08 10:12:01', '2023-11-07 19:39:00', '2023-11-07 15:18:05', '2023-11-05 10:42:24', '2023-11-04 20:06:00', '2023-11-03 19:24:03']\n",
      "['2023-11-16', '2023-11-15', '2023-11-15', '2023-11-15', '2023-11-14', '2023-11-14', '2023-11-13', '2023-11-13', '2023-11-13', '2023-11-13', '2023-11-10', '2023-11-10', '2023-11-09', '2023-11-09', '2023-11-08', '2023-11-07', '2023-11-07', '2023-11-05', '2023-11-04', '2023-11-03']\n",
      "[datetime.date(2023, 11, 16), datetime.date(2023, 11, 15), datetime.date(2023, 11, 15), datetime.date(2023, 11, 15), datetime.date(2023, 11, 14), datetime.date(2023, 11, 14), datetime.date(2023, 11, 13), datetime.date(2023, 11, 13), datetime.date(2023, 11, 13), datetime.date(2023, 11, 13), datetime.date(2023, 11, 10), datetime.date(2023, 11, 10), datetime.date(2023, 11, 9), datetime.date(2023, 11, 9), datetime.date(2023, 11, 8), datetime.date(2023, 11, 7), datetime.date(2023, 11, 7), datetime.date(2023, 11, 5), datetime.date(2023, 11, 4), datetime.date(2023, 11, 3)]\n",
      "['2023-11-16', '2023-11-15', '2023-11-15', '2023-11-15', '2023-11-14', '2023-11-14', '2023-11-13', '2023-11-13', '2023-11-13', '2023-11-13', '2023-11-10', '2023-11-10', '2023-11-9', '2023-11-9', '2023-11-8', '2023-11-7', '2023-11-7', '2023-11-5', '2023-11-4', '2023-11-3']\n"
     ]
    }
   ],
   "source": [
    "print(timestamps)\n",
    "import datetime\n",
    "import re\n",
    "\n",
    "timestamps1 = [time.split()[0] for time in timestamps]\n",
    "print(timestamps1)\n",
    "timestamp_ = [datetime.datetime.strptime(timestamp, \"%Y-%m-%d\").date() for timestamp in timestamps1]\n",
    "print(timestamp_)\n",
    "timestamp_ = [str(time.year)+'-'+str(time.month)+'-'+str(time.day) for time in timestamp_]\n",
    "print(timestamp_)"
   ]
  },
  {
   "cell_type": "code",
   "execution_count": 161,
   "metadata": {},
   "outputs": [
    {
     "name": "stderr",
     "output_type": "stream",
     "text": [
      "8it [00:01,  6.06it/s]\n"
     ]
    }
   ],
   "source": [
    "topics_over_time = topic_model.topics_over_time(docs, timestamp_, datetime_format=\"%Y-%m-%d\", nr_bins=10)"
   ]
  },
  {
   "cell_type": "code",
   "execution_count": 162,
   "metadata": {},
   "outputs": [
    {
     "data": {
      "application/vnd.plotly.v1+json": {
       "config": {
        "plotlyServerURL": "https://plot.ly"
       },
       "data": [
        {
         "hoverinfo": "text",
         "hovertext": [
          "<b>Topic 0</b><br>Words: barbershop, malibu, thế_sinh, , ",
          "<b>Topic 0</b><br>Words: malibu, công_tác, , , "
         ],
         "marker": {
          "color": "#E69F00"
         },
         "mode": "lines",
         "name": "0_malibu_barbershop_thế_sinh_",
         "type": "scatter",
         "x": [
          "2023-11-02T23:41:16.800000",
          "2023-11-09T12:00:00"
         ],
         "y": [
          1,
          1
         ]
        },
        {
         "hoverinfo": "text",
         "hovertext": [
          "<b>Topic 1</b><br>Words: chăm_chỉ, học, miễn_sao, u_uất, sợ_kì",
          "<b>Topic 1</b><br>Words: blamình, hòa, đọc, nhanh_chóng, hôm_nay",
          "<b>Topic 1</b><br>Words: viết, củng_đọc, đa_sắc, tuần_mong, trải",
          "<b>Topic 1</b><br>Words: ăn_xin, xin_xỏ, mìnhxem_luyện, nhăn_nhó, max_tai",
          "<b>Topic 1</b><br>Words: đọc, yên_tĩnh, thư_viện, viết, học",
          "<b>Topic 1</b><br>Words: phũ, viết, teamwork, không_gian, kiểu"
         ],
         "marker": {
          "color": "#56B4E9"
         },
         "mode": "lines",
         "name": "1_đọc_viết_chăm_chỉ_kiểu",
         "type": "scatter",
         "x": [
          "2023-11-02T23:41:16.800000",
          "2023-11-06T21:36:00",
          "2023-11-08T04:48:00",
          "2023-11-12T02:24:00",
          "2023-11-13T09:36:00",
          "2023-11-14T16:48:00"
         ],
         "y": [
          1,
          1,
          1,
          1,
          1,
          3
         ]
        },
        {
         "hoverinfo": "text",
         "hovertext": [
          "<b>Topic 2</b><br>Words: liếc, giả_vờ, buông, hỏi_han, cảm_xúc",
          "<b>Topic 2</b><br>Words: xà_phòng, nhà_vệ_sinh, vòi_xịt, rửa, vệ_sinh",
          "<b>Topic 2</b><br>Words: inf, chào_admin, thằng, chụp, admin",
          "<b>Topic 2</b><br>Words: tốt_bụng, ptit_nha, nhà_xe, iu, niềm"
         ],
         "marker": {
          "color": "#009E73"
         },
         "mode": "lines",
         "name": "2_inf_kiểu_quan_sát_lớp",
         "type": "scatter",
         "x": [
          "2023-11-06T21:36:00",
          "2023-11-08T04:48:00",
          "2023-11-12T02:24:00",
          "2023-11-13T09:36:00"
         ],
         "y": [
          1,
          1,
          3,
          1
         ]
        },
        {
         "hoverinfo": "text",
         "hovertext": [
          "<b>Topic 3</b><br>Words: trapboy, sợ_trai, it_trường, it, mất_thiện_cảm",
          "<b>Topic 3</b><br>Words: thang_máy, trapboy, thang, mất_thiện_cảm, kẹp",
          "<b>Topic 3</b><br>Words: thang_máy, biến_thái, chạm, gạt, trapboy"
         ],
         "marker": {
          "color": "#F0E442"
         },
         "mode": "lines",
         "name": "3_trapboy_thang_máy_biến_thái_mất_thiện_...",
         "type": "scatter",
         "x": [
          "2023-11-04T07:12:00",
          "2023-11-09T12:00:00",
          "2023-11-14T16:48:00"
         ],
         "y": [
          1,
          1,
          1
         ]
        },
        {
         "hoverinfo": "text",
         "hovertext": [
          "<b>Topic 4</b><br>Words: xinh_ngại, dám, đồng_phục, ảnh, thi"
         ],
         "marker": {
          "color": "#D55E00"
         },
         "mode": "lines",
         "name": "4_xinh_ngại_dám_đồng_phục_ảnh",
         "type": "scatter",
         "x": [
          "2023-11-06T21:36:00"
         ],
         "y": [
          1
         ]
        }
       ],
       "layout": {
        "height": 450,
        "hoverlabel": {
         "bgcolor": "white",
         "font": {
          "family": "Rockwell",
          "size": 16
         }
        },
        "legend": {
         "title": {
          "text": "<b>Global Topic Representation"
         }
        },
        "template": {
         "data": {
          "bar": [
           {
            "error_x": {
             "color": "rgb(36,36,36)"
            },
            "error_y": {
             "color": "rgb(36,36,36)"
            },
            "marker": {
             "line": {
              "color": "white",
              "width": 0.5
             },
             "pattern": {
              "fillmode": "overlay",
              "size": 10,
              "solidity": 0.2
             }
            },
            "type": "bar"
           }
          ],
          "barpolar": [
           {
            "marker": {
             "line": {
              "color": "white",
              "width": 0.5
             },
             "pattern": {
              "fillmode": "overlay",
              "size": 10,
              "solidity": 0.2
             }
            },
            "type": "barpolar"
           }
          ],
          "carpet": [
           {
            "aaxis": {
             "endlinecolor": "rgb(36,36,36)",
             "gridcolor": "white",
             "linecolor": "white",
             "minorgridcolor": "white",
             "startlinecolor": "rgb(36,36,36)"
            },
            "baxis": {
             "endlinecolor": "rgb(36,36,36)",
             "gridcolor": "white",
             "linecolor": "white",
             "minorgridcolor": "white",
             "startlinecolor": "rgb(36,36,36)"
            },
            "type": "carpet"
           }
          ],
          "choropleth": [
           {
            "colorbar": {
             "outlinewidth": 1,
             "tickcolor": "rgb(36,36,36)",
             "ticks": "outside"
            },
            "type": "choropleth"
           }
          ],
          "contour": [
           {
            "colorbar": {
             "outlinewidth": 1,
             "tickcolor": "rgb(36,36,36)",
             "ticks": "outside"
            },
            "colorscale": [
             [
              0,
              "#440154"
             ],
             [
              0.1111111111111111,
              "#482878"
             ],
             [
              0.2222222222222222,
              "#3e4989"
             ],
             [
              0.3333333333333333,
              "#31688e"
             ],
             [
              0.4444444444444444,
              "#26828e"
             ],
             [
              0.5555555555555556,
              "#1f9e89"
             ],
             [
              0.6666666666666666,
              "#35b779"
             ],
             [
              0.7777777777777778,
              "#6ece58"
             ],
             [
              0.8888888888888888,
              "#b5de2b"
             ],
             [
              1,
              "#fde725"
             ]
            ],
            "type": "contour"
           }
          ],
          "contourcarpet": [
           {
            "colorbar": {
             "outlinewidth": 1,
             "tickcolor": "rgb(36,36,36)",
             "ticks": "outside"
            },
            "type": "contourcarpet"
           }
          ],
          "heatmap": [
           {
            "colorbar": {
             "outlinewidth": 1,
             "tickcolor": "rgb(36,36,36)",
             "ticks": "outside"
            },
            "colorscale": [
             [
              0,
              "#440154"
             ],
             [
              0.1111111111111111,
              "#482878"
             ],
             [
              0.2222222222222222,
              "#3e4989"
             ],
             [
              0.3333333333333333,
              "#31688e"
             ],
             [
              0.4444444444444444,
              "#26828e"
             ],
             [
              0.5555555555555556,
              "#1f9e89"
             ],
             [
              0.6666666666666666,
              "#35b779"
             ],
             [
              0.7777777777777778,
              "#6ece58"
             ],
             [
              0.8888888888888888,
              "#b5de2b"
             ],
             [
              1,
              "#fde725"
             ]
            ],
            "type": "heatmap"
           }
          ],
          "heatmapgl": [
           {
            "colorbar": {
             "outlinewidth": 1,
             "tickcolor": "rgb(36,36,36)",
             "ticks": "outside"
            },
            "colorscale": [
             [
              0,
              "#440154"
             ],
             [
              0.1111111111111111,
              "#482878"
             ],
             [
              0.2222222222222222,
              "#3e4989"
             ],
             [
              0.3333333333333333,
              "#31688e"
             ],
             [
              0.4444444444444444,
              "#26828e"
             ],
             [
              0.5555555555555556,
              "#1f9e89"
             ],
             [
              0.6666666666666666,
              "#35b779"
             ],
             [
              0.7777777777777778,
              "#6ece58"
             ],
             [
              0.8888888888888888,
              "#b5de2b"
             ],
             [
              1,
              "#fde725"
             ]
            ],
            "type": "heatmapgl"
           }
          ],
          "histogram": [
           {
            "marker": {
             "line": {
              "color": "white",
              "width": 0.6
             }
            },
            "type": "histogram"
           }
          ],
          "histogram2d": [
           {
            "colorbar": {
             "outlinewidth": 1,
             "tickcolor": "rgb(36,36,36)",
             "ticks": "outside"
            },
            "colorscale": [
             [
              0,
              "#440154"
             ],
             [
              0.1111111111111111,
              "#482878"
             ],
             [
              0.2222222222222222,
              "#3e4989"
             ],
             [
              0.3333333333333333,
              "#31688e"
             ],
             [
              0.4444444444444444,
              "#26828e"
             ],
             [
              0.5555555555555556,
              "#1f9e89"
             ],
             [
              0.6666666666666666,
              "#35b779"
             ],
             [
              0.7777777777777778,
              "#6ece58"
             ],
             [
              0.8888888888888888,
              "#b5de2b"
             ],
             [
              1,
              "#fde725"
             ]
            ],
            "type": "histogram2d"
           }
          ],
          "histogram2dcontour": [
           {
            "colorbar": {
             "outlinewidth": 1,
             "tickcolor": "rgb(36,36,36)",
             "ticks": "outside"
            },
            "colorscale": [
             [
              0,
              "#440154"
             ],
             [
              0.1111111111111111,
              "#482878"
             ],
             [
              0.2222222222222222,
              "#3e4989"
             ],
             [
              0.3333333333333333,
              "#31688e"
             ],
             [
              0.4444444444444444,
              "#26828e"
             ],
             [
              0.5555555555555556,
              "#1f9e89"
             ],
             [
              0.6666666666666666,
              "#35b779"
             ],
             [
              0.7777777777777778,
              "#6ece58"
             ],
             [
              0.8888888888888888,
              "#b5de2b"
             ],
             [
              1,
              "#fde725"
             ]
            ],
            "type": "histogram2dcontour"
           }
          ],
          "mesh3d": [
           {
            "colorbar": {
             "outlinewidth": 1,
             "tickcolor": "rgb(36,36,36)",
             "ticks": "outside"
            },
            "type": "mesh3d"
           }
          ],
          "parcoords": [
           {
            "line": {
             "colorbar": {
              "outlinewidth": 1,
              "tickcolor": "rgb(36,36,36)",
              "ticks": "outside"
             }
            },
            "type": "parcoords"
           }
          ],
          "pie": [
           {
            "automargin": true,
            "type": "pie"
           }
          ],
          "scatter": [
           {
            "fillpattern": {
             "fillmode": "overlay",
             "size": 10,
             "solidity": 0.2
            },
            "type": "scatter"
           }
          ],
          "scatter3d": [
           {
            "line": {
             "colorbar": {
              "outlinewidth": 1,
              "tickcolor": "rgb(36,36,36)",
              "ticks": "outside"
             }
            },
            "marker": {
             "colorbar": {
              "outlinewidth": 1,
              "tickcolor": "rgb(36,36,36)",
              "ticks": "outside"
             }
            },
            "type": "scatter3d"
           }
          ],
          "scattercarpet": [
           {
            "marker": {
             "colorbar": {
              "outlinewidth": 1,
              "tickcolor": "rgb(36,36,36)",
              "ticks": "outside"
             }
            },
            "type": "scattercarpet"
           }
          ],
          "scattergeo": [
           {
            "marker": {
             "colorbar": {
              "outlinewidth": 1,
              "tickcolor": "rgb(36,36,36)",
              "ticks": "outside"
             }
            },
            "type": "scattergeo"
           }
          ],
          "scattergl": [
           {
            "marker": {
             "colorbar": {
              "outlinewidth": 1,
              "tickcolor": "rgb(36,36,36)",
              "ticks": "outside"
             }
            },
            "type": "scattergl"
           }
          ],
          "scattermapbox": [
           {
            "marker": {
             "colorbar": {
              "outlinewidth": 1,
              "tickcolor": "rgb(36,36,36)",
              "ticks": "outside"
             }
            },
            "type": "scattermapbox"
           }
          ],
          "scatterpolar": [
           {
            "marker": {
             "colorbar": {
              "outlinewidth": 1,
              "tickcolor": "rgb(36,36,36)",
              "ticks": "outside"
             }
            },
            "type": "scatterpolar"
           }
          ],
          "scatterpolargl": [
           {
            "marker": {
             "colorbar": {
              "outlinewidth": 1,
              "tickcolor": "rgb(36,36,36)",
              "ticks": "outside"
             }
            },
            "type": "scatterpolargl"
           }
          ],
          "scatterternary": [
           {
            "marker": {
             "colorbar": {
              "outlinewidth": 1,
              "tickcolor": "rgb(36,36,36)",
              "ticks": "outside"
             }
            },
            "type": "scatterternary"
           }
          ],
          "surface": [
           {
            "colorbar": {
             "outlinewidth": 1,
             "tickcolor": "rgb(36,36,36)",
             "ticks": "outside"
            },
            "colorscale": [
             [
              0,
              "#440154"
             ],
             [
              0.1111111111111111,
              "#482878"
             ],
             [
              0.2222222222222222,
              "#3e4989"
             ],
             [
              0.3333333333333333,
              "#31688e"
             ],
             [
              0.4444444444444444,
              "#26828e"
             ],
             [
              0.5555555555555556,
              "#1f9e89"
             ],
             [
              0.6666666666666666,
              "#35b779"
             ],
             [
              0.7777777777777778,
              "#6ece58"
             ],
             [
              0.8888888888888888,
              "#b5de2b"
             ],
             [
              1,
              "#fde725"
             ]
            ],
            "type": "surface"
           }
          ],
          "table": [
           {
            "cells": {
             "fill": {
              "color": "rgb(237,237,237)"
             },
             "line": {
              "color": "white"
             }
            },
            "header": {
             "fill": {
              "color": "rgb(217,217,217)"
             },
             "line": {
              "color": "white"
             }
            },
            "type": "table"
           }
          ]
         },
         "layout": {
          "annotationdefaults": {
           "arrowhead": 0,
           "arrowwidth": 1
          },
          "autotypenumbers": "strict",
          "coloraxis": {
           "colorbar": {
            "outlinewidth": 1,
            "tickcolor": "rgb(36,36,36)",
            "ticks": "outside"
           }
          },
          "colorscale": {
           "diverging": [
            [
             0,
             "rgb(103,0,31)"
            ],
            [
             0.1,
             "rgb(178,24,43)"
            ],
            [
             0.2,
             "rgb(214,96,77)"
            ],
            [
             0.3,
             "rgb(244,165,130)"
            ],
            [
             0.4,
             "rgb(253,219,199)"
            ],
            [
             0.5,
             "rgb(247,247,247)"
            ],
            [
             0.6,
             "rgb(209,229,240)"
            ],
            [
             0.7,
             "rgb(146,197,222)"
            ],
            [
             0.8,
             "rgb(67,147,195)"
            ],
            [
             0.9,
             "rgb(33,102,172)"
            ],
            [
             1,
             "rgb(5,48,97)"
            ]
           ],
           "sequential": [
            [
             0,
             "#440154"
            ],
            [
             0.1111111111111111,
             "#482878"
            ],
            [
             0.2222222222222222,
             "#3e4989"
            ],
            [
             0.3333333333333333,
             "#31688e"
            ],
            [
             0.4444444444444444,
             "#26828e"
            ],
            [
             0.5555555555555556,
             "#1f9e89"
            ],
            [
             0.6666666666666666,
             "#35b779"
            ],
            [
             0.7777777777777778,
             "#6ece58"
            ],
            [
             0.8888888888888888,
             "#b5de2b"
            ],
            [
             1,
             "#fde725"
            ]
           ],
           "sequentialminus": [
            [
             0,
             "#440154"
            ],
            [
             0.1111111111111111,
             "#482878"
            ],
            [
             0.2222222222222222,
             "#3e4989"
            ],
            [
             0.3333333333333333,
             "#31688e"
            ],
            [
             0.4444444444444444,
             "#26828e"
            ],
            [
             0.5555555555555556,
             "#1f9e89"
            ],
            [
             0.6666666666666666,
             "#35b779"
            ],
            [
             0.7777777777777778,
             "#6ece58"
            ],
            [
             0.8888888888888888,
             "#b5de2b"
            ],
            [
             1,
             "#fde725"
            ]
           ]
          },
          "colorway": [
           "#1F77B4",
           "#FF7F0E",
           "#2CA02C",
           "#D62728",
           "#9467BD",
           "#8C564B",
           "#E377C2",
           "#7F7F7F",
           "#BCBD22",
           "#17BECF"
          ],
          "font": {
           "color": "rgb(36,36,36)"
          },
          "geo": {
           "bgcolor": "white",
           "lakecolor": "white",
           "landcolor": "white",
           "showlakes": true,
           "showland": true,
           "subunitcolor": "white"
          },
          "hoverlabel": {
           "align": "left"
          },
          "hovermode": "closest",
          "mapbox": {
           "style": "light"
          },
          "paper_bgcolor": "white",
          "plot_bgcolor": "white",
          "polar": {
           "angularaxis": {
            "gridcolor": "rgb(232,232,232)",
            "linecolor": "rgb(36,36,36)",
            "showgrid": false,
            "showline": true,
            "ticks": "outside"
           },
           "bgcolor": "white",
           "radialaxis": {
            "gridcolor": "rgb(232,232,232)",
            "linecolor": "rgb(36,36,36)",
            "showgrid": false,
            "showline": true,
            "ticks": "outside"
           }
          },
          "scene": {
           "xaxis": {
            "backgroundcolor": "white",
            "gridcolor": "rgb(232,232,232)",
            "gridwidth": 2,
            "linecolor": "rgb(36,36,36)",
            "showbackground": true,
            "showgrid": false,
            "showline": true,
            "ticks": "outside",
            "zeroline": false,
            "zerolinecolor": "rgb(36,36,36)"
           },
           "yaxis": {
            "backgroundcolor": "white",
            "gridcolor": "rgb(232,232,232)",
            "gridwidth": 2,
            "linecolor": "rgb(36,36,36)",
            "showbackground": true,
            "showgrid": false,
            "showline": true,
            "ticks": "outside",
            "zeroline": false,
            "zerolinecolor": "rgb(36,36,36)"
           },
           "zaxis": {
            "backgroundcolor": "white",
            "gridcolor": "rgb(232,232,232)",
            "gridwidth": 2,
            "linecolor": "rgb(36,36,36)",
            "showbackground": true,
            "showgrid": false,
            "showline": true,
            "ticks": "outside",
            "zeroline": false,
            "zerolinecolor": "rgb(36,36,36)"
           }
          },
          "shapedefaults": {
           "fillcolor": "black",
           "line": {
            "width": 0
           },
           "opacity": 0.3
          },
          "ternary": {
           "aaxis": {
            "gridcolor": "rgb(232,232,232)",
            "linecolor": "rgb(36,36,36)",
            "showgrid": false,
            "showline": true,
            "ticks": "outside"
           },
           "baxis": {
            "gridcolor": "rgb(232,232,232)",
            "linecolor": "rgb(36,36,36)",
            "showgrid": false,
            "showline": true,
            "ticks": "outside"
           },
           "bgcolor": "white",
           "caxis": {
            "gridcolor": "rgb(232,232,232)",
            "linecolor": "rgb(36,36,36)",
            "showgrid": false,
            "showline": true,
            "ticks": "outside"
           }
          },
          "title": {
           "x": 0.05
          },
          "xaxis": {
           "automargin": true,
           "gridcolor": "rgb(232,232,232)",
           "linecolor": "rgb(36,36,36)",
           "showgrid": false,
           "showline": true,
           "ticks": "outside",
           "title": {
            "standoff": 15
           },
           "zeroline": false,
           "zerolinecolor": "rgb(36,36,36)"
          },
          "yaxis": {
           "automargin": true,
           "gridcolor": "rgb(232,232,232)",
           "linecolor": "rgb(36,36,36)",
           "showgrid": false,
           "showline": true,
           "ticks": "outside",
           "title": {
            "standoff": 15
           },
           "zeroline": false,
           "zerolinecolor": "rgb(36,36,36)"
          }
         }
        },
        "title": {
         "font": {
          "color": "Black",
          "size": 22
         },
         "text": "<b>Topics over Time</b>",
         "x": 0.4,
         "xanchor": "center",
         "y": 0.95,
         "yanchor": "top"
        },
        "width": 1250,
        "xaxis": {
         "showgrid": true
        },
        "yaxis": {
         "showgrid": true,
         "title": {
          "text": "Frequency"
         }
        }
       }
      }
     },
     "metadata": {},
     "output_type": "display_data"
    }
   ],
   "source": [
    "topic_model.visualize_topics_over_time(topics_over_time)"
   ]
  },
  {
   "cell_type": "code",
   "execution_count": 163,
   "metadata": {},
   "outputs": [
    {
     "ename": "KeyError",
     "evalue": "'location'",
     "output_type": "error",
     "traceback": [
      "\u001b[0;31m---------------------------------------------------------------------------\u001b[0m",
      "\u001b[0;31mKeyError\u001b[0m                                  Traceback (most recent call last)",
      "File \u001b[0;32m~/anaconda3/envs/bertopic/lib/python3.10/site-packages/pandas/core/indexes/base.py:3790\u001b[0m, in \u001b[0;36mIndex.get_loc\u001b[0;34m(self, key)\u001b[0m\n\u001b[1;32m   3789\u001b[0m \u001b[39mtry\u001b[39;00m:\n\u001b[0;32m-> 3790\u001b[0m     \u001b[39mreturn\u001b[39;00m \u001b[39mself\u001b[39;49m\u001b[39m.\u001b[39;49m_engine\u001b[39m.\u001b[39;49mget_loc(casted_key)\n\u001b[1;32m   3791\u001b[0m \u001b[39mexcept\u001b[39;00m \u001b[39mKeyError\u001b[39;00m \u001b[39mas\u001b[39;00m err:\n",
      "File \u001b[0;32mindex.pyx:152\u001b[0m, in \u001b[0;36mpandas._libs.index.IndexEngine.get_loc\u001b[0;34m()\u001b[0m\n",
      "File \u001b[0;32mindex.pyx:181\u001b[0m, in \u001b[0;36mpandas._libs.index.IndexEngine.get_loc\u001b[0;34m()\u001b[0m\n",
      "File \u001b[0;32mpandas/_libs/hashtable_class_helper.pxi:7080\u001b[0m, in \u001b[0;36mpandas._libs.hashtable.PyObjectHashTable.get_item\u001b[0;34m()\u001b[0m\n",
      "File \u001b[0;32mpandas/_libs/hashtable_class_helper.pxi:7088\u001b[0m, in \u001b[0;36mpandas._libs.hashtable.PyObjectHashTable.get_item\u001b[0;34m()\u001b[0m\n",
      "\u001b[0;31mKeyError\u001b[0m: 'location'",
      "\nThe above exception was the direct cause of the following exception:\n",
      "\u001b[0;31mKeyError\u001b[0m                                  Traceback (most recent call last)",
      "\u001b[1;32m/home/minhthuy/Desktop/BERTtopic/bert_topic_facebook_group.ipynb Cell 34\u001b[0m line \u001b[0;36m1\n\u001b[0;32m----> <a href='vscode-notebook-cell:/home/minhthuy/Desktop/BERTtopic/bert_topic_facebook_group.ipynb#X42sZmlsZQ%3D%3D?line=0'>1</a>\u001b[0m d \u001b[39m=\u001b[39m pd\u001b[39m.\u001b[39mDataFrame({\u001b[39m\"\u001b[39m\u001b[39mDocument\u001b[39m\u001b[39m\"\u001b[39m: docs, \u001b[39m\"\u001b[39m\u001b[39mTopic\u001b[39m\u001b[39m\"\u001b[39m: topic_model\u001b[39m.\u001b[39mtopics_, \u001b[39m\"\u001b[39m\u001b[39mID\u001b[39m\u001b[39m\"\u001b[39m: \u001b[39mrange\u001b[39m(\u001b[39mlen\u001b[39m(docs)),\u001b[39m'\u001b[39m\u001b[39mlocation\u001b[39m\u001b[39m'\u001b[39m:papers[\u001b[39m'\u001b[39;49m\u001b[39mlocation\u001b[39;49m\u001b[39m'\u001b[39;49m],\u001b[39m'\u001b[39m\u001b[39mdate\u001b[39m\u001b[39m'\u001b[39m:papers[\u001b[39m'\u001b[39m\u001b[39mtime\u001b[39m\u001b[39m'\u001b[39m],\u001b[39m'\u001b[39m\u001b[39mperson\u001b[39m\u001b[39m'\u001b[39m:papers[\u001b[39m'\u001b[39m\u001b[39mperson\u001b[39m\u001b[39m'\u001b[39m],\u001b[39m'\u001b[39m\u001b[39morganization\u001b[39m\u001b[39m'\u001b[39m:papers[\u001b[39m'\u001b[39m\u001b[39morganization\u001b[39m\u001b[39m'\u001b[39m],\u001b[39m'\u001b[39m\u001b[39mtimestamp\u001b[39m\u001b[39m'\u001b[39m:timestamp_})\n\u001b[1;32m      <a href='vscode-notebook-cell:/home/minhthuy/Desktop/BERTtopic/bert_topic_facebook_group.ipynb#X42sZmlsZQ%3D%3D?line=1'>2</a>\u001b[0m d\u001b[39m.\u001b[39mhead(\u001b[39m10\u001b[39m)\n",
      "File \u001b[0;32m~/anaconda3/envs/bertopic/lib/python3.10/site-packages/pandas/core/frame.py:3896\u001b[0m, in \u001b[0;36mDataFrame.__getitem__\u001b[0;34m(self, key)\u001b[0m\n\u001b[1;32m   3894\u001b[0m \u001b[39mif\u001b[39;00m \u001b[39mself\u001b[39m\u001b[39m.\u001b[39mcolumns\u001b[39m.\u001b[39mnlevels \u001b[39m>\u001b[39m \u001b[39m1\u001b[39m:\n\u001b[1;32m   3895\u001b[0m     \u001b[39mreturn\u001b[39;00m \u001b[39mself\u001b[39m\u001b[39m.\u001b[39m_getitem_multilevel(key)\n\u001b[0;32m-> 3896\u001b[0m indexer \u001b[39m=\u001b[39m \u001b[39mself\u001b[39;49m\u001b[39m.\u001b[39;49mcolumns\u001b[39m.\u001b[39;49mget_loc(key)\n\u001b[1;32m   3897\u001b[0m \u001b[39mif\u001b[39;00m is_integer(indexer):\n\u001b[1;32m   3898\u001b[0m     indexer \u001b[39m=\u001b[39m [indexer]\n",
      "File \u001b[0;32m~/anaconda3/envs/bertopic/lib/python3.10/site-packages/pandas/core/indexes/base.py:3797\u001b[0m, in \u001b[0;36mIndex.get_loc\u001b[0;34m(self, key)\u001b[0m\n\u001b[1;32m   3792\u001b[0m     \u001b[39mif\u001b[39;00m \u001b[39misinstance\u001b[39m(casted_key, \u001b[39mslice\u001b[39m) \u001b[39mor\u001b[39;00m (\n\u001b[1;32m   3793\u001b[0m         \u001b[39misinstance\u001b[39m(casted_key, abc\u001b[39m.\u001b[39mIterable)\n\u001b[1;32m   3794\u001b[0m         \u001b[39mand\u001b[39;00m \u001b[39many\u001b[39m(\u001b[39misinstance\u001b[39m(x, \u001b[39mslice\u001b[39m) \u001b[39mfor\u001b[39;00m x \u001b[39min\u001b[39;00m casted_key)\n\u001b[1;32m   3795\u001b[0m     ):\n\u001b[1;32m   3796\u001b[0m         \u001b[39mraise\u001b[39;00m InvalidIndexError(key)\n\u001b[0;32m-> 3797\u001b[0m     \u001b[39mraise\u001b[39;00m \u001b[39mKeyError\u001b[39;00m(key) \u001b[39mfrom\u001b[39;00m \u001b[39merr\u001b[39;00m\n\u001b[1;32m   3798\u001b[0m \u001b[39mexcept\u001b[39;00m \u001b[39mTypeError\u001b[39;00m:\n\u001b[1;32m   3799\u001b[0m     \u001b[39m# If we have a listlike key, _check_indexing_error will raise\u001b[39;00m\n\u001b[1;32m   3800\u001b[0m     \u001b[39m#  InvalidIndexError. Otherwise we fall through and re-raise\u001b[39;00m\n\u001b[1;32m   3801\u001b[0m     \u001b[39m#  the TypeError.\u001b[39;00m\n\u001b[1;32m   3802\u001b[0m     \u001b[39mself\u001b[39m\u001b[39m.\u001b[39m_check_indexing_error(key)\n",
      "\u001b[0;31mKeyError\u001b[0m: 'location'"
     ]
    }
   ],
   "source": [
    "d = pd.DataFrame({\"Document\": docs, \"Topic\": topic_model.topics_, \"ID\": range(len(docs)),'location':papers['location'],'date':papers['time'],'person':papers['person'],'organization':papers['organization'],'timestamp':timestamp_})\n",
    "d.head(10)"
   ]
  },
  {
   "cell_type": "code",
   "execution_count": null,
   "metadata": {},
   "outputs": [
    {
     "name": "stdout",
     "output_type": "stream",
     "text": [
      "['_____________________' '__________________________'\n",
      " '_____________________________' ... 'ứng_mã' 'ứng_tuyển' 'ứng_viên']\n"
     ]
    },
    {
     "data": {
      "text/plain": [
       "(array([], dtype=int64),)"
      ]
     },
     "execution_count": 23,
     "metadata": {},
     "output_type": "execute_result"
    }
   ],
   "source": [
    "print(words)\n",
    "idx = np.where(words =='_mỹ_thuận')\n",
    "idx"
   ]
  },
  {
   "cell_type": "code",
   "execution_count": null,
   "metadata": {},
   "outputs": [],
   "source": [
    "import ast\n",
    "import matplotlib.pyplot as plt\n",
    "import seaborn as sns\n",
    "from sklearn.preprocessing import normalize\n",
    "t = 0\n",
    "\n",
    "def get_word_in_time(data, time_start, time_end, topic):\n",
    "    return data[(data['timestamp'] >= time_start) & (data['timestamp'] <= time_end) & (data['Topic'] == topic)]['Words']\n",
    "\n",
    "def _get_word(documents,timestamps, nr_bins):\n",
    "    global_c_tf_idf = normalize(topic_model.c_tf_idf_, axis=1, norm='l1', copy=False)\n",
    "    all_topics = sorted(list(documents.Topic.unique()))\n",
    "    all_topics_indices = {topic: index for index, topic in enumerate(all_topics)}\n",
    "    print(all_topics_indices)\n",
    "    \n",
    "    if isinstance(timestamps[0], str):\n",
    "        infer_datetime_format = True if not datetime_format else False\n",
    "        documents['timestamp'] = pd.to_datetime(documents['timestamp'], \n",
    "                                                infer_datetime_format=infer_datetime_format, \n",
    "                                                format=datetime_format)\n",
    "    \n",
    "    if nr_bins:\n",
    "        documents['Bins'] = pd.cut(documents.timestamp, bins=nr_bins)\n",
    "        documents['timestamp'] = documents.apply(lambda row:row.Bins.left, 1)\n",
    "        \n",
    "\n",
    "def getdoc(topic):\n",
    "    doc = d[d['Topic']==topic]\n",
    "    return doc\n",
    "\n",
    "def get_doc_with_timestamp(data,time_start,time_end):\n",
    "    return data[(data['Timestamp'] >= time_start) & (data['Timestamp'] <= time_end)]\n",
    "\n",
    "def list_arr_to_arr(arr):\n",
    "    return [item for sublist in arr for item in sublist]\n",
    "\n",
    "def unique_count(arr):\n",
    "    # drop duplicate\n",
    "    arr = [np.unique(x) for x in arr]\n",
    "    # list arr to arr\n",
    "    arr = list_arr_to_arr(arr)\n",
    "    # count element\n",
    "    unique, counts = np.unique(arr, return_counts=True)\n",
    "    df = pd.DataFrame({'unique':unique,'counts':counts})\n",
    "    df.sort_values(by=['counts'],ascending=False,inplace=True)\n",
    "    return df\n",
    "\n",
    "def plot_bar(data,title,word,topic):\n",
    "    t = len(data)\n",
    "    fig, ax = plt.subplots(1,t,figsize=(20,5))\n",
    "    fig.suptitle(f'word: {word}, topic: {topic}')\n",
    "    for i in range(t):\n",
    "        sns.barplot(x='unique',y='counts',data=data[i],ax=ax[i])\n",
    "        ax[i].set_title(title[i])\n",
    "\n",
    "def find_word_in_doc(word,topic):\n",
    "    doc_ = getdoc(topic)\n",
    "    print('sum doc: ',len(doc_))\n",
    "    doc_word = doc_[doc_['Document'].str.contains(word)]\n",
    "    print(f'sum doc constains {word}: ',len(doc_word))\n",
    "    \n",
    "    arr_location = doc_word['location'].apply(lambda x: ast.literal_eval(x)).to_list()\n",
    "    df_location = unique_count(arr_location)\n",
    "    df_location = df_location[0:3]\n",
    "    # print('--------location--------')\n",
    "    # print(df_location)\n",
    "    \n",
    "    arr_person = doc_word['person'].apply(lambda x: ast.literal_eval(x)).to_list()\n",
    "    df_person = unique_count(arr_person)\n",
    "    df_person = df_person[0:3]\n",
    "    # print('--------person--------')\n",
    "    # print(df_person)\n",
    "    \n",
    "    arr_organization = doc_word['organization'].apply(lambda x: ast.literal_eval(x)).to_list()\n",
    "    df_organization = unique_count(arr_organization)\n",
    "    df_organization = df_organization[0:3]\n",
    "    # print('--------organization--------')\n",
    "    # print(df_organization)\n",
    "    # plot\n",
    "    title = ['location','person','organization']\n",
    "    data = [df_location,df_person,df_organization]\n",
    "    plot_bar(data,title,word,topic)\n",
    "    return doc_word\n",
    "\n",
    "\n",
    "for i in range(topic_model.nr_topics):\n",
    "    print('topic: ',i)\n",
    "    x = topics[i][0:3]\n",
    "    for word, score in x:\n",
    "        print(word, score)\n",
    "        print(len(find_word_in_doc(word,i)))\n",
    "        print('------------------')\n",
    "\n",
    "# _get_word(d,timestamp_,10)"
   ]
  },
  {
   "cell_type": "code",
   "execution_count": null,
   "metadata": {},
   "outputs": [
    {
     "name": "stderr",
     "output_type": "stream",
     "text": [
      "  0%|          | 0/1 [00:00<?, ?it/s]"
     ]
    },
    {
     "name": "stderr",
     "output_type": "stream",
     "text": [
      "100%|██████████| 1/1 [00:00<00:00,  4.18it/s]"
     ]
    },
    {
     "name": "stdout",
     "output_type": "stream",
     "text": [
      "topic_distr:  5\n",
      "len of topic_distr:  968\n"
     ]
    },
    {
     "name": "stderr",
     "output_type": "stream",
     "text": [
      "\n"
     ]
    },
    {
     "data": {
      "text/html": [
       "<style type=\"text/css\">\n",
       "#T_d3ee2_row0_col0 {\n",
       "  background-color: #f2f8fd;\n",
       "  color: #000000;\n",
       "  color: black;\n",
       "}\n",
       "#T_d3ee2_row0_col1 {\n",
       "  background-color: #66abd4;\n",
       "  color: #f1f1f1;\n",
       "  color: black;\n",
       "}\n",
       "#T_d3ee2_row0_col2, #T_d3ee2_row0_col3 {\n",
       "  background-color: #08306b;\n",
       "  color: #f1f1f1;\n",
       "  color: black;\n",
       "}\n",
       "#T_d3ee2_row0_col4 {\n",
       "  background-color: #71b1d7;\n",
       "  color: #f1f1f1;\n",
       "  color: black;\n",
       "}\n",
       "#T_d3ee2_row0_col5 {\n",
       "  background-color: #f7fbff;\n",
       "  color: #000000;\n",
       "  color: black;\n",
       "}\n",
       "</style>\n",
       "<table id=\"T_d3ee2\">\n",
       "  <thead>\n",
       "    <tr>\n",
       "      <th class=\"blank level0\" >&nbsp;</th>\n",
       "      <th id=\"T_d3ee2_level0_col0\" class=\"col_heading level0 col0\" >kiếm</th>\n",
       "      <th id=\"T_d3ee2_level0_col1\" class=\"col_heading level0 col1\" >mập_mờ </th>\n",
       "      <th id=\"T_d3ee2_level0_col2\" class=\"col_heading level0 col2\" >malibu  </th>\n",
       "      <th id=\"T_d3ee2_level0_col3\" class=\"col_heading level0 col3\" >gấp   </th>\n",
       "      <th id=\"T_d3ee2_level0_col4\" class=\"col_heading level0 col4\" >lạnh    </th>\n",
       "      <th id=\"T_d3ee2_level0_col5\" class=\"col_heading level0 col5\" >rồiiiiiii     </th>\n",
       "    </tr>\n",
       "  </thead>\n",
       "  <tbody>\n",
       "    <tr>\n",
       "      <th id=\"T_d3ee2_level0_row0\" class=\"row_heading level0 row0\" >3_malibu_nhập_học_mời_sự_kiện</th>\n",
       "      <td id=\"T_d3ee2_row0_col0\" class=\"data row0 col0\" >0.179</td>\n",
       "      <td id=\"T_d3ee2_row0_col1\" class=\"data row0 col1\" >0.350</td>\n",
       "      <td id=\"T_d3ee2_row0_col2\" class=\"data row0 col2\" >0.521</td>\n",
       "      <td id=\"T_d3ee2_row0_col3\" class=\"data row0 col3\" >0.521</td>\n",
       "      <td id=\"T_d3ee2_row0_col4\" class=\"data row0 col4\" >0.341</td>\n",
       "      <td id=\"T_d3ee2_row0_col5\" class=\"data row0 col5\" >0.171</td>\n",
       "    </tr>\n",
       "  </tbody>\n",
       "</table>\n"
      ],
      "text/plain": [
       "<pandas.io.formats.style.Styler at 0x7f753c436290>"
      ]
     },
     "execution_count": 25,
     "metadata": {},
     "output_type": "execute_result"
    }
   ],
   "source": [
    "topic_distr, topic_token_distr = topic_model.approximate_distribution(docs, calculate_tokens=True)\n",
    "print('topic_distr: ',len(topic_distr[0])) # n: số lượng chủ đề\n",
    "print('len of topic_distr: ',len(topic_distr)) # m: số lượng tài liệu hay bài báo\n",
    "df = topic_model.visualize_approximate_distribution(docs[1], topic_token_distr[1])\n",
    "df"
   ]
  },
  {
   "cell_type": "code",
   "execution_count": null,
   "metadata": {},
   "outputs": [
    {
     "name": "stdout",
     "output_type": "stream",
     "text": [
      "(49, 5)\n"
     ]
    },
    {
     "data": {
      "text/html": [
       "<div>\n",
       "<style scoped>\n",
       "    .dataframe tbody tr th:only-of-type {\n",
       "        vertical-align: middle;\n",
       "    }\n",
       "\n",
       "    .dataframe tbody tr th {\n",
       "        vertical-align: top;\n",
       "    }\n",
       "\n",
       "    .dataframe thead th {\n",
       "        text-align: right;\n",
       "    }\n",
       "</style>\n",
       "<table border=\"1\" class=\"dataframe\">\n",
       "  <thead>\n",
       "    <tr style=\"text-align: right;\">\n",
       "      <th></th>\n",
       "      <th>Topic</th>\n",
       "      <th>Words</th>\n",
       "      <th>Frequency</th>\n",
       "      <th>Timestamp</th>\n",
       "      <th>Name</th>\n",
       "    </tr>\n",
       "  </thead>\n",
       "  <tbody>\n",
       "    <tr>\n",
       "      <th>29</th>\n",
       "      <td>0</td>\n",
       "      <td>tiếng_anh, chứng_chỉ, tiếng_anh_liệu, học_trườ...</td>\n",
       "      <td>17</td>\n",
       "      <td>2023-07-29 04:48:00</td>\n",
       "      <td>0_tiếng_anh_đầu_vào_đào_tạo_tốt_nghiệp</td>\n",
       "    </tr>\n",
       "    <tr>\n",
       "      <th>30</th>\n",
       "      <td>1</td>\n",
       "      <td>ký_túc_xá, tủ_lạnh, tủ, thang_máy, không_gian</td>\n",
       "      <td>27</td>\n",
       "      <td>2023-07-29 04:48:00</td>\n",
       "      <td>1_hà_đông_hà_nội_tùy_học_viện</td>\n",
       "    </tr>\n",
       "    <tr>\n",
       "      <th>31</th>\n",
       "      <td>2</td>\n",
       "      <td>tuyển_sinh, đào_tạo, an_toàn_thông_tin_trường,...</td>\n",
       "      <td>13</td>\n",
       "      <td>2023-07-29 04:48:00</td>\n",
       "      <td>2_tuyển_sinh_đào_tạo_xét_tuyển_đại_học</td>\n",
       "    </tr>\n",
       "    <tr>\n",
       "      <th>32</th>\n",
       "      <td>3</td>\n",
       "      <td>đăng_kí_nguyện_vọng, trường_minh, nhập_học, đó...</td>\n",
       "      <td>14</td>\n",
       "      <td>2023-07-29 04:48:00</td>\n",
       "      <td>3_malibu_nhập_học_mời_sự_kiện</td>\n",
       "    </tr>\n",
       "    <tr>\n",
       "      <th>33</th>\n",
       "      <td>4</td>\n",
       "      <td>avatar, quét_mã, chính_thức, ptiter, công_bố</td>\n",
       "      <td>30</td>\n",
       "      <td>2023-07-29 04:48:00</td>\n",
       "      <td>4_thông_báo_văn_hóa_lập_trình_học_viện_c...</td>\n",
       "    </tr>\n",
       "  </tbody>\n",
       "</table>\n",
       "</div>"
      ],
      "text/plain": [
       "    Topic                                              Words  Frequency  \\\n",
       "29      0  tiếng_anh, chứng_chỉ, tiếng_anh_liệu, học_trườ...         17   \n",
       "30      1      ký_túc_xá, tủ_lạnh, tủ, thang_máy, không_gian         27   \n",
       "31      2  tuyển_sinh, đào_tạo, an_toàn_thông_tin_trường,...         13   \n",
       "32      3  đăng_kí_nguyện_vọng, trường_minh, nhập_học, đó...         14   \n",
       "33      4       avatar, quét_mã, chính_thức, ptiter, công_bố         30   \n",
       "\n",
       "             Timestamp                                         Name  \n",
       "29 2023-07-29 04:48:00       0_tiếng_anh_đầu_vào_đào_tạo_tốt_nghiệp  \n",
       "30 2023-07-29 04:48:00                1_hà_đông_hà_nội_tùy_học_viện  \n",
       "31 2023-07-29 04:48:00       2_tuyển_sinh_đào_tạo_xét_tuyển_đại_học  \n",
       "32 2023-07-29 04:48:00                3_malibu_nhập_học_mời_sự_kiện  \n",
       "33 2023-07-29 04:48:00  4_thông_báo_văn_hóa_lập_trình_học_viện_c...  "
      ]
     },
     "execution_count": 26,
     "metadata": {},
     "output_type": "execute_result"
    }
   ],
   "source": [
    "print(topics_over_time.shape)\n",
    "data_topic_over_time = topics_over_time\n",
    "time_start = \"2023-07-28\"\n",
    "time_end = \"2023-08-16\"\n",
    "def get_doc_with_timestamp(data,time_start,time_end):\n",
    "    return data[(data['Timestamp'] >= time_start) & (data['Timestamp'] <= time_end)]\n",
    "data_topic_over_time = get_doc_with_timestamp(data_topic_over_time,time_start,time_end)\n",
    "data_topic_over_time.head(20)"
   ]
  },
  {
   "cell_type": "code",
   "execution_count": null,
   "metadata": {},
   "outputs": [],
   "source": []
  }
 ],
 "metadata": {
  "kernelspec": {
   "display_name": "berttopic",
   "language": "python",
   "name": "python3"
  },
  "language_info": {
   "codemirror_mode": {
    "name": "ipython",
    "version": 3
   },
   "file_extension": ".py",
   "mimetype": "text/x-python",
   "name": "python",
   "nbconvert_exporter": "python",
   "pygments_lexer": "ipython3",
   "version": "3.10.6"
  },
  "orig_nbformat": 4
 },
 "nbformat": 4,
 "nbformat_minor": 2
}
