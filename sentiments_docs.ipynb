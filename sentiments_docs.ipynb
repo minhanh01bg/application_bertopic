{
 "cells": [
  {
   "cell_type": "code",
   "execution_count": 5,
   "metadata": {},
   "outputs": [
    {
     "name": "stdout",
     "output_type": "stream",
     "text": [
      "Đây là tỉnh đầu tiên bàn giao mỏ cát cho nhà thầu trong bối cảnh các công trình đang phải thi công cầm chừng do thiếu cát. Mỏ cát được giao nằm trên sông Tiền thuộc xã An Nhơn, huyện Châu Thành.\n",
      "[[0.7471961379051208, 0.01829717680811882, 0.23450671136379242]]\n",
      "Đơn vị tiếp nhận là Tổng Công ty xây dựng số 1 - CTCP - nhà thầu thi công dự án thành phần đoạn Cần Thơ - Hậu Giang và Hậu Giang - Cà Mau, thuộc dự án cao tốc Bắc - Nam phía Đông. Doanh nghiệp được yêu cầu lên kế hoạch khai thác, tránh thất thoát, tiêu cực; đồng thời phải theo dõi chặt quá trình khai thác, tránh tác động môi trường.\n",
      "[[0.9828959703445435, 0.0054031237959861755, 0.011700944043695927]]\n",
      "Đồng Tháp được giao cung ứng 10,3 triệu m3 trong năm nay và 2024 cho dự án cao tốc Cần Thơ - Cà Mau, trên tổng số 18,1 triệu m3 công trình này cần. Trước đó, tỉnh đã bố trí 0,3 triệu m3 từ nguồn tăng công suất khai thác và sắp giao thêm 4 mỏ trữ lượng khoảng 2,8 triệu m3. Số cát còn lại Chính phủ giao An Giang và Vĩnh Long chịu trách nhiệm cung ứng, song hai địa phương này chưa bàn giao.\n",
      "[[0.027068356052041054, 0.23690281808376312, 0.736028790473938]]\n",
      "Cao tốc Cần Thơ - Cà Mau dài 110 km, các tuyến nối khoảng 25 km, rộng 17 m, 4 làn, tổng vốn đầu tư hơn 27.200 tỷ đồng khởi công tháng 1/2023. Công trình được xem là tuyến quan trọng nhất Đồng bằng sông Cửu Long khi kết nối nhiều tỉnh thành với 128 cây cầu. Mục tiêu hoàn thành vào cuối năm 2025, tuy nhiên dự án đang chậm tiến độ 3 tháng, do chỉ mới được cung ứng 1,5 triệu m3 (chiếm 8%).\n",
      "[[0.010221898555755615, 0.868585467338562, 0.12119265645742416]]\n"
     ]
    }
   ],
   "source": [
    "import torch\n",
    "from transformers import RobertaForSequenceClassification, AutoTokenizer\n",
    "\n",
    "model = RobertaForSequenceClassification.from_pretrained(\"wonrax/phobert-base-vietnamese-sentiment\")\n",
    "\n",
    "tokenizer = AutoTokenizer.from_pretrained(\"wonrax/phobert-base-vietnamese-sentiment\", use_fast=False)\n",
    "\n",
    "# Just like PhoBERT: INPUT TEXT MUST BE ALREADY WORD-SEGMENTED!\n",
    "sentences = '''Đây là tỉnh đầu tiên bàn giao mỏ cát cho nhà thầu trong bối cảnh các công trình đang phải thi công cầm chừng do thiếu cát. Mỏ cát được giao nằm trên sông Tiền thuộc xã An Nhơn, huyện Châu Thành.\n",
    "Đơn vị tiếp nhận là Tổng Công ty xây dựng số 1 - CTCP - nhà thầu thi công dự án thành phần đoạn Cần Thơ - Hậu Giang và Hậu Giang - Cà Mau, thuộc dự án cao tốc Bắc - Nam phía Đông. Doanh nghiệp được yêu cầu lên kế hoạch khai thác, tránh thất thoát, tiêu cực; đồng thời phải theo dõi chặt quá trình khai thác, tránh tác động môi trường.\n",
    "Đồng Tháp được giao cung ứng 10,3 triệu m3 trong năm nay và 2024 cho dự án cao tốc Cần Thơ - Cà Mau, trên tổng số 18,1 triệu m3 công trình này cần. Trước đó, tỉnh đã bố trí 0,3 triệu m3 từ nguồn tăng công suất khai thác và sắp giao thêm 4 mỏ trữ lượng khoảng 2,8 triệu m3. Số cát còn lại Chính phủ giao An Giang và Vĩnh Long chịu trách nhiệm cung ứng, song hai địa phương này chưa bàn giao.\n",
    "Cao tốc Cần Thơ - Cà Mau dài 110 km, các tuyến nối khoảng 25 km, rộng 17 m, 4 làn, tổng vốn đầu tư hơn 27.200 tỷ đồng khởi công tháng 1/2023. Công trình được xem là tuyến quan trọng nhất Đồng bằng sông Cửu Long khi kết nối nhiều tỉnh thành với 128 cây cầu. Mục tiêu hoàn thành vào cuối năm 2025, tuy nhiên dự án đang chậm tiến độ 3 tháng, do chỉ mới được cung ứng 1,5 triệu m3 (chiếm 8%).'''\n",
    "for sentence in sentences.split('\\n'):\n",
    "    print(sentence)\n",
    "\n",
    "    input_ids = torch.tensor([tokenizer.encode(sentence)])\n",
    "\n",
    "    with torch.no_grad():\n",
    "        out = model(input_ids)\n",
    "        print(out.logits.softmax(dim=-1).tolist())\n",
    "        # Output:\n",
    "        # [[0.002, 0.988, 0.01]]\n",
    "        #     ^      ^      ^\n",
    "        #    NEG    POS    NEU\n"
   ]
  },
  {
   "cell_type": "markdown",
   "metadata": {},
   "source": [
    "### PhoBert Base Vietnamese Sentiment Analysis\n"
   ]
  }
 ],
 "metadata": {
  "kernelspec": {
   "display_name": "bertopic",
   "language": "python",
   "name": "python3"
  },
  "language_info": {
   "codemirror_mode": {
    "name": "ipython",
    "version": 3
   },
   "file_extension": ".py",
   "mimetype": "text/x-python",
   "name": "python",
   "nbconvert_exporter": "python",
   "pygments_lexer": "ipython3",
   "version": "3.10.6"
  }
 },
 "nbformat": 4,
 "nbformat_minor": 2
}
