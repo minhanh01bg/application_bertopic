{
 "cells": [
  {
   "cell_type": "code",
   "execution_count": 2,
   "metadata": {},
   "outputs": [
    {
     "name": "stdout",
     "output_type": "stream",
     "text": [
      "text 0:  ******D đ****t cụ mấy thằng ptit ở malibu giờ đi ngủ ngậm mồm vào tắt âm đê ko ngủ để ngkhac ngủ, lớn rồi ý thức lên ttnv\n",
      "text 1:  Ngày mai, tôi sẽ đi học\n",
      "text 2:  kiếm mập_mờ malibu gấp lạnh lắm rồiiiiiii\n",
      "pos_tag_of_text 0:  [('*', 'CH'), ('*', 'CH'), ('*', 'CH'), ('*', 'CH'), ('*', 'CH'), ('*', 'CH'), ('D', 'Np'), ('đ', 'Ny'), ('*', 'CH'), ('*', 'CH'), ('*', 'CH'), ('*', 'CH'), ('t', 'V'), ('cụ', 'N'), ('mấy', 'L'), ('thằng', 'Nc'), ('ptit', 'N'), ('ở', 'E'), ('malibu', 'N'), ('giờ', 'N'), ('đi', 'V'), ('ngủ', 'V'), ('ngậm mồm', 'V'), ('vào', 'E'), ('tắt âm', 'N'), ('đê', 'N'), ('ko', 'N'), ('ngủ', 'V'), ('để', 'E'), ('ngkhac', 'V'), ('ngủ', 'V'), (',', 'CH'), ('lớn', 'A'), ('rồi', 'C'), ('ý thức', 'V'), ('lên', 'V'), ('ttnv', 'M')]\n",
      "pos_tag_of_text 1:  [('Ngày mai', 'N'), (',', 'CH'), ('tôi', 'P'), ('sẽ', 'R'), ('đi', 'V'), ('học', 'V')]\n",
      "pos_tag_of_text 2:  [('kiếm', 'V'), ('mập_mờ', 'N'), ('malibu', 'V'), ('gấp', 'V'), ('lạnh', 'A'), ('lắm', 'R'), ('rồiiiiiii', 'M')]\n",
      "pos_tagging_drop text 0:  D đ t cụ thằng ptit malibu giờ đi ngủ ngậm mồm tắt âm đê ko ngủ ngkhac ngủ lớn ý thức lên\n",
      "pos_tagging_drop text 1:  Ngày mai tôi đi học\n",
      "pos_tagging_drop text 2:  kiếm mập_mờ malibu gấp lạnh\n",
      "remove_syntax_in_word text 0:  cụ mấy thằng ptit ở malibu giờ đi ngủ ngậm mồm vào tắt âm đê ko ngủ để ngkhac ngủ, lớn rồi ý thức lên ttnv\n",
      "remove_syntax_in_word text 1:  Ngày mai, tôi sẽ đi học\n",
      "remove_syntax_in_word text 2:  kiếm mập_mờ malibu gấp lạnh lắm rồiiiiiii\n",
      "scale_word_summary text 0:  ******D đ****t cụ mấy thằng ptit ở malibu giờ đi ngủ ngậm mồm vào tắt âm đê không ngủ để người_khác ngủ, lớn rồi ý thức lên thứ_thự_nguyện_vọng\n",
      "scale_word_summary text 1:  Ngày mai, tôi sẽ đi học\n",
      "scale_word_summary text 2:  kiếm mập_mờ malibu gấp lạnh lắm rồiiiiiii\n"
     ]
    }
   ],
   "source": [
    "import underthesea\n",
    "import re\n",
    "import json\n",
    "text = '******D đ****t cụ mấy thằng ptit ở malibu giờ đi ngủ ngậm mồm vào tắt âm đê ko ngủ để ngkhac ngủ, lớn rồi ý thức lên ttnv'\n",
    "text1 ='Ngày mai, tôi sẽ đi học'\n",
    "text2 = 'kiếm mập_mờ malibu gấp lạnh lắm rồiiiiiii'\n",
    "print('text 0: ',text)\n",
    "print('text 1: ',text1)\n",
    "print('text 2: ',text2)\n",
    "\n",
    "print('pos_tag_of_text 0: ',underthesea.pos_tag(text))\n",
    "print('pos_tag_of_text 1: ',underthesea.pos_tag(text1))\n",
    "print('pos_tag_of_text 2: ',underthesea.pos_tag(text2))\n",
    "def pos_tagging_drop(text):\n",
    "    list_dict = underthesea.pos_tag(text)\n",
    "    list_word = []\n",
    "    for i,val in list_dict:\n",
    "        if val  not in ['CH', 'L', 'M', 'R', 'E', 'C', 'I', 'T', 'X', 'Y']:\n",
    "            list_word.append(i)\n",
    "    return ' '.join(list_word)\n",
    "\n",
    "print('pos_tagging_drop text 0: ',pos_tagging_drop(text))\n",
    "print('pos_tagging_drop text 1: ',pos_tagging_drop(text1))\n",
    "print('pos_tagging_drop text 2: ',pos_tagging_drop(text2))\n",
    "def remove_syntax_in_word(text):\n",
    "    text = re.sub(r'\\w*[\\+\\-\\/\\*\\%\\=\\(\\)\\[\\]\\{\\}]\\w*\\s?', '', text).strip()\n",
    "    return text\n",
    "\n",
    "print('remove_syntax_in_word text 0: ',remove_syntax_in_word(text))\n",
    "print('remove_syntax_in_word text 1: ',remove_syntax_in_word(text1))\n",
    "print('remove_syntax_in_word text 2: ',remove_syntax_in_word(text2))\n",
    "def scale_word_summary(text):\n",
    "    with open('./data_test/word_summary.json', 'r', encoding='utf-8') as f:\n",
    "        word_summary = json.load(f)\n",
    "    text = text.split()\n",
    "    for i, word in enumerate(text):\n",
    "        for key, value in word_summary.items():\n",
    "            key = key.split('|')\n",
    "            if word in key:\n",
    "                text[i] = re.sub(r'\\s+','_',value)\n",
    "    return ' '.join(text)\n",
    "\n",
    "print('scale_word_summary text 0: ',scale_word_summary(text))\n",
    "print('scale_word_summary text 1: ',scale_word_summary(text1)) \n",
    "print('scale_word_summary text 2: ',scale_word_summary(text2))"
   ]
  },
  {
   "cell_type": "code",
   "execution_count": 7,
   "metadata": {},
   "outputs": [
    {
     "name": "stdout",
     "output_type": "stream",
     "text": [
      "remove_word_hash text 1:  <Góc những trái t❤m đi lạc>\n",
      "Xin chào các PTITers, mình là gơn AOF, tối hôm chào tân The Railway của AOF thì mình thấy có 1 bạn PTIT đến và có chụp mấy ảnh 0,5x trong lúc đợi DJ chơi nhạc. Nhưng mà lúc về vì mọi người chen lấn, xô đẩy quá nên mình không kịp xin ảnh. Mình mong up lên đây có thể tìm được bạn và xin mấy tấm ảnh làm kỷ niệm ạ\n",
      "\n",
      "mình có gặp một bạn nữ tham gia sự kiện ITFest trên HoLa rất cute nhưng chưa kịp xin in4 thì bạn đi mất rồi. Bạn ý người nhỏ nhắn , mặc áo trắng , cầm ô đứng bên trên lệch trái hướng về phía sân theo mình quan sát là bạn dùng . Bạn ý đứng cùng một chị khác mặc áo đen học bk. Mình thấy bạn vừa cầm ô vừa chụp hình khá khó nên có giúp bạn cầm ô 1 chút xíu .Nếu bạn thấy được cfs này và có thể cho mình xin in4 thì bạn cmt cho mình với hoặc bạn stt này được k , mình sẽ chủ động kết bạn với bạn.\n",
      "\n",
      "-\\-\\-\\-\\-\\-\\-\\-\\-\\-\\-\\-\\-\\-\\-\\-\\-\\-\\-\\-\\-\\-\\-\\-\\-\\-\\-\\-\\-\\-\\-\\-\\-\n",
      "💥 GỬI CFS /.PTIT Confessions Offical ptitcfs.hanoi@gmail.com\n"
     ]
    }
   ],
   "source": [
    "text = \"\"\"\n",
    "<Góc những trái t❤m đi lạc>\n",
    "#cfs17330\n",
    "Xin chào các PTITers, mình là gơn AOF, tối hôm chào tân The Railway của AOF thì mình thấy có 1 bạn PTIT đến và có chụp mấy ảnh 0,5x trong lúc đợi DJ chơi nhạc. Nhưng mà lúc về vì mọi người chen lấn, xô đẩy quá nên mình không kịp xin ảnh. Mình mong up lên đây có thể tìm được bạn và xin mấy tấm ảnh làm kỷ niệm ạ\n",
    "\n",
    "#cfs17331\n",
    "Hôm* 12/11 mình có gặp một bạn nữ tham gia sự kiện ITFest trên HoLa rất cute nhưng chưa kịp xin in4 thì bạn đi mất rồi. Bạn ý người nhỏ nhắn , mặc áo trắng , cầm ô đứng bên trên lệch trái hướng về phía sân khấu( theo mình quan sát là bạn dùng samsung). Bạn ý đứng cùng một chị khác mặc áo đen học bk. Mình thấy bạn vừa cầm ô vừa chụp hình khá khó nên có giúp bạn cầm ô 1 chút xíu .Nếu bạn thấy được cfs này và có thể cho mình xin in4 thì bạn cmt cho mình với nha( hoặc bạn stt này được k ạ), mình sẽ chủ động kết bạn với bạn.\n",
    "\n",
    "-\\-\\-\\-\\-\\-\\-\\-\\-\\-\\-\\-\\-\\-\\-\\-\\-\\-\\-\\-\\-\\-\\-\\-\\-\\-\\-\\-\\-\\-\\-\\-\\-\n",
    "💥 GỬI CFS TẠI: http://bit.ly/ptitcfshn\n",
    "PTIT Confessions Offical (since 2013)\n",
    "Email: ptitcfs.hanoi@gmail.com\n",
    "\n",
    "#ptitconfessions #ptitcfs #ptitcogivui #sinhvienptit #congdongptit #ptitmaidinh\n",
    "\"\"\"\n",
    "def remove_special_character_in_word(text):\n",
    "    text = re.sub(r'\\w+[\\+\\-\\/\\*\\%\\=\\:\\(\\)\\[\\]\\{\\}]\\w+\\s?', '', text).strip()\n",
    "    text = re.sub(r'[\\#\\+\\-\\/\\*\\%\\=\\:\\(\\)\\[\\]\\{\\}]\\w+\\s?', '', text).strip()\n",
    "    text = re.sub(r'\\w+[\\+\\-\\/\\*\\%\\=\\:\\(\\)\\[\\]\\{\\}]\\s?', '', text).strip()\n",
    "    return text\n",
    "\n",
    "# print('remove_word_hash text 0: ',remove_word_hash(text))\n",
    "print('remove_word_hash text 1: ',remove_special_character_in_word(text))"
   ]
  },
  {
   "cell_type": "code",
   "execution_count": 10,
   "metadata": {},
   "outputs": [
    {
     "name": "stdout",
     "output_type": "stream",
     "text": [
      "Số lần xuất hiện của mỗi giá trị:\n",
      "Name\n",
      "B    3\n",
      "C    2\n",
      "A    1\n",
      "Name: count, dtype: int64\n",
      "\n",
      "Số lần xuất hiện được sắp xếp theo chỉ số:\n",
      "Name\n",
      "A    1\n",
      "B    3\n",
      "C    2\n",
      "Name: count, dtype: int64\n"
     ]
    }
   ],
   "source": [
    "import pandas as pd\n",
    "\n",
    "# Tạo DataFrame giả định\n",
    "data = {'Name': ['C','C', 'B','B','B','A']}\n",
    "df = pd.DataFrame(data)\n",
    "\n",
    "# Đếm số lần xuất hiện của mỗi giá trị trong cột 'Name'\n",
    "value_counts = df['Name'].value_counts()\n",
    "\n",
    "# Sắp xếp theo chỉ số (tên)\n",
    "sorted_counts = value_counts.sort_index()\n",
    "\n",
    "print(\"Số lần xuất hiện của mỗi giá trị:\")\n",
    "print(value_counts)\n",
    "\n",
    "print(\"\\nSố lần xuất hiện được sắp xếp theo chỉ số:\")\n",
    "print(sorted_counts)\n",
    "\n"
   ]
  },
  {
   "cell_type": "code",
   "execution_count": 1,
   "metadata": {},
   "outputs": [
    {
     "name": "stdout",
     "output_type": "stream",
     "text": [
      "text 2:  thời gian sắp hết rồi đăng ký sớm các em nhé những sv nào đã đăng ký xong thì nộp hồ sơ bản cứng về ô số 6 văn phòng giao dịch 1 cửa cho cô nhé thanks all  daotaoptiteduvn thông báo kế hoạch tổ chức thi cấp chứng chỉ toeic quốc tế (đợt thi tháng 12/2023)  pika chuss‎d20 ptit hà nội 23 tháng 10 lúc 09:51 ·\n"
     ]
    }
   ],
   "source": [
    "txt = \"text 2:  thời gian sắp hết rồi đăng ký sớm các em nhé những sv nào đã đăng ký xong thì nộp hồ sơ bản cứng về ô số 6 văn phòng giao dịch 1 cửa cho cô nhé thanks all  daotaoptiteduvn thông báo kế hoạch tổ chức thi cấp chứng chỉ toeic quốc tế (đợt thi tháng 12/2023)  pika chuss‎d20 ptit hà nội 23 tháng 10 lúc 09:51 ·\"\n",
    "print(txt)"
   ]
  },
  {
   "cell_type": "code",
   "execution_count": 2,
   "metadata": {},
   "outputs": [
    {
     "name": "stdout",
     "output_type": "stream",
     "text": [
      "text 0:  thế là cũng xong xuôi nhập học rồi nhỉ mini game nhỏ không  đơn giản thôi cmt bất cứ điều gì bạn thấy ấn tượng nhất trong 2 ngày nhập học hoặc đơn giản là cảm nhận của bạn đính kèm ảnh\\video thì càng tốt  1xem thêm cmt nhiều like nhất chủ cmt sẽ được “đặc quyền” đăng bài không cần kiểm duyệt trong gr d22 kèm móc khoá độc quyền của tôi yêu ptit mình sẽ đóng cmt vào 20h ngày 13/10  welcome d22 #toiyeuptit\n"
     ]
    }
   ],
   "source": [
    "txt = \"text 0:  thế là cũng xong xuôi nhập học rồi nhỉ mini game nhỏ không  đơn giản thôi cmt bất cứ điều gì bạn thấy ấn tượng nhất trong 2 ngày nhập học hoặc đơn giản là cảm nhận của bạn đính kèm ảnh\\\\video thì càng tốt  1xem thêm cmt nhiều like nhất chủ cmt sẽ được “đặc quyền” đăng bài không cần kiểm duyệt trong gr d22 kèm móc khoá độc quyền của tôi yêu ptit mình sẽ đóng cmt vào 20h ngày 13/10  welcome d22 #toiyeuptit\"\n",
    "print(txt)"
   ]
  }
 ],
 "metadata": {
  "kernelspec": {
   "display_name": "bertopic",
   "language": "python",
   "name": "python3"
  },
  "language_info": {
   "codemirror_mode": {
    "name": "ipython",
    "version": 3
   },
   "file_extension": ".py",
   "mimetype": "text/x-python",
   "name": "python",
   "nbconvert_exporter": "python",
   "pygments_lexer": "ipython3",
   "version": "3.10.6"
  }
 },
 "nbformat": 4,
 "nbformat_minor": 2
}
